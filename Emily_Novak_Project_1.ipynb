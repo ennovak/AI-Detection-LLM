{
  "nbformat": 4,
  "nbformat_minor": 0,
  "metadata": {
    "colab": {
      "provenance": [],
      "authorship_tag": "ABX9TyM3u4gNwczK9+nZ9p/aIi9x",
      "include_colab_link": true
    },
    "kernelspec": {
      "name": "python3",
      "display_name": "Python 3"
    },
    "language_info": {
      "name": "python"
    }
  },
  "cells": [
    {
      "cell_type": "markdown",
      "metadata": {
        "id": "view-in-github",
        "colab_type": "text"
      },
      "source": [
        "<a href=\"https://colab.research.google.com/github/ennovak/AI-Detection-LLM/blob/main/Emily_Novak_Project_1.ipynb\" target=\"_parent\"><img src=\"https://colab.research.google.com/assets/colab-badge.svg\" alt=\"Open In Colab\"/></a>"
      ]
    },
    {
      "cell_type": "markdown",
      "source": [
        "# **1. Data Analysis**"
      ],
      "metadata": {
        "id": "3IxsI5wmMpxT"
      }
    },
    {
      "cell_type": "code",
      "execution_count": 1,
      "metadata": {
        "colab": {
          "base_uri": "https://localhost:8080/"
        },
        "id": "36Bzbv45LX4X",
        "outputId": "2bcd8e68-7dfa-4e5a-b56f-1ef38a90909d"
      },
      "outputs": [
        {
          "output_type": "stream",
          "name": "stderr",
          "text": [
            "[nltk_data] Downloading package wordnet to /root/nltk_data...\n",
            "[nltk_data] Downloading package omw-1.4 to /root/nltk_data...\n",
            "[nltk_data] Downloading package punkt to /root/nltk_data...\n",
            "[nltk_data]   Unzipping tokenizers/punkt.zip.\n",
            "[nltk_data] Downloading package punkt_tab to /root/nltk_data...\n",
            "[nltk_data]   Unzipping tokenizers/punkt_tab.zip.\n",
            "[nltk_data] Downloading package stopwords to /root/nltk_data...\n",
            "[nltk_data]   Unzipping corpora/stopwords.zip.\n",
            "[nltk_data] Downloading package averaged_perceptron_tagger to\n",
            "[nltk_data]     /root/nltk_data...\n",
            "[nltk_data]   Unzipping taggers/averaged_perceptron_tagger.zip.\n",
            "[nltk_data] Downloading package averaged_perceptron_tagger_eng to\n",
            "[nltk_data]     /root/nltk_data...\n",
            "[nltk_data]   Unzipping taggers/averaged_perceptron_tagger_eng.zip.\n",
            "[nltk_data] Downloading package tagsets_json to /root/nltk_data...\n"
          ]
        },
        {
          "output_type": "stream",
          "name": "stdout",
          "text": [
            "\n",
            " All libraries imported successfully!\n"
          ]
        },
        {
          "output_type": "stream",
          "name": "stderr",
          "text": [
            "[nltk_data]   Unzipping help/tagsets_json.zip.\n"
          ]
        }
      ],
      "source": [
        "# Import necessary libraries for data manipulation, visualization, and machine learning\n",
        "import pandas as pd\n",
        "import numpy as np\n",
        "import matplotlib.pyplot as plt\n",
        "import seaborn as sns\n",
        "import re\n",
        "import joblib\n",
        "import string\n",
        "import math\n",
        "import time\n",
        "\n",
        "# Sklearn libraries for machine learning and text processing\n",
        "from sklearn.feature_extraction.text import TfidfVectorizer, CountVectorizer\n",
        "from sklearn.naive_bayes import MultinomialNB\n",
        "from sklearn.svm import SVC\n",
        "from sklearn.linear_model import LogisticRegression\n",
        "from sklearn.ensemble import RandomForestClassifier\n",
        "from sklearn.model_selection import train_test_split, GridSearchCV, cross_val_score, StratifiedKFold, cross_validate, validation_curve, learning_curve\n",
        "from sklearn.pipeline import Pipeline, FeatureUnion\n",
        "from sklearn.preprocessing import StandardScaler, FunctionTransformer\n",
        "from sklearn import metrics\n",
        "\n",
        "\n",
        "# NLTK libraries for text processing (lemmatization, stemming, stopwords, POS tagging)\n",
        "import nltk\n",
        "from nltk.corpus import stopwords, wordnet\n",
        "from nltk.stem import WordNetLemmatizer, PorterStemmer\n",
        "from nltk.tokenize import word_tokenize\n",
        "\n",
        "# Set up visualization\n",
        "%matplotlib inline\n",
        "import matplotlib.pyplot as plt\n",
        "sns.set_style(\"whitegrid\")\n",
        "plt.style.use(\"fivethirtyeight\")\n",
        "\n",
        "# Download necessary NLTK resources for text processing\n",
        "nltk.download('wordnet')  # WordNet for lemmatization\n",
        "nltk.download('omw-1.4')  # Open Multilingual Wordnet\n",
        "nltk.download('punkt')  # Tokenizer\n",
        "nltk.download('punkt_tab')\n",
        "nltk.download('stopwords')  # Stopwords for text cleaning\n",
        "nltk.download('averaged_perceptron_tagger')  # POS tagger for part-of-speech tagging\n",
        "nltk.download('averaged_perceptron_tagger_eng')  # Additional tagger\n",
        "nltk.download('tagsets_json')  # Tagset resource\n",
        "\n",
        "print(\"\\n All libraries imported successfully!\")"
      ]
    },
    {
      "cell_type": "code",
      "source": [
        "# Import Data\n",
        "from google.colab import files\n",
        "uploaded = files.upload()"
      ],
      "metadata": {
        "colab": {
          "base_uri": "https://localhost:8080/",
          "height": 108
        },
        "id": "vRBjIdUQM1pP",
        "outputId": "da89fc27-dc7d-4851-b6ee-dfe5ff131823"
      },
      "execution_count": 2,
      "outputs": [
        {
          "output_type": "display_data",
          "data": {
            "text/plain": [
              "<IPython.core.display.HTML object>"
            ],
            "text/html": [
              "\n",
              "     <input type=\"file\" id=\"files-3014b8b0-5436-4f92-945e-df5ac15bff4e\" name=\"files[]\" multiple disabled\n",
              "        style=\"border:none\" />\n",
              "     <output id=\"result-3014b8b0-5436-4f92-945e-df5ac15bff4e\">\n",
              "      Upload widget is only available when the cell has been executed in the\n",
              "      current browser session. Please rerun this cell to enable.\n",
              "      </output>\n",
              "      <script>// Copyright 2017 Google LLC\n",
              "//\n",
              "// Licensed under the Apache License, Version 2.0 (the \"License\");\n",
              "// you may not use this file except in compliance with the License.\n",
              "// You may obtain a copy of the License at\n",
              "//\n",
              "//      http://www.apache.org/licenses/LICENSE-2.0\n",
              "//\n",
              "// Unless required by applicable law or agreed to in writing, software\n",
              "// distributed under the License is distributed on an \"AS IS\" BASIS,\n",
              "// WITHOUT WARRANTIES OR CONDITIONS OF ANY KIND, either express or implied.\n",
              "// See the License for the specific language governing permissions and\n",
              "// limitations under the License.\n",
              "\n",
              "/**\n",
              " * @fileoverview Helpers for google.colab Python module.\n",
              " */\n",
              "(function(scope) {\n",
              "function span(text, styleAttributes = {}) {\n",
              "  const element = document.createElement('span');\n",
              "  element.textContent = text;\n",
              "  for (const key of Object.keys(styleAttributes)) {\n",
              "    element.style[key] = styleAttributes[key];\n",
              "  }\n",
              "  return element;\n",
              "}\n",
              "\n",
              "// Max number of bytes which will be uploaded at a time.\n",
              "const MAX_PAYLOAD_SIZE = 100 * 1024;\n",
              "\n",
              "function _uploadFiles(inputId, outputId) {\n",
              "  const steps = uploadFilesStep(inputId, outputId);\n",
              "  const outputElement = document.getElementById(outputId);\n",
              "  // Cache steps on the outputElement to make it available for the next call\n",
              "  // to uploadFilesContinue from Python.\n",
              "  outputElement.steps = steps;\n",
              "\n",
              "  return _uploadFilesContinue(outputId);\n",
              "}\n",
              "\n",
              "// This is roughly an async generator (not supported in the browser yet),\n",
              "// where there are multiple asynchronous steps and the Python side is going\n",
              "// to poll for completion of each step.\n",
              "// This uses a Promise to block the python side on completion of each step,\n",
              "// then passes the result of the previous step as the input to the next step.\n",
              "function _uploadFilesContinue(outputId) {\n",
              "  const outputElement = document.getElementById(outputId);\n",
              "  const steps = outputElement.steps;\n",
              "\n",
              "  const next = steps.next(outputElement.lastPromiseValue);\n",
              "  return Promise.resolve(next.value.promise).then((value) => {\n",
              "    // Cache the last promise value to make it available to the next\n",
              "    // step of the generator.\n",
              "    outputElement.lastPromiseValue = value;\n",
              "    return next.value.response;\n",
              "  });\n",
              "}\n",
              "\n",
              "/**\n",
              " * Generator function which is called between each async step of the upload\n",
              " * process.\n",
              " * @param {string} inputId Element ID of the input file picker element.\n",
              " * @param {string} outputId Element ID of the output display.\n",
              " * @return {!Iterable<!Object>} Iterable of next steps.\n",
              " */\n",
              "function* uploadFilesStep(inputId, outputId) {\n",
              "  const inputElement = document.getElementById(inputId);\n",
              "  inputElement.disabled = false;\n",
              "\n",
              "  const outputElement = document.getElementById(outputId);\n",
              "  outputElement.innerHTML = '';\n",
              "\n",
              "  const pickedPromise = new Promise((resolve) => {\n",
              "    inputElement.addEventListener('change', (e) => {\n",
              "      resolve(e.target.files);\n",
              "    });\n",
              "  });\n",
              "\n",
              "  const cancel = document.createElement('button');\n",
              "  inputElement.parentElement.appendChild(cancel);\n",
              "  cancel.textContent = 'Cancel upload';\n",
              "  const cancelPromise = new Promise((resolve) => {\n",
              "    cancel.onclick = () => {\n",
              "      resolve(null);\n",
              "    };\n",
              "  });\n",
              "\n",
              "  // Wait for the user to pick the files.\n",
              "  const files = yield {\n",
              "    promise: Promise.race([pickedPromise, cancelPromise]),\n",
              "    response: {\n",
              "      action: 'starting',\n",
              "    }\n",
              "  };\n",
              "\n",
              "  cancel.remove();\n",
              "\n",
              "  // Disable the input element since further picks are not allowed.\n",
              "  inputElement.disabled = true;\n",
              "\n",
              "  if (!files) {\n",
              "    return {\n",
              "      response: {\n",
              "        action: 'complete',\n",
              "      }\n",
              "    };\n",
              "  }\n",
              "\n",
              "  for (const file of files) {\n",
              "    const li = document.createElement('li');\n",
              "    li.append(span(file.name, {fontWeight: 'bold'}));\n",
              "    li.append(span(\n",
              "        `(${file.type || 'n/a'}) - ${file.size} bytes, ` +\n",
              "        `last modified: ${\n",
              "            file.lastModifiedDate ? file.lastModifiedDate.toLocaleDateString() :\n",
              "                                    'n/a'} - `));\n",
              "    const percent = span('0% done');\n",
              "    li.appendChild(percent);\n",
              "\n",
              "    outputElement.appendChild(li);\n",
              "\n",
              "    const fileDataPromise = new Promise((resolve) => {\n",
              "      const reader = new FileReader();\n",
              "      reader.onload = (e) => {\n",
              "        resolve(e.target.result);\n",
              "      };\n",
              "      reader.readAsArrayBuffer(file);\n",
              "    });\n",
              "    // Wait for the data to be ready.\n",
              "    let fileData = yield {\n",
              "      promise: fileDataPromise,\n",
              "      response: {\n",
              "        action: 'continue',\n",
              "      }\n",
              "    };\n",
              "\n",
              "    // Use a chunked sending to avoid message size limits. See b/62115660.\n",
              "    let position = 0;\n",
              "    do {\n",
              "      const length = Math.min(fileData.byteLength - position, MAX_PAYLOAD_SIZE);\n",
              "      const chunk = new Uint8Array(fileData, position, length);\n",
              "      position += length;\n",
              "\n",
              "      const base64 = btoa(String.fromCharCode.apply(null, chunk));\n",
              "      yield {\n",
              "        response: {\n",
              "          action: 'append',\n",
              "          file: file.name,\n",
              "          data: base64,\n",
              "        },\n",
              "      };\n",
              "\n",
              "      let percentDone = fileData.byteLength === 0 ?\n",
              "          100 :\n",
              "          Math.round((position / fileData.byteLength) * 100);\n",
              "      percent.textContent = `${percentDone}% done`;\n",
              "\n",
              "    } while (position < fileData.byteLength);\n",
              "  }\n",
              "\n",
              "  // All done.\n",
              "  yield {\n",
              "    response: {\n",
              "      action: 'complete',\n",
              "    }\n",
              "  };\n",
              "}\n",
              "\n",
              "scope.google = scope.google || {};\n",
              "scope.google.colab = scope.google.colab || {};\n",
              "scope.google.colab._files = {\n",
              "  _uploadFiles,\n",
              "  _uploadFilesContinue,\n",
              "};\n",
              "})(self);\n",
              "</script> "
            ]
          },
          "metadata": {}
        },
        {
          "output_type": "stream",
          "name": "stdout",
          "text": [
            "Saving AI_vs_huam_train_dataset.xlsx to AI_vs_huam_train_dataset.xlsx\n",
            "Saving Final_test_data.csv to Final_test_data.csv\n"
          ]
        }
      ]
    },
    {
      "cell_type": "code",
      "source": [
        "# Read Data\n",
        "df_train = pd.read_excel('AI_vs_huam_train_dataset.xlsx')\n",
        "df_test = pd.read_csv('Final_test_data.csv')"
      ],
      "metadata": {
        "id": "_v02i1ZENDBC"
      },
      "execution_count": 3,
      "outputs": []
    },
    {
      "cell_type": "code",
      "source": [
        "print(\"Dataset Information:\")\n",
        "print(f\"Training data shape: {df_train.shape}\")\n",
        "print(f\"Test data shape: {df_test.shape}\")\n",
        "print(f\"Columns: {df_train.columns.tolist()}\")\n",
        "\n",
        "# Show first few rows\n",
        "print(\"\\nFirst 5 rows of training data:\")\n",
        "print(df_train.head())\n",
        "\n",
        "# Check sentiment distribution\n",
        "print(\"\\nLabel distribution:\")\n",
        "print(df_train['label'].value_counts())"
      ],
      "metadata": {
        "colab": {
          "base_uri": "https://localhost:8080/"
        },
        "id": "774zbOMhNT_k",
        "outputId": "f8449203-80df-4904-9bcd-d48997702455"
      },
      "execution_count": 5,
      "outputs": [
        {
          "output_type": "stream",
          "name": "stdout",
          "text": [
            "Dataset Information:\n",
            "Training data shape: (3728, 2)\n",
            "Test data shape: (869, 2)\n",
            "Columns: ['essay', 'label']\n",
            "\n",
            "First 5 rows of training data:\n",
            "                                               essay  label\n",
            "0  International sports events require the most w...      0\n",
            "1  Globalisation has become a significant aspect ...      0\n",
            "2  There is an ever-increasing number of bullying...      0\n",
            "3  It is commonly believed, that companies should...      0\n",
            "4  Despite knowing about the adverse effects of c...      0\n",
            "\n",
            "Label distribution:\n",
            "label\n",
            "0    1864\n",
            "1    1864\n",
            "Name: count, dtype: int64\n"
          ]
        }
      ]
    },
    {
      "cell_type": "code",
      "source": [
        "df_train.groupby('label').describe()"
      ],
      "metadata": {
        "colab": {
          "base_uri": "https://localhost:8080/",
          "height": 175
        },
        "id": "OCHdNw7INYrL",
        "outputId": "d4b11d8b-096e-4cbc-c678-ed0b0fbdc8a1"
      },
      "execution_count": 7,
      "outputs": [
        {
          "output_type": "execute_result",
          "data": {
            "text/plain": [
              "      essay                                                               \n",
              "      count unique                                                top freq\n",
              "label                                                                     \n",
              "0      1864   1864  Eessential way to succeed is trying new things...    1\n",
              "1      1864   1864  The key to success is trying new things while ...    1"
            ],
            "text/html": [
              "\n",
              "  <div id=\"df-1228c91f-2871-4313-bb0d-0212a0bea73f\" class=\"colab-df-container\">\n",
              "    <div>\n",
              "<style scoped>\n",
              "    .dataframe tbody tr th:only-of-type {\n",
              "        vertical-align: middle;\n",
              "    }\n",
              "\n",
              "    .dataframe tbody tr th {\n",
              "        vertical-align: top;\n",
              "    }\n",
              "\n",
              "    .dataframe thead tr th {\n",
              "        text-align: left;\n",
              "    }\n",
              "\n",
              "    .dataframe thead tr:last-of-type th {\n",
              "        text-align: right;\n",
              "    }\n",
              "</style>\n",
              "<table border=\"1\" class=\"dataframe\">\n",
              "  <thead>\n",
              "    <tr>\n",
              "      <th></th>\n",
              "      <th colspan=\"4\" halign=\"left\">essay</th>\n",
              "    </tr>\n",
              "    <tr>\n",
              "      <th></th>\n",
              "      <th>count</th>\n",
              "      <th>unique</th>\n",
              "      <th>top</th>\n",
              "      <th>freq</th>\n",
              "    </tr>\n",
              "    <tr>\n",
              "      <th>label</th>\n",
              "      <th></th>\n",
              "      <th></th>\n",
              "      <th></th>\n",
              "      <th></th>\n",
              "    </tr>\n",
              "  </thead>\n",
              "  <tbody>\n",
              "    <tr>\n",
              "      <th>0</th>\n",
              "      <td>1864</td>\n",
              "      <td>1864</td>\n",
              "      <td>Eessential way to succeed is trying new things...</td>\n",
              "      <td>1</td>\n",
              "    </tr>\n",
              "    <tr>\n",
              "      <th>1</th>\n",
              "      <td>1864</td>\n",
              "      <td>1864</td>\n",
              "      <td>The key to success is trying new things while ...</td>\n",
              "      <td>1</td>\n",
              "    </tr>\n",
              "  </tbody>\n",
              "</table>\n",
              "</div>\n",
              "    <div class=\"colab-df-buttons\">\n",
              "\n",
              "  <div class=\"colab-df-container\">\n",
              "    <button class=\"colab-df-convert\" onclick=\"convertToInteractive('df-1228c91f-2871-4313-bb0d-0212a0bea73f')\"\n",
              "            title=\"Convert this dataframe to an interactive table.\"\n",
              "            style=\"display:none;\">\n",
              "\n",
              "  <svg xmlns=\"http://www.w3.org/2000/svg\" height=\"24px\" viewBox=\"0 -960 960 960\">\n",
              "    <path d=\"M120-120v-720h720v720H120Zm60-500h600v-160H180v160Zm220 220h160v-160H400v160Zm0 220h160v-160H400v160ZM180-400h160v-160H180v160Zm440 0h160v-160H620v160ZM180-180h160v-160H180v160Zm440 0h160v-160H620v160Z\"/>\n",
              "  </svg>\n",
              "    </button>\n",
              "\n",
              "  <style>\n",
              "    .colab-df-container {\n",
              "      display:flex;\n",
              "      gap: 12px;\n",
              "    }\n",
              "\n",
              "    .colab-df-convert {\n",
              "      background-color: #E8F0FE;\n",
              "      border: none;\n",
              "      border-radius: 50%;\n",
              "      cursor: pointer;\n",
              "      display: none;\n",
              "      fill: #1967D2;\n",
              "      height: 32px;\n",
              "      padding: 0 0 0 0;\n",
              "      width: 32px;\n",
              "    }\n",
              "\n",
              "    .colab-df-convert:hover {\n",
              "      background-color: #E2EBFA;\n",
              "      box-shadow: 0px 1px 2px rgba(60, 64, 67, 0.3), 0px 1px 3px 1px rgba(60, 64, 67, 0.15);\n",
              "      fill: #174EA6;\n",
              "    }\n",
              "\n",
              "    .colab-df-buttons div {\n",
              "      margin-bottom: 4px;\n",
              "    }\n",
              "\n",
              "    [theme=dark] .colab-df-convert {\n",
              "      background-color: #3B4455;\n",
              "      fill: #D2E3FC;\n",
              "    }\n",
              "\n",
              "    [theme=dark] .colab-df-convert:hover {\n",
              "      background-color: #434B5C;\n",
              "      box-shadow: 0px 1px 3px 1px rgba(0, 0, 0, 0.15);\n",
              "      filter: drop-shadow(0px 1px 2px rgba(0, 0, 0, 0.3));\n",
              "      fill: #FFFFFF;\n",
              "    }\n",
              "  </style>\n",
              "\n",
              "    <script>\n",
              "      const buttonEl =\n",
              "        document.querySelector('#df-1228c91f-2871-4313-bb0d-0212a0bea73f button.colab-df-convert');\n",
              "      buttonEl.style.display =\n",
              "        google.colab.kernel.accessAllowed ? 'block' : 'none';\n",
              "\n",
              "      async function convertToInteractive(key) {\n",
              "        const element = document.querySelector('#df-1228c91f-2871-4313-bb0d-0212a0bea73f');\n",
              "        const dataTable =\n",
              "          await google.colab.kernel.invokeFunction('convertToInteractive',\n",
              "                                                    [key], {});\n",
              "        if (!dataTable) return;\n",
              "\n",
              "        const docLinkHtml = 'Like what you see? Visit the ' +\n",
              "          '<a target=\"_blank\" href=https://colab.research.google.com/notebooks/data_table.ipynb>data table notebook</a>'\n",
              "          + ' to learn more about interactive tables.';\n",
              "        element.innerHTML = '';\n",
              "        dataTable['output_type'] = 'display_data';\n",
              "        await google.colab.output.renderOutput(dataTable, element);\n",
              "        const docLink = document.createElement('div');\n",
              "        docLink.innerHTML = docLinkHtml;\n",
              "        element.appendChild(docLink);\n",
              "      }\n",
              "    </script>\n",
              "  </div>\n",
              "\n",
              "\n",
              "    <div id=\"df-e6a39dc4-4d3a-4530-a857-52f685b8cc89\">\n",
              "      <button class=\"colab-df-quickchart\" onclick=\"quickchart('df-e6a39dc4-4d3a-4530-a857-52f685b8cc89')\"\n",
              "                title=\"Suggest charts\"\n",
              "                style=\"display:none;\">\n",
              "\n",
              "<svg xmlns=\"http://www.w3.org/2000/svg\" height=\"24px\"viewBox=\"0 0 24 24\"\n",
              "     width=\"24px\">\n",
              "    <g>\n",
              "        <path d=\"M19 3H5c-1.1 0-2 .9-2 2v14c0 1.1.9 2 2 2h14c1.1 0 2-.9 2-2V5c0-1.1-.9-2-2-2zM9 17H7v-7h2v7zm4 0h-2V7h2v10zm4 0h-2v-4h2v4z\"/>\n",
              "    </g>\n",
              "</svg>\n",
              "      </button>\n",
              "\n",
              "<style>\n",
              "  .colab-df-quickchart {\n",
              "      --bg-color: #E8F0FE;\n",
              "      --fill-color: #1967D2;\n",
              "      --hover-bg-color: #E2EBFA;\n",
              "      --hover-fill-color: #174EA6;\n",
              "      --disabled-fill-color: #AAA;\n",
              "      --disabled-bg-color: #DDD;\n",
              "  }\n",
              "\n",
              "  [theme=dark] .colab-df-quickchart {\n",
              "      --bg-color: #3B4455;\n",
              "      --fill-color: #D2E3FC;\n",
              "      --hover-bg-color: #434B5C;\n",
              "      --hover-fill-color: #FFFFFF;\n",
              "      --disabled-bg-color: #3B4455;\n",
              "      --disabled-fill-color: #666;\n",
              "  }\n",
              "\n",
              "  .colab-df-quickchart {\n",
              "    background-color: var(--bg-color);\n",
              "    border: none;\n",
              "    border-radius: 50%;\n",
              "    cursor: pointer;\n",
              "    display: none;\n",
              "    fill: var(--fill-color);\n",
              "    height: 32px;\n",
              "    padding: 0;\n",
              "    width: 32px;\n",
              "  }\n",
              "\n",
              "  .colab-df-quickchart:hover {\n",
              "    background-color: var(--hover-bg-color);\n",
              "    box-shadow: 0 1px 2px rgba(60, 64, 67, 0.3), 0 1px 3px 1px rgba(60, 64, 67, 0.15);\n",
              "    fill: var(--button-hover-fill-color);\n",
              "  }\n",
              "\n",
              "  .colab-df-quickchart-complete:disabled,\n",
              "  .colab-df-quickchart-complete:disabled:hover {\n",
              "    background-color: var(--disabled-bg-color);\n",
              "    fill: var(--disabled-fill-color);\n",
              "    box-shadow: none;\n",
              "  }\n",
              "\n",
              "  .colab-df-spinner {\n",
              "    border: 2px solid var(--fill-color);\n",
              "    border-color: transparent;\n",
              "    border-bottom-color: var(--fill-color);\n",
              "    animation:\n",
              "      spin 1s steps(1) infinite;\n",
              "  }\n",
              "\n",
              "  @keyframes spin {\n",
              "    0% {\n",
              "      border-color: transparent;\n",
              "      border-bottom-color: var(--fill-color);\n",
              "      border-left-color: var(--fill-color);\n",
              "    }\n",
              "    20% {\n",
              "      border-color: transparent;\n",
              "      border-left-color: var(--fill-color);\n",
              "      border-top-color: var(--fill-color);\n",
              "    }\n",
              "    30% {\n",
              "      border-color: transparent;\n",
              "      border-left-color: var(--fill-color);\n",
              "      border-top-color: var(--fill-color);\n",
              "      border-right-color: var(--fill-color);\n",
              "    }\n",
              "    40% {\n",
              "      border-color: transparent;\n",
              "      border-right-color: var(--fill-color);\n",
              "      border-top-color: var(--fill-color);\n",
              "    }\n",
              "    60% {\n",
              "      border-color: transparent;\n",
              "      border-right-color: var(--fill-color);\n",
              "    }\n",
              "    80% {\n",
              "      border-color: transparent;\n",
              "      border-right-color: var(--fill-color);\n",
              "      border-bottom-color: var(--fill-color);\n",
              "    }\n",
              "    90% {\n",
              "      border-color: transparent;\n",
              "      border-bottom-color: var(--fill-color);\n",
              "    }\n",
              "  }\n",
              "</style>\n",
              "\n",
              "      <script>\n",
              "        async function quickchart(key) {\n",
              "          const quickchartButtonEl =\n",
              "            document.querySelector('#' + key + ' button');\n",
              "          quickchartButtonEl.disabled = true;  // To prevent multiple clicks.\n",
              "          quickchartButtonEl.classList.add('colab-df-spinner');\n",
              "          try {\n",
              "            const charts = await google.colab.kernel.invokeFunction(\n",
              "                'suggestCharts', [key], {});\n",
              "          } catch (error) {\n",
              "            console.error('Error during call to suggestCharts:', error);\n",
              "          }\n",
              "          quickchartButtonEl.classList.remove('colab-df-spinner');\n",
              "          quickchartButtonEl.classList.add('colab-df-quickchart-complete');\n",
              "        }\n",
              "        (() => {\n",
              "          let quickchartButtonEl =\n",
              "            document.querySelector('#df-e6a39dc4-4d3a-4530-a857-52f685b8cc89 button');\n",
              "          quickchartButtonEl.style.display =\n",
              "            google.colab.kernel.accessAllowed ? 'block' : 'none';\n",
              "        })();\n",
              "      </script>\n",
              "    </div>\n",
              "\n",
              "    </div>\n",
              "  </div>\n"
            ],
            "application/vnd.google.colaboratory.intrinsic+json": {
              "type": "dataframe",
              "summary": "{\n  \"name\": \"df_train\",\n  \"rows\": 2,\n  \"fields\": [\n    {\n      \"column\": [\n        \"label\",\n        \"\"\n      ],\n      \"properties\": {\n        \"dtype\": \"number\",\n        \"std\": 0,\n        \"min\": 0,\n        \"max\": 1,\n        \"num_unique_values\": 2,\n        \"samples\": [\n          1,\n          0\n        ],\n        \"semantic_type\": \"\",\n        \"description\": \"\"\n      }\n    },\n    {\n      \"column\": [\n        \"essay\",\n        \"count\"\n      ],\n      \"properties\": {\n        \"dtype\": \"date\",\n        \"min\": \"1864\",\n        \"max\": \"1864\",\n        \"num_unique_values\": 1,\n        \"samples\": [\n          \"1864\"\n        ],\n        \"semantic_type\": \"\",\n        \"description\": \"\"\n      }\n    },\n    {\n      \"column\": [\n        \"essay\",\n        \"unique\"\n      ],\n      \"properties\": {\n        \"dtype\": \"date\",\n        \"min\": 1864,\n        \"max\": 1864,\n        \"num_unique_values\": 1,\n        \"samples\": [\n          1864\n        ],\n        \"semantic_type\": \"\",\n        \"description\": \"\"\n      }\n    },\n    {\n      \"column\": [\n        \"essay\",\n        \"top\"\n      ],\n      \"properties\": {\n        \"dtype\": \"string\",\n        \"num_unique_values\": 2,\n        \"samples\": [\n          \"The key to success is trying new things while minimizing risks. That\\u201a\\u00c4\\u00f4s why I disagree with the idea that successful people simply take risks and try new things without caution.\\n\\nSuccessful people are always eager to learn and put in consistent effort. This often makes it seem like they only do things they already know how to do well. In reality, they approach new challenges\\u201a\\u00c4\\u00eewhether in business or sports\\u201a\\u00c4\\u00eewith care. Before starting something new, they imagine possible outcomes and examine the situation thoroughly. Once they feel confident, they move forward. For instance, a successful fast food chain studies how many people pass by and what kinds of people are in the area before opening a new location.\\n\\nPeople who take big risks and try new things can be interesting, but they rarely achieve lasting success. Even if they succeed once, they often face failure later. For example, some internet business owners who once made a fortune lost everything suddenly. Their success was based on trends or luck, not on a solid understanding of how to succeed. Unfortunately, they spent all their money on new ventures without proper planning.\\n\\nI believe that real success comes from hard work and effort. People who do their best usually take fewer risks. Therefore, trying new things with as little risk as possible is the real key to success.\"\n        ],\n        \"semantic_type\": \"\",\n        \"description\": \"\"\n      }\n    },\n    {\n      \"column\": [\n        \"essay\",\n        \"freq\"\n      ],\n      \"properties\": {\n        \"dtype\": \"date\",\n        \"min\": \"1\",\n        \"max\": \"1\",\n        \"num_unique_values\": 1,\n        \"samples\": [\n          \"1\"\n        ],\n        \"semantic_type\": \"\",\n        \"description\": \"\"\n      }\n    }\n  ]\n}"
            }
          },
          "metadata": {},
          "execution_count": 7
        }
      ]
    },
    {
      "cell_type": "markdown",
      "source": [
        "# **2. Text Preprocessing**"
      ],
      "metadata": {
        "id": "d6o0LttLPSl8"
      }
    },
    {
      "cell_type": "code",
      "source": [
        "#  Advanced Text Preprocessing with Lemmatization\n",
        "\n",
        "class TextPreprocessor:\n",
        "    \"\"\"\n",
        "    Advanced text preprocessing class with lemmatization\n",
        "    This will clean text better than basic preprocessing\n",
        "    \"\"\"\n",
        "\n",
        "    def __init__(self):\n",
        "        self.lemmatizer = WordNetLemmatizer()\n",
        "        self.stop_words = set(stopwords.words('english'))\n",
        "        # Add custom stop words\n",
        "        self.stop_words.update(['u', 'ur', 'im', 'dont', 'doin', 'ure'])\n",
        "\n",
        "    def get_wordnet_pos(self, word):\n",
        "        \"\"\"Convert POS tag to format accepted by WordNet lemmatizer\"\"\"\n",
        "        tag = nltk.pos_tag([word])[0][1][0].upper()\n",
        "        tag_dict = {\"J\": wordnet.ADJ,\n",
        "                    \"N\": wordnet.NOUN,\n",
        "                    \"V\": wordnet.VERB,\n",
        "                    \"R\": wordnet.ADV}\n",
        "        return tag_dict.get(tag, wordnet.NOUN)\n",
        "\n",
        "    def clean_text(self, text):\n",
        "        \"\"\"Basic text cleaning\"\"\"\n",
        "        if not isinstance(text, str):\n",
        "            return \"\"\n",
        "\n",
        "        # Convert to lowercase\n",
        "        text = text.lower()\n",
        "\n",
        "        # Remove URLs, emails, HTML tags\n",
        "        text = re.sub(r'http\\S+|www\\S+|https\\S+', '', text)\n",
        "        text = re.sub(r'\\S+@\\S+', '', text)\n",
        "        text = re.sub(r'<.*?>', '', text)\n",
        "\n",
        "        # Remove special characters but keep spaces\n",
        "        text = re.sub(r'[^a-zA-Z\\s]', '', text)\n",
        "\n",
        "        # Remove digits\n",
        "        text = re.sub(r'\\d', '', text)\n",
        "\n",
        "        # Remove extra whitespace\n",
        "        text = ' '.join(text.split())\n",
        "\n",
        "        return text\n",
        "\n",
        "    def lemmatize_text(self, text):\n",
        "        \"\"\"Apply lemmatization with POS tagging\"\"\"\n",
        "        tokens = word_tokenize(text)\n",
        "\n",
        "        lemmatized_tokens = []\n",
        "        for token in tokens:\n",
        "            if token not in self.stop_words and len(token) > 2:\n",
        "                # Get POS tag and lemmatize\n",
        "                pos_tag = self.get_wordnet_pos(token)\n",
        "                lemmatized_token = self.lemmatizer.lemmatize(token, pos_tag)\n",
        "                lemmatized_tokens.append(lemmatized_token)\n",
        "\n",
        "        return ' '.join(lemmatized_tokens)\n",
        "\n",
        "    def preprocess(self, text):\n",
        "        \"\"\"Complete preprocessing pipeline\"\"\"\n",
        "        cleaned_text = self.clean_text(text)\n",
        "        lemmatized_text = self.lemmatize_text(cleaned_text)\n",
        "        return lemmatized_text\n",
        "\n",
        "print(\"Text preprocessing class created!\")"
      ],
      "metadata": {
        "colab": {
          "base_uri": "https://localhost:8080/"
        },
        "id": "d78hiaAfPGFk",
        "outputId": "7d900290-1f23-413a-e8f9-0e865b19d646"
      },
      "execution_count": 8,
      "outputs": [
        {
          "output_type": "stream",
          "name": "stdout",
          "text": [
            "Text preprocessing class created!\n"
          ]
        }
      ]
    },
    {
      "cell_type": "code",
      "source": [
        "# Apply Text Preprocessing to the \"text\" column\n",
        "\n",
        "# Initialize the preprocessor\n",
        "preprocessor = TextPreprocessor()\n",
        "\n",
        "print(\"Applying advanced text preprocessing with lemmatization...\")\n",
        "\n",
        "# Apply preprocessing to training data\n",
        "df_train['clean_essay'] = df_train['essay'].apply(preprocessor.preprocess)\n",
        "\n",
        "# Apply preprocessing to test data\n",
        "df_test['clean_essay'] = df_test['essay'].apply(preprocessor.preprocess)\n",
        "\n",
        "print(\"Text preprocessing completed!\")"
      ],
      "metadata": {
        "colab": {
          "base_uri": "https://localhost:8080/"
        },
        "id": "nT_g-_uUQWrJ",
        "outputId": "949ab880-24a8-43ee-9b40-15f21bc45183"
      },
      "execution_count": 9,
      "outputs": [
        {
          "output_type": "stream",
          "name": "stdout",
          "text": [
            "Applying advanced text preprocessing with lemmatization...\n",
            "Text preprocessing completed!\n"
          ]
        }
      ]
    },
    {
      "cell_type": "code",
      "source": [
        "# Show examples of preprocessing\n",
        "print(\"\\nExamples of text preprocessing:\")\n",
        "print(\"Original:\", df_train['essay'].iloc[0])\n",
        "print(\"Processed:\", df_train['clean_essay'].iloc[0])\n",
        "print()\n",
        "print(\"Original:\", df_train['essay'].iloc[5])\n",
        "print(\"Processed:\", df_train['clean_essay'].iloc[5])"
      ],
      "metadata": {
        "colab": {
          "base_uri": "https://localhost:8080/"
        },
        "id": "Og-zIEx_Qp-a",
        "outputId": "11fbf238-dba0-44e8-bf2c-86a16d76c0e7"
      },
      "execution_count": 10,
      "outputs": [
        {
          "output_type": "stream",
          "name": "stdout",
          "text": [
            "\n",
            "Examples of text preprocessing:\n",
            "Original: International sports events require the most well-trained athletes for each country, in order to achieve this goal countries make an effort to build infrastructure designed to train top athletes. Although this policy can indeed make fewer sports facilities for ordinary people, investing in the best athletes is vital to develop competitive sports performances in each country.\n",
            "On the one hand, building specific infrastructure for the best athletes is crucial in order to get better results at international sports events such as The Olympics or the World Cup. The importance of getting better results is that it creates awareness of the importance of sports in society and motivates more people to do a sport. In this way, investing in these developments can help countries to develop an integral sport policy that can benefit everyone.\n",
            "On the other hand, one can argue that a negative effect could be that less infrastructure is built for the rest of the people. However, people who practice a sport in their daily life do not necessarily need some facilities to do sports. For example, people often use public spaces to do sports such as running or doing yoga at the nearest park to their home. So, for people who is not top athletes there could be some alternatives for sports facility that ,is not the case for training top athletes.\n",
            "To sum up, I strongly believe countries should invest in specialised infrastructure for their best athletes because in the long term is going to generate more motivation to do sports, to invest in sports at schools and therefore to build more sports infrastructure for everyone.\n",
            "Processed: international sport event require welltrained athlete country order achieve goal country make effort build infrastructure design train top athlete although policy indeed make few sport facility ordinary people invest best athlete vital develop competitive sport performance country one hand building specific infrastructure best athlete crucial order get well result international sport event olympics world cup importance get well result creates awareness importance sport society motivates people sport way invest development help country develop integral sport policy benefit everyone hand one argue negative effect could less infrastructure built rest people however people practice sport daily life necessarily need facility sport example people often use public space sport run yoga near park home people top athlete could alternative sport facility case training top athlete sum strongly believe country invest specialise infrastructure best athlete long term go generate motivation sport invest sport school therefore build sport infrastructure everyone\n",
            "\n",
            "Original: These days the space exploration is not just an imagination since human beings landed and step their foot on the moon decades ago. In addition, the fast technology evolution in the present came from the concerns of many scientists around the world. Some people believe that focusing on the space evolution matter. While others argue that they should invest inside the country. In my opinion, the exploration of our planet could enhance people's lives in many different ways. However, the human organization should do the best in other more useful sectors to improve human needs.\n",
            "On one hand, the space exploration has always been a fascinating topic over recent years. Scientists researching to find out and trying to know what is hiding out of the black hole and another universal plant if it is livable or has any natural resources. For example, in 1991 research proved that to travel from the earth to the nearest planet it could take approximately 3 to 4 months continually. In other words, exploration of a planet is costly as well as takes much time to reach it.\n",
            "On the other hand, the benefit of universe exploration may change our earth's environment and improve our lives for the next coming generation in technology. For instance, people after the year 2000 had better communication with each other which was not even possible at any time ever. Moreover, the government invests to develop space exploration companies.\n",
            "In conclusion, after carefully explaining my points of view I strongly believe that space companies such as SpaceX must try to find a new resources to visit other planets. However, I agree that they should be done after providing the basic needs of the human on earth and investing to solve poverty and any other human tragedies.\n",
            "Processed: day space exploration imagination since human being land step foot moon decade ago addition fast technology evolution present come concern many scientist around world people believe focus space evolution matter others argue invest inside country opinion exploration planet could enhance people life many different way however human organization best useful sector improve human need one hand space exploration always fascinate topic recent year scientist research find try know hiding black hole another universal plant livable natural resource example research prove travel earth near planet could take approximately month continually word exploration planet costly well take much time reach hand benefit universe exploration may change earth environment improve life next come generation technology instance people year well communication even possible time ever moreover government invests develop space exploration company conclusion carefully explain point view strongly believe space company spacex must try find new resource visit planet however agree do provide basic need human earth invest solve poverty human tragedy\n"
          ]
        }
      ]
    },
    {
      "cell_type": "code",
      "source": [
        "# Define features and target\n",
        "X = df_train['clean_essay']\n",
        "y = df_train['label']\n",
        "\n",
        "print(f\"Features (X): {len(X)} essay samples\")\n",
        "print(f\"Target (y): {len(y)} labels\")"
      ],
      "metadata": {
        "colab": {
          "base_uri": "https://localhost:8080/"
        },
        "id": "NONT-6ROQ5d9",
        "outputId": "b152f2f3-7fdf-481b-9d90-459a8cb8f30c"
      },
      "execution_count": 12,
      "outputs": [
        {
          "output_type": "stream",
          "name": "stdout",
          "text": [
            "Features (X): 3728 essay samples\n",
            "Target (y): 3728 labels\n"
          ]
        }
      ]
    },
    {
      "cell_type": "code",
      "source": [
        "# Split Data for Training and Validation Sets\n",
        "X_train, X_val, y_train, y_val = train_test_split(X, y, test_size=0.2, random_state=42, stratify=y)    # stratify=y Maintain label distribution"
      ],
      "metadata": {
        "id": "GUzaLPrQRMm3"
      },
      "execution_count": 13,
      "outputs": []
    },
    {
      "cell_type": "code",
      "source": [
        "print(\"Data split completed:\")\n",
        "print(f\"Training samples: {len(X_train)}\")\n",
        "print(f\"Validation samples: {len(X_val)}\")\n",
        "print(f\"Training label distribution: {np.bincount(y_train)}\")\n",
        "print(f\"Validation label distribution: {np.bincount(y_val)}\")"
      ],
      "metadata": {
        "colab": {
          "base_uri": "https://localhost:8080/"
        },
        "id": "ZbChBTQIRTp7",
        "outputId": "0d2f58e2-6611-4093-ae81-45486fbc8449"
      },
      "execution_count": 14,
      "outputs": [
        {
          "output_type": "stream",
          "name": "stdout",
          "text": [
            "Data split completed:\n",
            "Training samples: 2982\n",
            "Validation samples: 746\n",
            "Training label distribution: [1491 1491]\n",
            "Validation label distribution: [373 373]\n"
          ]
        }
      ]
    },
    {
      "cell_type": "markdown",
      "source": [
        "# **3. Model Development**\n",
        "\n",
        "3.1: Support Vector Machine (SVM)"
      ],
      "metadata": {
        "id": "V0F1ue_DRiQJ"
      }
    },
    {
      "cell_type": "code",
      "source": [],
      "metadata": {
        "id": "eUj_tDJVRWxY"
      },
      "execution_count": null,
      "outputs": []
    }
  ]
}