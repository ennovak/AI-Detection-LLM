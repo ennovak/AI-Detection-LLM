{
  "nbformat": 4,
  "nbformat_minor": 0,
  "metadata": {
    "colab": {
      "provenance": [],
      "authorship_tag": "ABX9TyP4sx+LCRrIxBSi+r3y24u4",
      "include_colab_link": true
    },
    "kernelspec": {
      "name": "python3",
      "display_name": "Python 3"
    },
    "language_info": {
      "name": "python"
    }
  },
  "cells": [
    {
      "cell_type": "markdown",
      "metadata": {
        "id": "view-in-github",
        "colab_type": "text"
      },
      "source": [
        "<a href=\"https://colab.research.google.com/github/ennovak/AI-Detection-LLM/blob/main/Emily_Novak_Project_2.ipynb\" target=\"_parent\"><img src=\"https://colab.research.google.com/assets/colab-badge.svg\" alt=\"Open In Colab\"/></a>"
      ]
    },
    {
      "cell_type": "markdown",
      "source": [
        "**This Notebook is written by Emily Novak for Project 2 of the course Intro to LLMs**\n",
        "\n",
        "> In this notebook I will perform text preprocessing and vectorization on a provided dataset of human and AI-written essays. I will create 3 different word embeddings and test each one on 3 separate deep learning models, and perform hyperparameter tuning on each model. I will then evaluate each model's performance and save the models for streamlit deployment.\n",
        "\n",
        "You can find all of the files for the full project on my GitHub: https://github.com/ennovak/AI-Detection-LLM\n",
        "\n",
        "# **1. Import Necessary Libraries**"
      ],
      "metadata": {
        "id": "GL7zWcJOz6of"
      }
    },
    {
      "cell_type": "code",
      "execution_count": 1,
      "metadata": {
        "id": "RMJL0DlfzPgI",
        "colab": {
          "base_uri": "https://localhost:8080/"
        },
        "outputId": "25b05480-f7e1-458b-c863-c73a868506fe"
      },
      "outputs": [
        {
          "output_type": "stream",
          "name": "stdout",
          "text": [
            "Requirement already satisfied: gensim in /usr/local/lib/python3.11/dist-packages (4.3.3)\n",
            "Requirement already satisfied: numpy<2.0,>=1.18.5 in /usr/local/lib/python3.11/dist-packages (from gensim) (1.26.4)\n",
            "Requirement already satisfied: scipy<1.14.0,>=1.7.0 in /usr/local/lib/python3.11/dist-packages (from gensim) (1.13.1)\n",
            "Requirement already satisfied: smart-open>=1.8.1 in /usr/local/lib/python3.11/dist-packages (from gensim) (7.1.0)\n",
            "Requirement already satisfied: wrapt in /usr/local/lib/python3.11/dist-packages (from smart-open>=1.8.1->gensim) (1.17.2)\n",
            "Collecting torchviz\n",
            "  Using cached torchviz-0.0.3-py3-none-any.whl.metadata (2.1 kB)\n",
            "Requirement already satisfied: torch in /usr/local/lib/python3.11/dist-packages (from torchviz) (2.6.0+cu124)\n",
            "Requirement already satisfied: graphviz in /usr/local/lib/python3.11/dist-packages (from torchviz) (0.21)\n",
            "Requirement already satisfied: filelock in /usr/local/lib/python3.11/dist-packages (from torch->torchviz) (3.18.0)\n",
            "Requirement already satisfied: typing-extensions>=4.10.0 in /usr/local/lib/python3.11/dist-packages (from torch->torchviz) (4.14.0)\n",
            "Requirement already satisfied: networkx in /usr/local/lib/python3.11/dist-packages (from torch->torchviz) (3.5)\n",
            "Requirement already satisfied: jinja2 in /usr/local/lib/python3.11/dist-packages (from torch->torchviz) (3.1.6)\n",
            "Requirement already satisfied: fsspec in /usr/local/lib/python3.11/dist-packages (from torch->torchviz) (2025.3.2)\n",
            "Collecting nvidia-cuda-nvrtc-cu12==12.4.127 (from torch->torchviz)\n",
            "  Using cached nvidia_cuda_nvrtc_cu12-12.4.127-py3-none-manylinux2014_x86_64.whl.metadata (1.5 kB)\n",
            "Collecting nvidia-cuda-runtime-cu12==12.4.127 (from torch->torchviz)\n",
            "  Using cached nvidia_cuda_runtime_cu12-12.4.127-py3-none-manylinux2014_x86_64.whl.metadata (1.5 kB)\n",
            "Collecting nvidia-cuda-cupti-cu12==12.4.127 (from torch->torchviz)\n",
            "  Using cached nvidia_cuda_cupti_cu12-12.4.127-py3-none-manylinux2014_x86_64.whl.metadata (1.6 kB)\n",
            "Collecting nvidia-cudnn-cu12==9.1.0.70 (from torch->torchviz)\n",
            "  Using cached nvidia_cudnn_cu12-9.1.0.70-py3-none-manylinux2014_x86_64.whl.metadata (1.6 kB)\n",
            "Collecting nvidia-cublas-cu12==12.4.5.8 (from torch->torchviz)\n",
            "  Using cached nvidia_cublas_cu12-12.4.5.8-py3-none-manylinux2014_x86_64.whl.metadata (1.5 kB)\n",
            "Collecting nvidia-cufft-cu12==11.2.1.3 (from torch->torchviz)\n",
            "  Using cached nvidia_cufft_cu12-11.2.1.3-py3-none-manylinux2014_x86_64.whl.metadata (1.5 kB)\n",
            "Collecting nvidia-curand-cu12==10.3.5.147 (from torch->torchviz)\n",
            "  Using cached nvidia_curand_cu12-10.3.5.147-py3-none-manylinux2014_x86_64.whl.metadata (1.5 kB)\n",
            "Collecting nvidia-cusolver-cu12==11.6.1.9 (from torch->torchviz)\n",
            "  Using cached nvidia_cusolver_cu12-11.6.1.9-py3-none-manylinux2014_x86_64.whl.metadata (1.6 kB)\n",
            "Collecting nvidia-cusparse-cu12==12.3.1.170 (from torch->torchviz)\n",
            "  Using cached nvidia_cusparse_cu12-12.3.1.170-py3-none-manylinux2014_x86_64.whl.metadata (1.6 kB)\n",
            "Requirement already satisfied: nvidia-cusparselt-cu12==0.6.2 in /usr/local/lib/python3.11/dist-packages (from torch->torchviz) (0.6.2)\n",
            "Requirement already satisfied: nvidia-nccl-cu12==2.21.5 in /usr/local/lib/python3.11/dist-packages (from torch->torchviz) (2.21.5)\n",
            "Requirement already satisfied: nvidia-nvtx-cu12==12.4.127 in /usr/local/lib/python3.11/dist-packages (from torch->torchviz) (12.4.127)\n",
            "Collecting nvidia-nvjitlink-cu12==12.4.127 (from torch->torchviz)\n",
            "  Using cached nvidia_nvjitlink_cu12-12.4.127-py3-none-manylinux2014_x86_64.whl.metadata (1.5 kB)\n",
            "Requirement already satisfied: triton==3.2.0 in /usr/local/lib/python3.11/dist-packages (from torch->torchviz) (3.2.0)\n",
            "Requirement already satisfied: sympy==1.13.1 in /usr/local/lib/python3.11/dist-packages (from torch->torchviz) (1.13.1)\n",
            "Requirement already satisfied: mpmath<1.4,>=1.1.0 in /usr/local/lib/python3.11/dist-packages (from sympy==1.13.1->torch->torchviz) (1.3.0)\n",
            "Requirement already satisfied: MarkupSafe>=2.0 in /usr/local/lib/python3.11/dist-packages (from jinja2->torch->torchviz) (3.0.2)\n",
            "Using cached torchviz-0.0.3-py3-none-any.whl (5.7 kB)\n",
            "Downloading nvidia_cublas_cu12-12.4.5.8-py3-none-manylinux2014_x86_64.whl (363.4 MB)\n",
            "\u001b[2K   \u001b[90m━━━━━━━━━━━━━━━━━━━━━━━━━━━━━━━━━━━━━━━━\u001b[0m \u001b[32m363.4/363.4 MB\u001b[0m \u001b[31m4.4 MB/s\u001b[0m eta \u001b[36m0:00:00\u001b[0m\n",
            "\u001b[?25hDownloading nvidia_cuda_cupti_cu12-12.4.127-py3-none-manylinux2014_x86_64.whl (13.8 MB)\n",
            "\u001b[2K   \u001b[90m━━━━━━━━━━━━━━━━━━━━━━━━━━━━━━━━━━━━━━━━\u001b[0m \u001b[32m13.8/13.8 MB\u001b[0m \u001b[31m55.8 MB/s\u001b[0m eta \u001b[36m0:00:00\u001b[0m\n",
            "\u001b[?25hDownloading nvidia_cuda_nvrtc_cu12-12.4.127-py3-none-manylinux2014_x86_64.whl (24.6 MB)\n",
            "\u001b[2K   \u001b[90m━━━━━━━━━━━━━━━━━━━━━━━━━━━━━━━━━━━━━━━━\u001b[0m \u001b[32m24.6/24.6 MB\u001b[0m \u001b[31m44.0 MB/s\u001b[0m eta \u001b[36m0:00:00\u001b[0m\n",
            "\u001b[?25hDownloading nvidia_cuda_runtime_cu12-12.4.127-py3-none-manylinux2014_x86_64.whl (883 kB)\n",
            "\u001b[2K   \u001b[90m━━━━━━━━━━━━━━━━━━━━━━━━━━━━━━━━━━━━━━━━\u001b[0m \u001b[32m883.7/883.7 kB\u001b[0m \u001b[31m28.0 MB/s\u001b[0m eta \u001b[36m0:00:00\u001b[0m\n",
            "\u001b[?25hDownloading nvidia_cudnn_cu12-9.1.0.70-py3-none-manylinux2014_x86_64.whl (664.8 MB)\n",
            "\u001b[2K   \u001b[90m━━━━━━━━━━━━━━━━━━━━━━━━━━━━━━━━━━━━━━━━\u001b[0m \u001b[32m664.8/664.8 MB\u001b[0m \u001b[31m1.9 MB/s\u001b[0m eta \u001b[36m0:00:00\u001b[0m\n",
            "\u001b[?25hDownloading nvidia_cufft_cu12-11.2.1.3-py3-none-manylinux2014_x86_64.whl (211.5 MB)\n",
            "\u001b[2K   \u001b[90m━━━━━━━━━━━━━━━━━━━━━━━━━━━━━━━━━━━━━━━━\u001b[0m \u001b[32m211.5/211.5 MB\u001b[0m \u001b[31m5.9 MB/s\u001b[0m eta \u001b[36m0:00:00\u001b[0m\n",
            "\u001b[?25hDownloading nvidia_curand_cu12-10.3.5.147-py3-none-manylinux2014_x86_64.whl (56.3 MB)\n",
            "\u001b[2K   \u001b[90m━━━━━━━━━━━━━━━━━━━━━━━━━━━━━━━━━━━━━━━━\u001b[0m \u001b[32m56.3/56.3 MB\u001b[0m \u001b[31m14.3 MB/s\u001b[0m eta \u001b[36m0:00:00\u001b[0m\n",
            "\u001b[?25hDownloading nvidia_cusolver_cu12-11.6.1.9-py3-none-manylinux2014_x86_64.whl (127.9 MB)\n",
            "\u001b[2K   \u001b[90m━━━━━━━━━━━━━━━━━━━━━━━━━━━━━━━━━━━━━━━━\u001b[0m \u001b[32m127.9/127.9 MB\u001b[0m \u001b[31m7.8 MB/s\u001b[0m eta \u001b[36m0:00:00\u001b[0m\n",
            "\u001b[?25hDownloading nvidia_cusparse_cu12-12.3.1.170-py3-none-manylinux2014_x86_64.whl (207.5 MB)\n",
            "\u001b[2K   \u001b[90m━━━━━━━━━━━━━━━━━━━━━━━━━━━━━━━━━━━━━━━━\u001b[0m \u001b[32m207.5/207.5 MB\u001b[0m \u001b[31m6.1 MB/s\u001b[0m eta \u001b[36m0:00:00\u001b[0m\n",
            "\u001b[?25hDownloading nvidia_nvjitlink_cu12-12.4.127-py3-none-manylinux2014_x86_64.whl (21.1 MB)\n",
            "\u001b[2K   \u001b[90m━━━━━━━━━━━━━━━━━━━━━━━━━━━━━━━━━━━━━━━━\u001b[0m \u001b[32m21.1/21.1 MB\u001b[0m \u001b[31m62.8 MB/s\u001b[0m eta \u001b[36m0:00:00\u001b[0m\n",
            "\u001b[?25hInstalling collected packages: nvidia-nvjitlink-cu12, nvidia-curand-cu12, nvidia-cufft-cu12, nvidia-cuda-runtime-cu12, nvidia-cuda-nvrtc-cu12, nvidia-cuda-cupti-cu12, nvidia-cublas-cu12, nvidia-cusparse-cu12, nvidia-cudnn-cu12, nvidia-cusolver-cu12, torchviz\n",
            "  Attempting uninstall: nvidia-nvjitlink-cu12\n",
            "    Found existing installation: nvidia-nvjitlink-cu12 12.5.82\n",
            "    Uninstalling nvidia-nvjitlink-cu12-12.5.82:\n",
            "      Successfully uninstalled nvidia-nvjitlink-cu12-12.5.82\n",
            "  Attempting uninstall: nvidia-curand-cu12\n",
            "    Found existing installation: nvidia-curand-cu12 10.3.6.82\n",
            "    Uninstalling nvidia-curand-cu12-10.3.6.82:\n",
            "      Successfully uninstalled nvidia-curand-cu12-10.3.6.82\n",
            "  Attempting uninstall: nvidia-cufft-cu12\n",
            "    Found existing installation: nvidia-cufft-cu12 11.2.3.61\n",
            "    Uninstalling nvidia-cufft-cu12-11.2.3.61:\n",
            "      Successfully uninstalled nvidia-cufft-cu12-11.2.3.61\n",
            "  Attempting uninstall: nvidia-cuda-runtime-cu12\n",
            "    Found existing installation: nvidia-cuda-runtime-cu12 12.5.82\n",
            "    Uninstalling nvidia-cuda-runtime-cu12-12.5.82:\n",
            "      Successfully uninstalled nvidia-cuda-runtime-cu12-12.5.82\n",
            "  Attempting uninstall: nvidia-cuda-nvrtc-cu12\n",
            "    Found existing installation: nvidia-cuda-nvrtc-cu12 12.5.82\n",
            "    Uninstalling nvidia-cuda-nvrtc-cu12-12.5.82:\n",
            "      Successfully uninstalled nvidia-cuda-nvrtc-cu12-12.5.82\n",
            "  Attempting uninstall: nvidia-cuda-cupti-cu12\n",
            "    Found existing installation: nvidia-cuda-cupti-cu12 12.5.82\n",
            "    Uninstalling nvidia-cuda-cupti-cu12-12.5.82:\n",
            "      Successfully uninstalled nvidia-cuda-cupti-cu12-12.5.82\n",
            "  Attempting uninstall: nvidia-cublas-cu12\n",
            "    Found existing installation: nvidia-cublas-cu12 12.5.3.2\n",
            "    Uninstalling nvidia-cublas-cu12-12.5.3.2:\n",
            "      Successfully uninstalled nvidia-cublas-cu12-12.5.3.2\n",
            "  Attempting uninstall: nvidia-cusparse-cu12\n",
            "    Found existing installation: nvidia-cusparse-cu12 12.5.1.3\n",
            "    Uninstalling nvidia-cusparse-cu12-12.5.1.3:\n",
            "      Successfully uninstalled nvidia-cusparse-cu12-12.5.1.3\n",
            "  Attempting uninstall: nvidia-cudnn-cu12\n",
            "    Found existing installation: nvidia-cudnn-cu12 9.3.0.75\n",
            "    Uninstalling nvidia-cudnn-cu12-9.3.0.75:\n",
            "      Successfully uninstalled nvidia-cudnn-cu12-9.3.0.75\n",
            "  Attempting uninstall: nvidia-cusolver-cu12\n",
            "    Found existing installation: nvidia-cusolver-cu12 11.6.3.83\n",
            "    Uninstalling nvidia-cusolver-cu12-11.6.3.83:\n",
            "      Successfully uninstalled nvidia-cusolver-cu12-11.6.3.83\n",
            "Successfully installed nvidia-cublas-cu12-12.4.5.8 nvidia-cuda-cupti-cu12-12.4.127 nvidia-cuda-nvrtc-cu12-12.4.127 nvidia-cuda-runtime-cu12-12.4.127 nvidia-cudnn-cu12-9.1.0.70 nvidia-cufft-cu12-11.2.1.3 nvidia-curand-cu12-10.3.5.147 nvidia-cusolver-cu12-11.6.1.9 nvidia-cusparse-cu12-12.3.1.170 nvidia-nvjitlink-cu12-12.4.127 torchviz-0.0.3\n",
            "Collecting keras_tuner\n",
            "  Downloading keras_tuner-1.4.7-py3-none-any.whl.metadata (5.4 kB)\n",
            "Requirement already satisfied: keras in /usr/local/lib/python3.11/dist-packages (from keras_tuner) (3.8.0)\n",
            "Requirement already satisfied: packaging in /usr/local/lib/python3.11/dist-packages (from keras_tuner) (24.2)\n",
            "Requirement already satisfied: requests in /usr/local/lib/python3.11/dist-packages (from keras_tuner) (2.32.3)\n",
            "Collecting kt-legacy (from keras_tuner)\n",
            "  Downloading kt_legacy-1.0.5-py3-none-any.whl.metadata (221 bytes)\n",
            "Requirement already satisfied: absl-py in /usr/local/lib/python3.11/dist-packages (from keras->keras_tuner) (1.4.0)\n",
            "Requirement already satisfied: numpy in /usr/local/lib/python3.11/dist-packages (from keras->keras_tuner) (1.26.4)\n",
            "Requirement already satisfied: rich in /usr/local/lib/python3.11/dist-packages (from keras->keras_tuner) (13.9.4)\n",
            "Requirement already satisfied: namex in /usr/local/lib/python3.11/dist-packages (from keras->keras_tuner) (0.1.0)\n",
            "Requirement already satisfied: h5py in /usr/local/lib/python3.11/dist-packages (from keras->keras_tuner) (3.14.0)\n",
            "Requirement already satisfied: optree in /usr/local/lib/python3.11/dist-packages (from keras->keras_tuner) (0.16.0)\n",
            "Requirement already satisfied: ml-dtypes in /usr/local/lib/python3.11/dist-packages (from keras->keras_tuner) (0.4.1)\n",
            "Requirement already satisfied: charset-normalizer<4,>=2 in /usr/local/lib/python3.11/dist-packages (from requests->keras_tuner) (3.4.2)\n",
            "Requirement already satisfied: idna<4,>=2.5 in /usr/local/lib/python3.11/dist-packages (from requests->keras_tuner) (3.10)\n",
            "Requirement already satisfied: urllib3<3,>=1.21.1 in /usr/local/lib/python3.11/dist-packages (from requests->keras_tuner) (2.4.0)\n",
            "Requirement already satisfied: certifi>=2017.4.17 in /usr/local/lib/python3.11/dist-packages (from requests->keras_tuner) (2025.6.15)\n",
            "Requirement already satisfied: typing-extensions>=4.6.0 in /usr/local/lib/python3.11/dist-packages (from optree->keras->keras_tuner) (4.14.0)\n",
            "Requirement already satisfied: markdown-it-py>=2.2.0 in /usr/local/lib/python3.11/dist-packages (from rich->keras->keras_tuner) (3.0.0)\n",
            "Requirement already satisfied: pygments<3.0.0,>=2.13.0 in /usr/local/lib/python3.11/dist-packages (from rich->keras->keras_tuner) (2.19.2)\n",
            "Requirement already satisfied: mdurl~=0.1 in /usr/local/lib/python3.11/dist-packages (from markdown-it-py>=2.2.0->rich->keras->keras_tuner) (0.1.2)\n",
            "Downloading keras_tuner-1.4.7-py3-none-any.whl (129 kB)\n",
            "\u001b[2K   \u001b[90m━━━━━━━━━━━━━━━━━━━━━━━━━━━━━━━━━━━━━━━━\u001b[0m \u001b[32m129.1/129.1 kB\u001b[0m \u001b[31m2.3 MB/s\u001b[0m eta \u001b[36m0:00:00\u001b[0m\n",
            "\u001b[?25hDownloading kt_legacy-1.0.5-py3-none-any.whl (9.6 kB)\n",
            "Installing collected packages: kt-legacy, keras_tuner\n",
            "Successfully installed keras_tuner-1.4.7 kt-legacy-1.0.5\n"
          ]
        }
      ],
      "source": [
        "# uncomment for initial run\n",
        "!pip install gensim\n",
        "!pip install torchviz\n",
        "!pip install keras_tuner"
      ]
    },
    {
      "cell_type": "code",
      "source": [
        "# Import necessary libraries for data manipulation, visualization, and machine learning\n",
        "import pandas as pd\n",
        "import numpy as np\n",
        "import matplotlib.pyplot as plt\n",
        "import seaborn as sns\n",
        "import re\n",
        "import unicodedata\n",
        "import joblib\n",
        "import string\n",
        "import math\n",
        "import time\n",
        "from bs4 import BeautifulSoup\n",
        "from collections import Counter, defaultdict\n",
        "import networkx as nx\n",
        "from scipy.spatial.distance import pdist, squareform\n",
        "from gensim.models import Word2Vec\n",
        "import gensim\n",
        "\n",
        "# Sklearn libraries for machine learning and text processing\n",
        "from sklearn.feature_extraction.text import TfidfVectorizer, CountVectorizer\n",
        "from sklearn.naive_bayes import MultinomialNB\n",
        "from sklearn.svm import SVC\n",
        "from sklearn.linear_model import LogisticRegression\n",
        "from sklearn.ensemble import RandomForestClassifier\n",
        "from sklearn.model_selection import train_test_split, GridSearchCV, cross_val_score, StratifiedKFold, cross_validate, validation_curve, learning_curve\n",
        "from sklearn.pipeline import Pipeline, FeatureUnion\n",
        "from sklearn.preprocessing import StandardScaler, FunctionTransformer\n",
        "from sklearn import metrics\n",
        "from sklearn.metrics import matthews_corrcoef, confusion_matrix\n",
        "from sklearn.utils import shuffle\n",
        "from sklearn.decomposition import PCA\n",
        "from sklearn.manifold import TSNE, MDS\n",
        "from sklearn.cluster import KMeans\n",
        "from sklearn.metrics.pairwise import cosine_similarity, euclidean_distances\n",
        "\n",
        "\n",
        "# NLTK libraries for text processing (lemmatization, stemming, stopwords, POS tagging)\n",
        "import nltk\n",
        "from nltk.corpus import stopwords, wordnet\n",
        "from nltk.stem import WordNetLemmatizer, PorterStemmer\n",
        "from nltk.tokenize import sent_tokenize, word_tokenize\n",
        "from nltk import ne_chunk, pos_tag\n",
        "from nltk.tree import Tree\n",
        "\n",
        "\n",
        "# Download necessary NLTK resources for text processing\n",
        "nltk.download('wordnet')  # WordNet for lemmatization\n",
        "nltk.download('omw-1.4')  # Open Multilingual Wordnet\n",
        "nltk.download('punkt')  # Tokenizer\n",
        "nltk.download('punkt_tab')\n",
        "nltk.download('stopwords')  # Stopwords for text cleaning\n",
        "nltk.download('averaged_perceptron_tagger')  # POS tagger for part-of-speech tagging\n",
        "nltk.download('averaged_perceptron_tagger_eng')  # Additional tagger\n",
        "nltk.download('tagsets_json')  # Tagset resource\n",
        "\n",
        "print(\"\\n All libraries imported successfully!\")\n",
        "\n",
        "\n",
        "# Deep Learning Libraries\n",
        "from keras.layers import Dropout, Dense, GRU, Embedding, SimpleRNN, LSTM, Bidirectional, TimeDistributed, Flatten, MaxPooling1D\n",
        "from keras.models import Sequential\n",
        "import tensorflow as tf\n",
        "from tensorflow.keras.preprocessing.text import Tokenizer\n",
        "from tensorflow.keras.preprocessing.sequence import pad_sequences\n",
        "from tensorflow.keras.models import Model\n",
        "from tensorflow.keras.layers import Input,Dense,Conv1D,Flatten,Embedding,MaxPool1D,concatenate,Dropout\n",
        "from tensorflow.keras.callbacks import ModelCheckpoint,TensorBoard,EarlyStopping\n",
        "from tensorflow.keras.optimizers import Adam\n",
        "\n",
        "# PyTorch libraries\n",
        "import torch\n",
        "import torch.nn as nn\n",
        "import torch.optim as optim\n",
        "from torch.utils.data import DataLoader, TensorDataset\n",
        "import torch.nn.functional as F\n",
        "from tqdm import tqdm\n",
        "\n",
        "\n",
        "# Logging\n",
        "import logging\n",
        "logging.basicConfig(level=logging.INFO)\n",
        "\n",
        "\n",
        "\n",
        "# Data Visualization\n",
        "%matplotlib inline\n",
        "import matplotlib.pyplot as plt\n",
        "import seaborn as sns\n",
        "sns.set_style(\"whitegrid\")\n",
        "plt.style.use(\"fivethirtyeight\")\n",
        "# Set style for better plots\n",
        "plt.style.use('default')\n",
        "sns.set_palette(\"husl\")\n",
        "import plotly.express as px\n",
        "import plotly.graph_objects as go\n",
        "import plotly.offline as pyo\n",
        "from plotly.subplots import make_subplots\n",
        "import warnings\n",
        "warnings.filterwarnings('ignore')\n",
        "\n",
        "\n",
        "import matplotlib.pyplot as plt\n",
        "import seaborn as sns\n",
        "\n",
        "import warnings\n",
        "warnings.filterwarnings('ignore')"
      ],
      "metadata": {
        "colab": {
          "base_uri": "https://localhost:8080/"
        },
        "id": "9e2JvhMt0Hq3",
        "outputId": "760d0c72-bff3-4fdf-fa71-5011b3d34a9e"
      },
      "execution_count": 2,
      "outputs": [
        {
          "output_type": "stream",
          "name": "stderr",
          "text": [
            "[nltk_data] Downloading package wordnet to /root/nltk_data...\n",
            "[nltk_data] Downloading package omw-1.4 to /root/nltk_data...\n",
            "[nltk_data] Downloading package punkt to /root/nltk_data...\n",
            "[nltk_data]   Unzipping tokenizers/punkt.zip.\n",
            "[nltk_data] Downloading package punkt_tab to /root/nltk_data...\n",
            "[nltk_data]   Unzipping tokenizers/punkt_tab.zip.\n",
            "[nltk_data] Downloading package stopwords to /root/nltk_data...\n",
            "[nltk_data]   Unzipping corpora/stopwords.zip.\n",
            "[nltk_data] Downloading package averaged_perceptron_tagger to\n",
            "[nltk_data]     /root/nltk_data...\n",
            "[nltk_data]   Unzipping taggers/averaged_perceptron_tagger.zip.\n",
            "[nltk_data] Downloading package averaged_perceptron_tagger_eng to\n",
            "[nltk_data]     /root/nltk_data...\n",
            "[nltk_data]   Unzipping taggers/averaged_perceptron_tagger_eng.zip.\n",
            "[nltk_data] Downloading package tagsets_json to /root/nltk_data...\n",
            "[nltk_data]   Unzipping help/tagsets_json.zip.\n"
          ]
        },
        {
          "output_type": "stream",
          "name": "stdout",
          "text": [
            "\n",
            " All libraries imported successfully!\n"
          ]
        }
      ]
    },
    {
      "cell_type": "markdown",
      "source": [
        "## Checking/Setting Computation Device\n",
        "\n",
        "Utilizing pyTorch support of GPU training of neural networks to speed up training process."
      ],
      "metadata": {
        "id": "IzpL2wmh0ssC"
      }
    },
    {
      "cell_type": "code",
      "source": [
        "use_cuda = torch.cuda.is_available()\n",
        "\n",
        "# Use this line below to enforce the use of the CPU (in case you don't have a supported GPU)\n",
        "# use_cuda = False  # Uncomment this line to force CPU usage\n",
        "\n",
        "device = torch.device(\"cuda:0\" if use_cuda else \"cpu\")\n",
        "\n",
        "print(\"Available device: {}\".format(device))\n",
        "print(\"If you see 'cuda:0', it means GPU is available and will be used\")\n",
        "print(\"If you see 'cpu', it means only CPU will be used\")"
      ],
      "metadata": {
        "colab": {
          "base_uri": "https://localhost:8080/"
        },
        "id": "y08NFefH0PDL",
        "outputId": "a92907a0-31c6-4490-f696-dd18204a68d2"
      },
      "execution_count": 3,
      "outputs": [
        {
          "output_type": "stream",
          "name": "stdout",
          "text": [
            "Available device: cpu\n",
            "If you see 'cuda:0', it means GPU is available and will be used\n",
            "If you see 'cpu', it means only CPU will be used\n"
          ]
        }
      ]
    },
    {
      "cell_type": "markdown",
      "source": [
        "# **2. Data Analysis and Preprocessing**"
      ],
      "metadata": {
        "id": "rVW6pnlI1DAV"
      }
    },
    {
      "cell_type": "code",
      "source": [
        "# Import Data\n",
        "from google.colab import files\n",
        "uploaded = files.upload()"
      ],
      "metadata": {
        "colab": {
          "base_uri": "https://localhost:8080/",
          "height": 108
        },
        "id": "LvXprdR20xsd",
        "outputId": "411f55ec-3384-4bfb-d8d3-c100b6e8748d"
      },
      "execution_count": 4,
      "outputs": [
        {
          "output_type": "display_data",
          "data": {
            "text/plain": [
              "<IPython.core.display.HTML object>"
            ],
            "text/html": [
              "\n",
              "     <input type=\"file\" id=\"files-c907704b-b0d4-43fa-9ce6-d3be24f5f252\" name=\"files[]\" multiple disabled\n",
              "        style=\"border:none\" />\n",
              "     <output id=\"result-c907704b-b0d4-43fa-9ce6-d3be24f5f252\">\n",
              "      Upload widget is only available when the cell has been executed in the\n",
              "      current browser session. Please rerun this cell to enable.\n",
              "      </output>\n",
              "      <script>// Copyright 2017 Google LLC\n",
              "//\n",
              "// Licensed under the Apache License, Version 2.0 (the \"License\");\n",
              "// you may not use this file except in compliance with the License.\n",
              "// You may obtain a copy of the License at\n",
              "//\n",
              "//      http://www.apache.org/licenses/LICENSE-2.0\n",
              "//\n",
              "// Unless required by applicable law or agreed to in writing, software\n",
              "// distributed under the License is distributed on an \"AS IS\" BASIS,\n",
              "// WITHOUT WARRANTIES OR CONDITIONS OF ANY KIND, either express or implied.\n",
              "// See the License for the specific language governing permissions and\n",
              "// limitations under the License.\n",
              "\n",
              "/**\n",
              " * @fileoverview Helpers for google.colab Python module.\n",
              " */\n",
              "(function(scope) {\n",
              "function span(text, styleAttributes = {}) {\n",
              "  const element = document.createElement('span');\n",
              "  element.textContent = text;\n",
              "  for (const key of Object.keys(styleAttributes)) {\n",
              "    element.style[key] = styleAttributes[key];\n",
              "  }\n",
              "  return element;\n",
              "}\n",
              "\n",
              "// Max number of bytes which will be uploaded at a time.\n",
              "const MAX_PAYLOAD_SIZE = 100 * 1024;\n",
              "\n",
              "function _uploadFiles(inputId, outputId) {\n",
              "  const steps = uploadFilesStep(inputId, outputId);\n",
              "  const outputElement = document.getElementById(outputId);\n",
              "  // Cache steps on the outputElement to make it available for the next call\n",
              "  // to uploadFilesContinue from Python.\n",
              "  outputElement.steps = steps;\n",
              "\n",
              "  return _uploadFilesContinue(outputId);\n",
              "}\n",
              "\n",
              "// This is roughly an async generator (not supported in the browser yet),\n",
              "// where there are multiple asynchronous steps and the Python side is going\n",
              "// to poll for completion of each step.\n",
              "// This uses a Promise to block the python side on completion of each step,\n",
              "// then passes the result of the previous step as the input to the next step.\n",
              "function _uploadFilesContinue(outputId) {\n",
              "  const outputElement = document.getElementById(outputId);\n",
              "  const steps = outputElement.steps;\n",
              "\n",
              "  const next = steps.next(outputElement.lastPromiseValue);\n",
              "  return Promise.resolve(next.value.promise).then((value) => {\n",
              "    // Cache the last promise value to make it available to the next\n",
              "    // step of the generator.\n",
              "    outputElement.lastPromiseValue = value;\n",
              "    return next.value.response;\n",
              "  });\n",
              "}\n",
              "\n",
              "/**\n",
              " * Generator function which is called between each async step of the upload\n",
              " * process.\n",
              " * @param {string} inputId Element ID of the input file picker element.\n",
              " * @param {string} outputId Element ID of the output display.\n",
              " * @return {!Iterable<!Object>} Iterable of next steps.\n",
              " */\n",
              "function* uploadFilesStep(inputId, outputId) {\n",
              "  const inputElement = document.getElementById(inputId);\n",
              "  inputElement.disabled = false;\n",
              "\n",
              "  const outputElement = document.getElementById(outputId);\n",
              "  outputElement.innerHTML = '';\n",
              "\n",
              "  const pickedPromise = new Promise((resolve) => {\n",
              "    inputElement.addEventListener('change', (e) => {\n",
              "      resolve(e.target.files);\n",
              "    });\n",
              "  });\n",
              "\n",
              "  const cancel = document.createElement('button');\n",
              "  inputElement.parentElement.appendChild(cancel);\n",
              "  cancel.textContent = 'Cancel upload';\n",
              "  const cancelPromise = new Promise((resolve) => {\n",
              "    cancel.onclick = () => {\n",
              "      resolve(null);\n",
              "    };\n",
              "  });\n",
              "\n",
              "  // Wait for the user to pick the files.\n",
              "  const files = yield {\n",
              "    promise: Promise.race([pickedPromise, cancelPromise]),\n",
              "    response: {\n",
              "      action: 'starting',\n",
              "    }\n",
              "  };\n",
              "\n",
              "  cancel.remove();\n",
              "\n",
              "  // Disable the input element since further picks are not allowed.\n",
              "  inputElement.disabled = true;\n",
              "\n",
              "  if (!files) {\n",
              "    return {\n",
              "      response: {\n",
              "        action: 'complete',\n",
              "      }\n",
              "    };\n",
              "  }\n",
              "\n",
              "  for (const file of files) {\n",
              "    const li = document.createElement('li');\n",
              "    li.append(span(file.name, {fontWeight: 'bold'}));\n",
              "    li.append(span(\n",
              "        `(${file.type || 'n/a'}) - ${file.size} bytes, ` +\n",
              "        `last modified: ${\n",
              "            file.lastModifiedDate ? file.lastModifiedDate.toLocaleDateString() :\n",
              "                                    'n/a'} - `));\n",
              "    const percent = span('0% done');\n",
              "    li.appendChild(percent);\n",
              "\n",
              "    outputElement.appendChild(li);\n",
              "\n",
              "    const fileDataPromise = new Promise((resolve) => {\n",
              "      const reader = new FileReader();\n",
              "      reader.onload = (e) => {\n",
              "        resolve(e.target.result);\n",
              "      };\n",
              "      reader.readAsArrayBuffer(file);\n",
              "    });\n",
              "    // Wait for the data to be ready.\n",
              "    let fileData = yield {\n",
              "      promise: fileDataPromise,\n",
              "      response: {\n",
              "        action: 'continue',\n",
              "      }\n",
              "    };\n",
              "\n",
              "    // Use a chunked sending to avoid message size limits. See b/62115660.\n",
              "    let position = 0;\n",
              "    do {\n",
              "      const length = Math.min(fileData.byteLength - position, MAX_PAYLOAD_SIZE);\n",
              "      const chunk = new Uint8Array(fileData, position, length);\n",
              "      position += length;\n",
              "\n",
              "      const base64 = btoa(String.fromCharCode.apply(null, chunk));\n",
              "      yield {\n",
              "        response: {\n",
              "          action: 'append',\n",
              "          file: file.name,\n",
              "          data: base64,\n",
              "        },\n",
              "      };\n",
              "\n",
              "      let percentDone = fileData.byteLength === 0 ?\n",
              "          100 :\n",
              "          Math.round((position / fileData.byteLength) * 100);\n",
              "      percent.textContent = `${percentDone}% done`;\n",
              "\n",
              "    } while (position < fileData.byteLength);\n",
              "  }\n",
              "\n",
              "  // All done.\n",
              "  yield {\n",
              "    response: {\n",
              "      action: 'complete',\n",
              "    }\n",
              "  };\n",
              "}\n",
              "\n",
              "scope.google = scope.google || {};\n",
              "scope.google.colab = scope.google.colab || {};\n",
              "scope.google.colab._files = {\n",
              "  _uploadFiles,\n",
              "  _uploadFilesContinue,\n",
              "};\n",
              "})(self);\n",
              "</script> "
            ]
          },
          "metadata": {}
        },
        {
          "output_type": "stream",
          "name": "stdout",
          "text": [
            "Saving AI_vs_huam_train_dataset.xlsx to AI_vs_huam_train_dataset.xlsx\n",
            "Saving Final_test_data.csv to Final_test_data.csv\n"
          ]
        }
      ]
    },
    {
      "cell_type": "code",
      "source": [
        "# Read Data\n",
        "df_train = pd.read_excel('AI_vs_huam_train_dataset.xlsx')\n",
        "df_test = pd.read_csv('Final_test_data.csv')"
      ],
      "metadata": {
        "id": "sr_xmdrb1UAH"
      },
      "execution_count": 5,
      "outputs": []
    },
    {
      "cell_type": "code",
      "source": [
        "print(\"Dataset Information:\")\n",
        "print(f\"Training data shape: {df_train.shape}\")\n",
        "print(f\"Test data shape: {df_test.shape}\")\n",
        "print(f\"Columns: {df_train.columns.tolist()}\")\n",
        "\n",
        "# Show first few rows\n",
        "print(\"\\nFirst 5 rows of training data:\")\n",
        "print(df_train.head())\n",
        "\n",
        "# Check sentiment distribution\n",
        "print(\"\\nLabel distribution:\")\n",
        "print(df_train['label'].value_counts())"
      ],
      "metadata": {
        "colab": {
          "base_uri": "https://localhost:8080/"
        },
        "id": "RPm934NF1aEV",
        "outputId": "22ab6b26-42ce-4945-d137-932cb86ec8ce"
      },
      "execution_count": 6,
      "outputs": [
        {
          "output_type": "stream",
          "name": "stdout",
          "text": [
            "Dataset Information:\n",
            "Training data shape: (3728, 2)\n",
            "Test data shape: (869, 2)\n",
            "Columns: ['essay', 'label']\n",
            "\n",
            "First 5 rows of training data:\n",
            "                                               essay  label\n",
            "0  International sports events require the most w...      0\n",
            "1  Globalisation has become a significant aspect ...      0\n",
            "2  There is an ever-increasing number of bullying...      0\n",
            "3  It is commonly believed, that companies should...      0\n",
            "4  Despite knowing about the adverse effects of c...      0\n",
            "\n",
            "Label distribution:\n",
            "label\n",
            "0    1864\n",
            "1    1864\n",
            "Name: count, dtype: int64\n"
          ]
        }
      ]
    },
    {
      "cell_type": "markdown",
      "source": [
        "## **Text Preprocessing**\n",
        "\n",
        "Here, we want to \"clean\" the text data to include only words that provide value. We remove common stopwords and unwanted characters and digits. We do this to reduce the amount of data used in training so that we're not trying to process unnecessary data.\n",
        "\n",
        "Once we have the cleaned text, we want to transform the text into numerical data that our classifiers can understand using vectors."
      ],
      "metadata": {
        "id": "1EIB-RNM1-vn"
      }
    },
    {
      "cell_type": "code",
      "source": [
        "#  Advanced Text Preprocessing with Lemmatization\n",
        "\n",
        "class TextPreprocessor:\n",
        "    \"\"\"\n",
        "    Advanced text preprocessing class with lemmatization\n",
        "    This will clean text better than basic preprocessing\n",
        "    \"\"\"\n",
        "\n",
        "    def __init__(self):\n",
        "        self.lemmatizer = WordNetLemmatizer()\n",
        "        self.stop_words = set(stopwords.words('english'))\n",
        "        # Add custom stop words\n",
        "        self.stop_words.update(['u', 'ur', 'im', 'dont', 'doin', 'ure'])\n",
        "\n",
        "    def get_wordnet_pos(self, word):\n",
        "        \"\"\"Convert POS tag to format accepted by WordNet lemmatizer\"\"\"\n",
        "        tag = nltk.pos_tag([word])[0][1][0].upper()\n",
        "        tag_dict = {\"J\": wordnet.ADJ,\n",
        "                    \"N\": wordnet.NOUN,\n",
        "                    \"V\": wordnet.VERB,\n",
        "                    \"R\": wordnet.ADV}\n",
        "        return tag_dict.get(tag, wordnet.NOUN)\n",
        "\n",
        "    def clean_text(self, text):\n",
        "        \"\"\"Basic text cleaning\"\"\"\n",
        "        if not isinstance(text, str):\n",
        "            return \"\"\n",
        "\n",
        "        # Convert to lowercase\n",
        "        text = text.lower()\n",
        "\n",
        "        # Remove URLs, emails, HTML tags\n",
        "        text = re.sub(r'http\\S+|www\\S+|https\\S+', '', text)\n",
        "        text = re.sub(r'\\S+@\\S+', '', text)\n",
        "        text = re.sub(r'<.*?>', '', text)\n",
        "\n",
        "        # Remove special characters but keep spaces\n",
        "        text = re.sub(r'[^a-zA-Z\\s]', '', text)\n",
        "\n",
        "        # Remove digits\n",
        "        text = re.sub(r'\\d', '', text)\n",
        "\n",
        "        # Remove extra whitespace\n",
        "        text = ' '.join(text.split())\n",
        "\n",
        "        return text\n",
        "\n",
        "    def lemmatize_text(self, text):\n",
        "        \"\"\"Apply lemmatization with POS tagging\"\"\"\n",
        "        tokens = word_tokenize(text)\n",
        "\n",
        "        lemmatized_tokens = []\n",
        "        for token in tokens:\n",
        "            if token not in self.stop_words and len(token) > 2:\n",
        "                # Get POS tag and lemmatize\n",
        "                pos_tag = self.get_wordnet_pos(token)\n",
        "                lemmatized_token = self.lemmatizer.lemmatize(token, pos_tag)\n",
        "                lemmatized_tokens.append(lemmatized_token)\n",
        "\n",
        "        return ' '.join(lemmatized_tokens)\n",
        "\n",
        "    def preprocess(self, text):\n",
        "        \"\"\"Complete preprocessing pipeline\"\"\"\n",
        "        cleaned_text = self.clean_text(text)\n",
        "        lemmatized_text = self.lemmatize_text(cleaned_text)\n",
        "        return lemmatized_text\n",
        "\n",
        "print(\"Text preprocessing class created!\")"
      ],
      "metadata": {
        "colab": {
          "base_uri": "https://localhost:8080/"
        },
        "id": "A2Ld2oo61cnx",
        "outputId": "273b92f1-d1da-461f-d2ff-af55a7260347"
      },
      "execution_count": 7,
      "outputs": [
        {
          "output_type": "stream",
          "name": "stdout",
          "text": [
            "Text preprocessing class created!\n"
          ]
        }
      ]
    },
    {
      "cell_type": "code",
      "source": [
        "# Apply Text Preprocessing to the \"text\" column\n",
        "\n",
        "# Initialize the preprocessor\n",
        "preprocessor = TextPreprocessor()\n",
        "\n",
        "print(\"Applying advanced text preprocessing with lemmatization...\")\n",
        "\n",
        "# Apply preprocessing to training data\n",
        "df_train['clean_essay'] = df_train['essay'].apply(preprocessor.preprocess)\n",
        "\n",
        "# Apply preprocessing to test data\n",
        "df_test['clean_essay'] = df_test['essay'].apply(preprocessor.preprocess)\n",
        "\n",
        "print(\"Text preprocessing completed!\")"
      ],
      "metadata": {
        "colab": {
          "base_uri": "https://localhost:8080/"
        },
        "id": "6jCkAVuw2qz2",
        "outputId": "c6051f47-ecd6-4682-b4e2-6ff90d999124"
      },
      "execution_count": 8,
      "outputs": [
        {
          "output_type": "stream",
          "name": "stdout",
          "text": [
            "Applying advanced text preprocessing with lemmatization...\n",
            "Text preprocessing completed!\n"
          ]
        }
      ]
    },
    {
      "cell_type": "code",
      "source": [
        "# Show examples of preprocessing\n",
        "print(\"\\nExamples of text preprocessing:\")\n",
        "print(\"Original:\", df_train['essay'].iloc[0])\n",
        "print(\"Processed:\", df_train['clean_essay'].iloc[0])\n",
        "print()\n",
        "print(\"Original:\", df_train['essay'].iloc[5])\n",
        "print(\"Processed:\", df_train['clean_essay'].iloc[5])"
      ],
      "metadata": {
        "colab": {
          "base_uri": "https://localhost:8080/"
        },
        "id": "Ablk21jq3wA2",
        "outputId": "058fe0bc-aa08-4e9d-939a-ca412abbaecc"
      },
      "execution_count": 9,
      "outputs": [
        {
          "output_type": "stream",
          "name": "stdout",
          "text": [
            "\n",
            "Examples of text preprocessing:\n",
            "Original: International sports events require the most well-trained athletes for each country, in order to achieve this goal countries make an effort to build infrastructure designed to train top athletes. Although this policy can indeed make fewer sports facilities for ordinary people, investing in the best athletes is vital to develop competitive sports performances in each country.\n",
            "On the one hand, building specific infrastructure for the best athletes is crucial in order to get better results at international sports events such as The Olympics or the World Cup. The importance of getting better results is that it creates awareness of the importance of sports in society and motivates more people to do a sport. In this way, investing in these developments can help countries to develop an integral sport policy that can benefit everyone.\n",
            "On the other hand, one can argue that a negative effect could be that less infrastructure is built for the rest of the people. However, people who practice a sport in their daily life do not necessarily need some facilities to do sports. For example, people often use public spaces to do sports such as running or doing yoga at the nearest park to their home. So, for people who is not top athletes there could be some alternatives for sports facility that ,is not the case for training top athletes.\n",
            "To sum up, I strongly believe countries should invest in specialised infrastructure for their best athletes because in the long term is going to generate more motivation to do sports, to invest in sports at schools and therefore to build more sports infrastructure for everyone.\n",
            "Processed: international sport event require welltrained athlete country order achieve goal country make effort build infrastructure design train top athlete although policy indeed make few sport facility ordinary people invest best athlete vital develop competitive sport performance country one hand building specific infrastructure best athlete crucial order get well result international sport event olympics world cup importance get well result creates awareness importance sport society motivates people sport way invest development help country develop integral sport policy benefit everyone hand one argue negative effect could less infrastructure built rest people however people practice sport daily life necessarily need facility sport example people often use public space sport run yoga near park home people top athlete could alternative sport facility case training top athlete sum strongly believe country invest specialise infrastructure best athlete long term go generate motivation sport invest sport school therefore build sport infrastructure everyone\n",
            "\n",
            "Original: These days the space exploration is not just an imagination since human beings landed and step their foot on the moon decades ago. In addition, the fast technology evolution in the present came from the concerns of many scientists around the world. Some people believe that focusing on the space evolution matter. While others argue that they should invest inside the country. In my opinion, the exploration of our planet could enhance people's lives in many different ways. However, the human organization should do the best in other more useful sectors to improve human needs.\n",
            "On one hand, the space exploration has always been a fascinating topic over recent years. Scientists researching to find out and trying to know what is hiding out of the black hole and another universal plant if it is livable or has any natural resources. For example, in 1991 research proved that to travel from the earth to the nearest planet it could take approximately 3 to 4 months continually. In other words, exploration of a planet is costly as well as takes much time to reach it.\n",
            "On the other hand, the benefit of universe exploration may change our earth's environment and improve our lives for the next coming generation in technology. For instance, people after the year 2000 had better communication with each other which was not even possible at any time ever. Moreover, the government invests to develop space exploration companies.\n",
            "In conclusion, after carefully explaining my points of view I strongly believe that space companies such as SpaceX must try to find a new resources to visit other planets. However, I agree that they should be done after providing the basic needs of the human on earth and investing to solve poverty and any other human tragedies.\n",
            "Processed: day space exploration imagination since human being land step foot moon decade ago addition fast technology evolution present come concern many scientist around world people believe focus space evolution matter others argue invest inside country opinion exploration planet could enhance people life many different way however human organization best useful sector improve human need one hand space exploration always fascinate topic recent year scientist research find try know hiding black hole another universal plant livable natural resource example research prove travel earth near planet could take approximately month continually word exploration planet costly well take much time reach hand benefit universe exploration may change earth environment improve life next come generation technology instance people year well communication even possible time ever moreover government invests develop space exploration company conclusion carefully explain point view strongly believe space company spacex must try find new resource visit planet however agree do provide basic need human earth invest solve poverty human tragedy\n"
          ]
        }
      ]
    },
    {
      "cell_type": "code",
      "source": [
        "# Show vocab before text cleaning\n",
        "train_vocab = set(\" \".join(df_train['essay']).split())\n",
        "test_vocab = set(\" \".join(df_test['essay']).split())\n",
        "\n",
        "print(\"=== Vocabulary statistics before text cleaning ===\")\n",
        "print(f\"Train unique words : {len(train_vocab):,}\")\n",
        "print(f\"Test  unique words : {len(test_vocab):,}\")"
      ],
      "metadata": {
        "colab": {
          "base_uri": "https://localhost:8080/"
        },
        "id": "SVXS7Mm94Tzc",
        "outputId": "512a04fb-8557-4282-b00c-4195670a3367"
      },
      "execution_count": 10,
      "outputs": [
        {
          "output_type": "stream",
          "name": "stdout",
          "text": [
            "=== Vocabulary statistics before text cleaning ===\n",
            "Train unique words : 42,702\n",
            "Test  unique words : 16,261\n"
          ]
        }
      ]
    },
    {
      "cell_type": "code",
      "source": [
        "# Show vocab after text cleaning\n",
        "train_vocab = set(\" \".join(df_train['clean_essay']).split())\n",
        "test_vocab = set(\" \".join(df_test['clean_essay']).split())\n",
        "\n",
        "print(\"=== Vocabulary statistics before text cleaning ===\")\n",
        "print(f\"Train unique words : {len(train_vocab):,}\")\n",
        "print(f\"Test  unique words : {len(test_vocab):,}\")"
      ],
      "metadata": {
        "colab": {
          "base_uri": "https://localhost:8080/"
        },
        "id": "jCeTWHtj37Yw",
        "outputId": "8d915742-737d-47f3-8d7d-3ea67383c9ba"
      },
      "execution_count": 11,
      "outputs": [
        {
          "output_type": "stream",
          "name": "stdout",
          "text": [
            "=== Vocabulary statistics before text cleaning ===\n",
            "Train unique words : 21,269\n",
            "Test  unique words : 8,829\n"
          ]
        }
      ]
    },
    {
      "cell_type": "code",
      "source": [
        "#Distribution of character length and token length in the training data\n",
        "\n",
        "df_train['char_length'] = df_train['clean_essay'].apply(lambda x : len(x))\n",
        "df_train['token_length'] = df_train['clean_essay'].apply(lambda x : len(x.split(\" \")))\n",
        "\n",
        "fig, (ax1, ax2)  = plt.subplots(nrows=1, ncols=2, figsize=(12,6))\n",
        "sns.distplot(df_train['char_length'], ax=ax1)\n",
        "sns.distplot(df_train['token_length'], ax=ax2)\n",
        "ax1.set_title('Number of characters in essays')\n",
        "ax2.set_title('Number of token(words) in essays')\n",
        "plt.show()"
      ],
      "metadata": {
        "colab": {
          "base_uri": "https://localhost:8080/",
          "height": 564
        },
        "id": "2Fh9sI1h_VLP",
        "outputId": "fc044e32-89a5-474a-b10b-83ceed021216"
      },
      "execution_count": 12,
      "outputs": [
        {
          "output_type": "display_data",
          "data": {
            "text/plain": [
              "<Figure size 1200x600 with 2 Axes>"
            ],
            "image/png": "[encoded data removed]"
          },
          "metadata": {}
        }
      ]
    },
    {
      "cell_type": "code",
      "source": [
        "# Define features and target\n",
        "X = df_train['clean_essay']  # All text data\n",
        "y = df_train['label']       # All labels\n",
        "\n",
        "print(f\"Total input text samples: {len(X)}\")\n",
        "print(f\"Total labels: {len(y)}\")\n",
        "\n",
        "# Count labels\n",
        "label_counts = np.bincount(y)\n",
        "print(f\"Label distribution: {label_counts}\")\n",
        "print(f\"Number of 0s (class 0): {label_counts[0]:,}\")\n",
        "print(f\"Number of 1s (class 1): {label_counts[1]:,}\")\n",
        "\n",
        "# Calculate percentages\n",
        "total_samples = len(y)\n",
        "percentage_0 = (label_counts[0] / total_samples) * 100\n",
        "percentage_1 = (label_counts[1] / total_samples) * 100\n",
        "\n",
        "print(f\"Percentage of 0s: {percentage_0:.1f}%\")\n",
        "print(f\"Percentage of 1s: {percentage_1:.1f}%\")\n",
        "\n",
        "print(f\"\\nFirst sample: {X.iloc[0][:100]}...\")"
      ],
      "metadata": {
        "colab": {
          "base_uri": "https://localhost:8080/"
        },
        "id": "oFrSZKsS397z",
        "outputId": "fc5d5a43-261b-438a-b179-3dddd4641095"
      },
      "execution_count": 13,
      "outputs": [
        {
          "output_type": "stream",
          "name": "stdout",
          "text": [
            "Total input text samples: 3728\n",
            "Total labels: 3728\n",
            "Label distribution: [1864 1864]\n",
            "Number of 0s (class 0): 1,864\n",
            "Number of 1s (class 1): 1,864\n",
            "Percentage of 0s: 50.0%\n",
            "Percentage of 1s: 50.0%\n",
            "\n",
            "First sample: international sport event require welltrained athlete country order achieve goal country make effort...\n"
          ]
        }
      ]
    },
    {
      "cell_type": "markdown",
      "source": [
        "# **3. Create Training and Validation Data**"
      ],
      "metadata": {
        "id": "8zORj3cl5fyD"
      }
    },
    {
      "cell_type": "code",
      "source": [
        "print(\"Applying train-test split on pre-processed text data...\")\n",
        "\n",
        "X_train, X_val, y_train, y_val = train_test_split(\n",
        "    X,                    # preprocessed text data\n",
        "    y,                    # Labels\n",
        "    test_size=0.2,        # 20% for validation\n",
        "    random_state=42,      # For reproducibility\n",
        "    stratify=y            # Maintain label distribution\n",
        ")\n",
        "\n",
        "print(f\"Train-test split completed:\")\n",
        "print(f\"Training samples: {len(X_train):,}\")\n",
        "print(f\"Validation samples: {len(X_val):,}\")"
      ],
      "metadata": {
        "colab": {
          "base_uri": "https://localhost:8080/"
        },
        "id": "0hDAJ9Kn47qd",
        "outputId": "0abe273f-7d57-4121-a651-f1a506919b52"
      },
      "execution_count": 14,
      "outputs": [
        {
          "output_type": "stream",
          "name": "stdout",
          "text": [
            "Applying train-test split on pre-processed text data...\n",
            "Train-test split completed:\n",
            "Training samples: 2,982\n",
            "Validation samples: 746\n"
          ]
        }
      ]
    },
    {
      "cell_type": "code",
      "source": [
        "# Set random seed for reproducible results\n",
        "np.random.seed(7)\n",
        "\n",
        "#Tokenization (Fit ONLY on training data)\n",
        "print(\"\\n\" + \"=\"*60)\n",
        "print(\"TOKENIZATION\")\n",
        "print(\"=\"*60)\n",
        "\n",
        "print(\"Fitting tokenizer on training data only...\")\n",
        "\n",
        "# Initialize tokenizer\n",
        "tokenizer = Tokenizer(filters='!\"#$%&()*+,-./:;<=>?@[\\\\]^_`{|}~\\t\\n')\n",
        "\n",
        "# Fit tokenizer ONLY on training data\n",
        "tokenizer.fit_on_texts(X_train)\n",
        "\n",
        "print(f\"\\nTokenizer vocabulary size: {len(tokenizer.word_index):,}\")\n",
        "\n",
        "# Get word index (word to integer mapping)\n",
        "word_index = tokenizer.word_index\n",
        "\n",
        "print(f\"Found {len(word_index)} unique tokens\")\n",
        "\n",
        "# Show most common words\n",
        "print(f\"\\nMost frequent words:\")\n",
        "for i, (word, index) in enumerate(list(word_index.items())[:10]):\n",
        "    print(f\"  {i+1}. '{word}': index {index}\")"
      ],
      "metadata": {
        "colab": {
          "base_uri": "https://localhost:8080/"
        },
        "id": "PMoJb3-65oYA",
        "outputId": "b7377142-3070-430e-f8e3-5d423c88100d"
      },
      "execution_count": 15,
      "outputs": [
        {
          "output_type": "stream",
          "name": "stdout",
          "text": [
            "\n",
            "============================================================\n",
            "TOKENIZATION\n",
            "============================================================\n",
            "Fitting tokenizer on training data only...\n",
            "\n",
            "Tokenizer vocabulary size: 18,742\n",
            "Found 18742 unique tokens\n",
            "\n",
            "Most frequent words:\n",
            "  1. 'people': index 1\n",
            "  2. 'new': index 2\n",
            "  3. 'risk': index 3\n",
            "  4. 'take': index 4\n",
            "  5. 'thing': index 5\n",
            "  6. 'try': index 6\n",
            "  7. 'successful': index 7\n",
            "  8. 'life': index 8\n",
            "  9. 'success': index 9\n",
            "  10. 'well': index 10\n"
          ]
        }
      ]
    },
    {
      "cell_type": "code",
      "source": [
        "# Convert texts to sequences\n",
        "print(\"Converting texts to sequences...\")\n",
        "X_train_seq = tokenizer.texts_to_sequences(X_train)\n",
        "X_val_seq = tokenizer.texts_to_sequences(X_val)\n",
        "\n",
        "print(\"Text to sequence conversion completed.\")"
      ],
      "metadata": {
        "colab": {
          "base_uri": "https://localhost:8080/"
        },
        "id": "cp2RWE2m6A0p",
        "outputId": "73d4b4d2-410f-40fe-b8a4-61c1bc1c3ce9"
      },
      "execution_count": 16,
      "outputs": [
        {
          "output_type": "stream",
          "name": "stdout",
          "text": [
            "Converting texts to sequences...\n",
            "Text to sequence conversion completed.\n"
          ]
        }
      ]
    },
    {
      "cell_type": "code",
      "source": [
        "# Check sequence lengths before padding\n",
        "lengths = [len(seq) for seq in X_train_seq]\n",
        "print(f\"Average length: {np.mean(lengths):.1f}\")\n",
        "print(f\"Max length: {max(lengths)}\")\n",
        "print(f\"95th percentile: {np.percentile(lengths, 95):.1f}\")"
      ],
      "metadata": {
        "colab": {
          "base_uri": "https://localhost:8080/"
        },
        "id": "PFthcQVh6Ht2",
        "outputId": "37b07772-3583-4a55-dd2e-8cb12cd108fc"
      },
      "execution_count": 17,
      "outputs": [
        {
          "output_type": "stream",
          "name": "stdout",
          "text": [
            "Average length: 148.2\n",
            "Max length: 236\n",
            "95th percentile: 191.0\n"
          ]
        }
      ]
    },
    {
      "cell_type": "code",
      "source": [
        "print(\"To choose optimal sequence length, we need to analyze our text lengths.\")\n",
        "\n",
        "# Analyze sequence lengths in our dataset\n",
        "text_lengths = [len(text.split()) for text in df_train['clean_essay']]\n",
        "\n",
        "print(\"Our tweet text length statistics:\")\n",
        "print(f\"Mean length: {np.mean(text_lengths):.1f} words\")\n",
        "print(f\"Median length: {np.median(text_lengths):.1f} words\")\n",
        "print(f\"90th percentile: {np.percentile(text_lengths, 90):.0f} words\")\n",
        "print(f\"95th percentile: {np.percentile(text_lengths, 95):.0f} words\")\n",
        "print(f\"99th percentile: {np.percentile(text_lengths, 99):.0f} words\")\n",
        "\n",
        "coverage_200 = np.mean(np.array(text_lengths) <= 200) * 100\n",
        "coverage_215 = np.mean(np.array(text_lengths) <= 215) * 100\n",
        "coverage_220 = np.mean(np.array(text_lengths) <= 220) * 100\n",
        "\n",
        "# Check coverage with MAX_SEQUENCE_LENGTH\n",
        "print(f\"Coverage with length 200: {coverage_200:.1f}%\")\n",
        "print(f\"Coverage with length 215: {coverage_215:.1f}%\")\n",
        "print(f\"Coverage with length 220: {coverage_220:.1f}%\")\n",
        "\n",
        "print(\"\\nRECOMMENDATIONS:\")\n",
        "print(\"=\"*50)\n",
        "\n",
        "# Based on our actual data statistics\n",
        "max_length = int(np.max(text_lengths))\n",
        "mean_length = np.mean(text_lengths)\n",
        "percentile_95 = np.percentile(text_lengths, 95)\n",
        "percentile_99 = np.percentile(text_lengths, 99)\n",
        "\n",
        "if percentile_99 <= 200:\n",
        "    recommended = 215\n",
        "    print(f\"RECOMMENDED: MAX_SEQUENCE_LENGTH = {recommended}\")\n",
        "    print(\"   Effect: Perfect for our tweet data, excellent coverage with minimal padding\")\n",
        "elif percentile_99 <= 215:\n",
        "    recommended = 220\n",
        "    print(f\"RECOMMENDED: MAX_SEQUENCE_LENGTH = {recommended}\")\n",
        "    print(\"   Effect: Optimal for our data, covers all tweets with small buffer\")\n",
        "elif percentile_99 <= 220:\n",
        "    recommended = 230\n",
        "    print(f\"RECOMMENDED: MAX_SEQUENCE_LENGTH = {recommended}\")\n",
        "    print(\"   Effect: Safe choice, covers all tweets with reasonable buffer\")\n",
        "else:\n",
        "    recommended = int(percentile_99) + 5\n",
        "    print(f\"RECOMMENDED: MAX_SEQUENCE_LENGTH = {recommended}\")\n",
        "    print(\"Effect: Covers 99% of tweets with small buffer\")\n",
        "\n",
        "print(f\"\\nAlternative options:\")\n",
        "if coverage_200 >= 95:\n",
        "    print(f\"• Length 200: Covers {coverage_200:.1f}% - Very fast training\")\n",
        "if coverage_215 >= 99:\n",
        "    print(f\"• Length 215: Covers {coverage_215:.1f}% - Excellent balance\")\n",
        "if coverage_220 == 100:\n",
        "    print(f\"• Length 220: Covers {coverage_220:.1f}% - Conservative choice\")"
      ],
      "metadata": {
        "colab": {
          "base_uri": "https://localhost:8080/"
        },
        "id": "H_XyEeWJ_pu_",
        "outputId": "78d0f088-3c68-4f49-8214-83e3a8634b62"
      },
      "execution_count": 18,
      "outputs": [
        {
          "output_type": "stream",
          "name": "stdout",
          "text": [
            "To choose optimal sequence length, we need to analyze our text lengths.\n",
            "Our tweet text length statistics:\n",
            "Mean length: 147.8 words\n",
            "Median length: 148.0 words\n",
            "90th percentile: 181 words\n",
            "95th percentile: 191 words\n",
            "99th percentile: 207 words\n",
            "Coverage with length 200: 98.0%\n",
            "Coverage with length 215: 99.8%\n",
            "Coverage with length 220: 99.9%\n",
            "\n",
            "RECOMMENDATIONS:\n",
            "==================================================\n",
            "RECOMMENDED: MAX_SEQUENCE_LENGTH = 220\n",
            "   Effect: Optimal for our data, covers all tweets with small buffer\n",
            "\n",
            "Alternative options:\n",
            "• Length 200: Covers 98.0% - Very fast training\n",
            "• Length 215: Covers 99.8% - Excellent balance\n"
          ]
        }
      ]
    },
    {
      "cell_type": "code",
      "source": [
        "#Padding\n",
        "print(\"\\n\" + \"=\"*60)\n",
        "print(\"PADDING SEQUENCES\")\n",
        "print(\"=\"*60)\n",
        "\n",
        "print(\"Applying padding to sequences...\")\n",
        "\n",
        "# Pad sequences, we set 220 the Maximum length for each sequence\n",
        "X_train_padded = pad_sequences(X_train_seq, maxlen=220, padding=\"post\")  # padding = \"post\" adds zeros at the end\n",
        "X_val_padded = pad_sequences(X_val_seq, maxlen=220, padding='post')\n",
        "\n",
        "print(f\"Padding completed:\")\n",
        "print(f\"Training data shape: {X_train_padded.shape}\")\n",
        "print(f\"Validation data shape: {X_val_padded.shape}\")"
      ],
      "metadata": {
        "colab": {
          "base_uri": "https://localhost:8080/"
        },
        "id": "tW4t70-L6Kfj",
        "outputId": "427c7f0a-37e4-4e3d-f1fa-3594a65081e9"
      },
      "execution_count": 19,
      "outputs": [
        {
          "output_type": "stream",
          "name": "stdout",
          "text": [
            "\n",
            "============================================================\n",
            "PADDING SEQUENCES\n",
            "============================================================\n",
            "Applying padding to sequences...\n",
            "Padding completed:\n",
            "Training data shape: (2982, 220)\n",
            "Validation data shape: (746, 220)\n"
          ]
        }
      ]
    },
    {
      "cell_type": "code",
      "source": [
        "print(f\"added sequence (first 3 sentences): {X_train_padded[1:4][:220]}\")"
      ],
      "metadata": {
        "colab": {
          "base_uri": "https://localhost:8080/"
        },
        "id": "UqDgV-zm6oRg",
        "outputId": "77c63e81-f32f-48f7-94cd-392c765de6d5"
      },
      "execution_count": 20,
      "outputs": [
        {
          "output_type": "stream",
          "name": "stdout",
          "text": [
            "added sequence (first 3 sentences): [[ 307   56    8    1  217  600 1370   32 3220   21   37    4    3 6018\n",
            "   322   48   15 2096  466  133 8280  121   11   35   49 1109  112   73\n",
            "    56    8  413    1  117   84   58   15   85  307  176   56  659  193\n",
            "    11   32   12  524  699   37    4    3    6   75    2    5  652   54\n",
            "   242  695  532  362   60   15   61 1434  814   54 1434  982   37  143\n",
            "  1434   95 8281   95   26   99  114   70  254    4    3   61  430  104\n",
            "   474  814   54 1110  991   39    5   12  474  814 1006    4    3  413\n",
            "   794   54   46 1993   66   62   32  545    2    8   37  413  269    4\n",
            "     3   60   85  192   56    8 8282   23 3220    0    0    0    0    0\n",
            "     0    0    0    0    0    0    0    0    0    0    0    0    0    0\n",
            "     0    0    0    0    0    0    0    0    0    0    0    0    0    0\n",
            "     0    0    0    0    0    0    0    0    0    0    0    0    0    0\n",
            "     0    0    0    0    0    0    0    0    0    0    0    0    0    0\n",
            "     0    0    0    0    0    0    0    0    0    0    0    0    0    0\n",
            "     0    0    0    0    0    0    0    0    0    0    0    0    0    0\n",
            "     0    0    0    0    0    0    0    0    0    0]\n",
            " [  19    4    3  120  292    8  142 1007  214    8    3   51    1  247\n",
            "    84   10  854   84  172    1  100  854   31   32  781    9    1  210\n",
            "    97    5   18   45   19   23    1  607  472  416  121   55    6   75\n",
            "    31   10   15  704  271 1265  644  247  232   58  125  123 1073 2467\n",
            "   737  271  228   78 2097 1627   56  247   58   44   58    5   32  128\n",
            "  1872 1250 2098  737   13    1    4    3  427 2098  128 4452 2098  682\n",
            "  8283  653   50    3   11 2563  196 2563   17   54 1073  193  139   20\n",
            "  4045  130   54   30 1207  142   24  117   84   33   17   24   94   16\n",
            "   512   54  166  114  142  139 6019  171  777  579   58  707  724    1\n",
            "  1157 4046  409  192   54   12 8284  125  874   16 4453  963  207 1537\n",
            "    61  535  371 2650  121    1  233  256 2650   17    1   26  487  313\n",
            "  8285 8286    0    0    0    0    0    0    0    0    0    0    0    0\n",
            "     0    0    0    0    0    0    0    0    0    0    0    0    0    0\n",
            "     0    0    0    0    0    0    0    0    0    0    0    0    0    0\n",
            "     0    0    0    0    0    0    0    0    0    0    0    0    0    0\n",
            "     0    0    0    0    0    0    0    0    0    0]\n",
            " [ 542    1    6    2    5    4    3   55   18   11   10   43  383  221\n",
            "    48   57    7    1  708  322  215    7  421    6    2    5   52  243\n",
            "     8   15   14    7    1  428    1   35   14   13   61 8287   90  216\n",
            "     7    1   38 3700   14   25    4    3    4  130    3   41  130  690\n",
            "    19   14    4    3  215   41    9   94    3    3   94  713   19   14\n",
            "  1538   18   11   10   17 1175    1  496   13    5  141  235   70  243\n",
            "  8288   83    7    1    6    2    5    4    3   55   18   11   10   48\n",
            "    14    5    6   24   25    4    3   41    9    0    0    0    0    0\n",
            "     0    0    0    0    0    0    0    0    0    0    0    0    0    0\n",
            "     0    0    0    0    0    0    0    0    0    0    0    0    0    0\n",
            "     0    0    0    0    0    0    0    0    0    0    0    0    0    0\n",
            "     0    0    0    0    0    0    0    0    0    0    0    0    0    0\n",
            "     0    0    0    0    0    0    0    0    0    0    0    0    0    0\n",
            "     0    0    0    0    0    0    0    0    0    0    0    0    0    0\n",
            "     0    0    0    0    0    0    0    0    0    0    0    0    0    0\n",
            "     0    0    0    0    0    0    0    0    0    0]]\n"
          ]
        }
      ]
    },
    {
      "cell_type": "markdown",
      "source": [
        "### Creating Tensors\n",
        "\n",
        "Both `x_train_padded` and `X_val` are still sparse matrices. To be used by PyTorch, we need to do 2 more steps.\n",
        "\n",
        "* Convert the sparse represention to dense representation.\n",
        "\n",
        "* Convert arrays to Tensors, which is essentially PyTorch's version of arrays."
      ],
      "metadata": {
        "id": "IyKUgnrm7HEs"
      }
    },
    {
      "cell_type": "code",
      "source": [
        "print(\"Converting numpy arrays to PyTorch tensors...\")\n",
        "\n",
        "# Convert input data to LongTensor for embedding lookup\n",
        "X_train_tensor = torch.LongTensor(X_train_padded)\n",
        "X_val_tensor = torch.LongTensor(X_val_padded)\n",
        "\n",
        "# Convert pandas Series to numpy arrays first, then to tensors\n",
        "y_train_tensor = torch.LongTensor(y_train.values)  # # .values converts Series to numpy\n",
        "y_val_tensor = torch.LongTensor(y_val.values)\n",
        "\n",
        "print(f\"Data conversion completed!\")\n",
        "print(f\"X_train shape: {X_train_tensor.shape}\")\n",
        "print(f\"X_val shape: {X_val_tensor.shape}\")\n",
        "print(f\"y_train shape: {y_train_tensor.shape}\")\n",
        "print(f\"y_val shape: {y_val_tensor.shape}\")"
      ],
      "metadata": {
        "colab": {
          "base_uri": "https://localhost:8080/"
        },
        "id": "bmR0pOux63a5",
        "outputId": "5bae5bd3-616e-42f7-845d-229c0f298c77"
      },
      "execution_count": 21,
      "outputs": [
        {
          "output_type": "stream",
          "name": "stdout",
          "text": [
            "Converting numpy arrays to PyTorch tensors...\n",
            "Data conversion completed!\n",
            "X_train shape: torch.Size([2982, 220])\n",
            "X_val shape: torch.Size([746, 220])\n",
            "y_train shape: torch.Size([2982])\n",
            "y_val shape: torch.Size([746])\n"
          ]
        }
      ]
    },
    {
      "cell_type": "markdown",
      "source": [
        "### Creating Data Loaders\n",
        "\n",
        "The [`DataLoader`](https://pytorch.org/docs/stable/data.html#torch.utils.data.DataLoader) class takes a `Dataset` object as input to handle to split the dataset into batches. As such, a data loader also has `batch_size` as an input parameter. In the following, we will use a batch size of 64."
      ],
      "metadata": {
        "id": "HwaxzKbhAotg"
      }
    },
    {
      "cell_type": "code",
      "source": [
        "# Create Data Loaders\n",
        "print(\"Create Data Loaders\")\n",
        "\n",
        "batch_size = 64\n",
        "\n",
        "# Create datasets\n",
        "train_dataset = TensorDataset(X_train_tensor, y_train_tensor)\n",
        "val_dataset = TensorDataset(X_val_tensor, y_val_tensor)\n",
        "\n",
        "# Create data loaders\n",
        "train_loader = DataLoader(train_dataset, batch_size=batch_size, shuffle=True)\n",
        "x_val_loader = DataLoader(val_dataset, batch_size=batch_size, shuffle=False)\n",
        "\n",
        "print(f\"Data loaders created!\")\n",
        "print(f\"Batch size: {batch_size}\")\n",
        "print(f\"Training batches: {len(train_loader)}\")\n",
        "print(f\"Validation batches: {len(x_val_loader)}\")"
      ],
      "metadata": {
        "colab": {
          "base_uri": "https://localhost:8080/"
        },
        "id": "5bjTTvAYAFKU",
        "outputId": "2aba51a2-5ef6-4886-ba4c-1a8e728b2bcd"
      },
      "execution_count": 22,
      "outputs": [
        {
          "output_type": "stream",
          "name": "stdout",
          "text": [
            "Create Data Loaders\n",
            "Data loaders created!\n",
            "Batch size: 64\n",
            "Training batches: 47\n",
            "Validation batches: 12\n"
          ]
        }
      ]
    },
    {
      "cell_type": "code",
      "source": [
        "for X_batch, y_batch in train_loader:\n",
        "    print(\"Shape of the input:  \", X_batch.shape)\n",
        "    print(\"shape of the output: \", y_batch.shape)\n",
        "    break"
      ],
      "metadata": {
        "colab": {
          "base_uri": "https://localhost:8080/"
        },
        "id": "wK8mWDWcBmBu",
        "outputId": "fe53f7d4-3695-4960-b885-0e641ef704c7"
      },
      "execution_count": 23,
      "outputs": [
        {
          "output_type": "stream",
          "name": "stdout",
          "text": [
            "Shape of the input:   torch.Size([64, 220])\n",
            "shape of the output:  torch.Size([64])\n"
          ]
        }
      ]
    },
    {
      "cell_type": "markdown",
      "source": [
        "# **4. Representing Text as Numerical Data with Word Embeddings**\n",
        "\n",
        "Before we train our machine learning models, a crucial step is to convert our raw text data into numerical vectors. We will utilize different techniques for this text vectorization process, including:\n",
        "\n",
        "*   **Word2Vec Embedding**\n",
        "*   **GloVe Embedding**\n",
        "*   **FastText Embedding**"
      ],
      "metadata": {
        "id": "W3fZgzZqCIt7"
      }
    },
    {
      "cell_type": "markdown",
      "source": [
        "### Word2Vec Embedding"
      ],
      "metadata": {
        "id": "PnoSSuVuDLrr"
      }
    },
    {
      "cell_type": "code",
      "source": [
        "# Prepare data for Gensim Word2Vec\n",
        "# Gensim's Word2Vec expects a list of lists of strings (words)\n",
        "\n",
        "print(\"Preparing tokenized sentences for Gensim Word2Vec...\")\n",
        "\n",
        "# Convert the X_train series to a list of tokenized sentences\n",
        "# Split each cleaned essay string into a list of words\n",
        "tokenized_sentences_train = [essay.split() for essay in X_train]\n",
        "vocab_size = len(tokenizer.word_index) + 1\n",
        "\n",
        "print(f\"Vocabulary size: {vocab_size}\")\n",
        "\n",
        "print(f\"Prepared {len(tokenized_sentences_train):,} tokenized sentences from X_train.\")\n",
        "print(\"First tokenized sentence:\", tokenized_sentences_train[0][:20]) # Print first 20 words of first sentence\n",
        "\n",
        "# Now, train the Word2Vec model using the tokenized sentences\n",
        "print(\"\\nTraining Gensim Word2Vec model...\")\n",
        "word2vec_model = gensim.models.Word2Vec(\n",
        "    sentences=tokenized_sentences_train,\n",
        "    min_count=1,\n",
        "    window=5,\n",
        "    sg=0 # sg=0 for CBOW, sg=1 for Skip-gram\n",
        ")\n",
        "\n",
        "embedding_dict = dict({})\n",
        "for idx, key in enumerate(word2vec_model.wv.key_to_index.keys()):\n",
        "    embedding_dict[key] = word2vec_model.wv[key]\n",
        "\n",
        "print(\"Word2Vec model training completed.\")"
      ],
      "metadata": {
        "colab": {
          "base_uri": "https://localhost:8080/"
        },
        "id": "z0VnfnoSP6ck",
        "outputId": "d5404f51-047c-4147-dc47-08f1d7212b3c"
      },
      "execution_count": 24,
      "outputs": [
        {
          "output_type": "stream",
          "name": "stdout",
          "text": [
            "Preparing tokenized sentences for Gensim Word2Vec...\n",
            "Vocabulary size: 18743\n",
            "Prepared 2,982 tokenized sentences from X_train.\n",
            "First tokenized sentence: ['manner', 'workplace', 'always', 'topic', 'discuss', 'many', 'people', 'essential', 'know', 'behave', 'formal', 'environment', 'company', 'give', 'opinion', 'worker', 'smart', 'look', 'others', 'consider']\n",
            "\n",
            "Training Gensim Word2Vec model...\n",
            "Word2Vec model training completed.\n"
          ]
        }
      ]
    },
    {
      "cell_type": "code",
      "source": [
        "# summarize vocabulary size in model\n",
        "words = list(word2vec_model.wv.key_to_index.keys())\n",
        "print('Vocabulary size: %d' % len(words))"
      ],
      "metadata": {
        "colab": {
          "base_uri": "https://localhost:8080/"
        },
        "id": "bRxoqZh2ZeVW",
        "outputId": "c803bc4d-0796-4b23-e4e8-efeced77551d"
      },
      "execution_count": 25,
      "outputs": [
        {
          "output_type": "stream",
          "name": "stdout",
          "text": [
            "Vocabulary size: 18742\n"
          ]
        }
      ]
    },
    {
      "cell_type": "markdown",
      "source": [
        "#### Create Embedding Matrix"
      ],
      "metadata": {
        "id": "yKpn6W54aLR3"
      }
    },
    {
      "cell_type": "code",
      "source": [
        "# Create Embedding Matrix\n",
        "print(\"Converting embedding dictionary to embedding matrix...\")\n",
        "\n",
        "# Create embedding matrix\n",
        "emb_matrix = np.zeros((vocab_size, 100))\n",
        "\n",
        "words_found = 0\n",
        "uncovered_words = []\n",
        "\n",
        "for word, i in tokenizer.word_index.items():\n",
        "    emb_word = embedding_dict.get(word)\n",
        "    if emb_word is not None:\n",
        "        emb_matrix[i] = emb_word\n",
        "        words_found += 1\n",
        "    else:\n",
        "        uncovered_words.append(word)\n",
        "\n",
        "coverage_percentage = (words_found / len(tokenizer.word_index)) * 100\n",
        "\n",
        "print(f\"Embedding matrix created:\")\n",
        "print(f\"Matrix shape: {emb_matrix.shape}\")\n",
        "print(f\"Words found in Word2Vec: {words_found:,} / {len(tokenizer.word_index):,}\")\n",
        "print(f\"Coverage: {coverage_percentage:.2f}%\")\n",
        "\n",
        "# Show uncovered words\n",
        "if uncovered_words:\n",
        "    print(f\"Sample uncovered words: {uncovered_words[:10]}\")"
      ],
      "metadata": {
        "colab": {
          "base_uri": "https://localhost:8080/"
        },
        "id": "2QDHnlujaOlc",
        "outputId": "ed2dc266-8421-4382-9e50-fecf6d810a77"
      },
      "execution_count": 26,
      "outputs": [
        {
          "output_type": "stream",
          "name": "stdout",
          "text": [
            "Converting embedding dictionary to embedding matrix...\n",
            "Embedding matrix created:\n",
            "Matrix shape: (18743, 100)\n",
            "Words found in Word2Vec: 18,742 / 18,742\n",
            "Coverage: 100.00%\n"
          ]
        }
      ]
    },
    {
      "cell_type": "markdown",
      "source": [
        "#### Create Embedding Layer"
      ],
      "metadata": {
        "id": "Oe0NWnDGn0tT"
      }
    },
    {
      "cell_type": "code",
      "source": [
        "#Create Embedding Layer\n",
        "print(\"\\n\" + \"=\"*60)\n",
        "print(\"Create Embedding Layer\")\n",
        "print(\"=\"*60)\n",
        "\n",
        "# Create embedding layer\n",
        "w2v_embedding_layer = Embedding(\n",
        "    vocab_size, #padding token at index 0, + 1 ensure our embedding layer can handle all possible token indices without errors.\n",
        "    100,\n",
        "    embeddings_initializer=tf.keras.initializers.Constant(emb_matrix),\n",
        "    trainable=False  # Set to False if you want to freeze the embeddings\n",
        ")\n",
        "\n",
        "print(\"Embedding layer created successfully!\")"
      ],
      "metadata": {
        "colab": {
          "base_uri": "https://localhost:8080/"
        },
        "id": "KI-yN7MIaSiM",
        "outputId": "99e27b54-ee7f-43d0-9b4c-6f509e0e72b8"
      },
      "execution_count": 27,
      "outputs": [
        {
          "output_type": "stream",
          "name": "stdout",
          "text": [
            "\n",
            "============================================================\n",
            "Create Embedding Layer\n",
            "============================================================\n",
            "Embedding layer created successfully!\n"
          ]
        }
      ]
    },
    {
      "cell_type": "markdown",
      "source": [
        "### GloVe Embedding"
      ],
      "metadata": {
        "id": "CZo_2NcqDOfm"
      }
    },
    {
      "cell_type": "code",
      "source": [
        "# Download Embeddings from huggingface (uncomment for initial run)\n",
        "!wget https://huggingface.co/stanfordnlp/glove/resolve/main/glove.6B.zip\n",
        "!unzip glove.6B.zip"
      ],
      "metadata": {
        "id": "PKAskhMlBtPi",
        "colab": {
          "base_uri": "https://localhost:8080/"
        },
        "outputId": "fc6ad7b2-d5a0-49df-db6d-bec93ee1f9b2"
      },
      "execution_count": 28,
      "outputs": [
        {
          "output_type": "stream",
          "name": "stdout",
          "text": [
            "--2025-06-29 18:22:02--  https://huggingface.co/stanfordnlp/glove/resolve/main/glove.6B.zip\n",
            "Resolving huggingface.co (huggingface.co)... 3.166.152.110, 3.166.152.105, 3.166.152.65, ...\n",
            "Connecting to huggingface.co (huggingface.co)|3.166.152.110|:443... connected.\n",
            "HTTP request sent, awaiting response... 302 Found\n",
            "Location: https://cdn-lfs.hf.co/stanfordnlp/glove/6471382cdd837544bf3ac72497a38715e845897d265b2b424b4761832009c837?response-content-disposition=inline%3B+filename*%3DUTF-8%27%27glove.6B.zip%3B+filename%3D%22glove.6B.zip%22%3B&response-content-type=application%2Fzip&Expires=1751224922&Policy=eyJTdGF0ZW1lbnQiOlt7IkNvbmRpdGlvbiI6eyJEYXRlTGVzc1RoYW4iOnsiQVdTOkVwb2NoVGltZSI6MTc1MTIyNDkyMn19LCJSZXNvdXJjZSI6Imh0dHBzOi8vY2RuLWxmcy5oZi5jby9zdGFuZm9yZG5scC9nbG92ZS82NDcxMzgyY2RkODM3NTQ0YmYzYWM3MjQ5N2EzODcxNWU4NDU4OTdkMjY1YjJiNDI0YjQ3NjE4MzIwMDljODM3P3Jlc3BvbnNlLWNvbnRlbnQtZGlzcG9zaXRpb249KiZyZXNwb25zZS1jb250ZW50LXR5cGU9KiJ9XX0_&Signature=o6m0il3dd6y4gkbR-jSpuy3GHWesLSyn569fuxpeWOAvOGq-n7upVGnDsoNGV4U5hKiZrWkL7AZ3Gm0iIINx1TyPXe-z3jW6%7EF9GRQ6-f3I325wMoslLAzVuzjnmxN8gC4wi9vO5WKOMxYOsqXs0jKGherUQkPxmDhFSIcNTl279mhHI5v4nVmLjCRVDdnS9OwOkTOUy6OT8jiG0f35-juTHaXoc7xMmwxtBMEDpC7iKlfV3rzXr4oEuUmRNz8cvoehlh3wqlssOql3AnMr8n59Cm7KlCqk1ftd3cNgcTPZvwSwBCAMh-efS4V5eUKXYBSl7xAOGCxyQ0Q5SXFfU5Q__&Key-Pair-Id=K3RPWS32NSSJCE [following]\n",
            "--2025-06-29 18:22:02--  https://cdn-lfs.hf.co/stanfordnlp/glove/6471382cdd837544bf3ac72497a38715e845897d265b2b424b4761832009c837?response-content-disposition=inline%3B+filename*%3DUTF-8%27%27glove.6B.zip%3B+filename%3D%22glove.6B.zip%22%3B&response-content-type=application%2Fzip&Expires=1751224922&Policy=eyJTdGF0ZW1lbnQiOlt7IkNvbmRpdGlvbiI6eyJEYXRlTGVzc1RoYW4iOnsiQVdTOkVwb2NoVGltZSI6MTc1MTIyNDkyMn19LCJSZXNvdXJjZSI6Imh0dHBzOi8vY2RuLWxmcy5oZi5jby9zdGFuZm9yZG5scC9nbG92ZS82NDcxMzgyY2RkODM3NTQ0YmYzYWM3MjQ5N2EzODcxNWU4NDU4OTdkMjY1YjJiNDI0YjQ3NjE4MzIwMDljODM3P3Jlc3BvbnNlLWNvbnRlbnQtZGlzcG9zaXRpb249KiZyZXNwb25zZS1jb250ZW50LXR5cGU9KiJ9XX0_&Signature=o6m0il3dd6y4gkbR-jSpuy3GHWesLSyn569fuxpeWOAvOGq-n7upVGnDsoNGV4U5hKiZrWkL7AZ3Gm0iIINx1TyPXe-z3jW6%7EF9GRQ6-f3I325wMoslLAzVuzjnmxN8gC4wi9vO5WKOMxYOsqXs0jKGherUQkPxmDhFSIcNTl279mhHI5v4nVmLjCRVDdnS9OwOkTOUy6OT8jiG0f35-juTHaXoc7xMmwxtBMEDpC7iKlfV3rzXr4oEuUmRNz8cvoehlh3wqlssOql3AnMr8n59Cm7KlCqk1ftd3cNgcTPZvwSwBCAMh-efS4V5eUKXYBSl7xAOGCxyQ0Q5SXFfU5Q__&Key-Pair-Id=K3RPWS32NSSJCE\n",
            "Resolving cdn-lfs.hf.co (cdn-lfs.hf.co)... 18.173.166.43, 18.173.166.116, 18.173.166.89, ...\n",
            "Connecting to cdn-lfs.hf.co (cdn-lfs.hf.co)|18.173.166.43|:443... connected.\n",
            "HTTP request sent, awaiting response... 200 OK\n",
            "Length: 862182753 (822M) [application/zip]\n",
            "Saving to: ‘glove.6B.zip’\n",
            "\n",
            "glove.6B.zip        100%[===================>] 822.24M   243MB/s    in 3.4s    \n",
            "\n",
            "2025-06-29 18:22:06 (239 MB/s) - ‘glove.6B.zip’ saved [862182753/862182753]\n",
            "\n",
            "Archive:  glove.6B.zip\n",
            "  inflating: glove.6B.100d.txt       \n",
            "  inflating: glove.6B.200d.txt       \n",
            "  inflating: glove.6B.300d.txt       \n",
            "  inflating: glove.6B.50d.txt        \n"
          ]
        }
      ]
    },
    {
      "cell_type": "code",
      "source": [
        "#Load GloVe Embeddings\n",
        "print(\"\\n\" + \"=\"*60)\n",
        "print(\"LOADING GLOVE EMBEDDINGS\")\n",
        "print(\"=\"*60)\n",
        "\n",
        "print(\"Loading GloVe embeddings...\")\n",
        "\n",
        "# Load GloVe Embeddings\n",
        "embedding_dict = {}\n",
        "pretrain = open(\"glove.6B.50d.txt\", encoding=\"utf8\")\n",
        "for i in pretrain:\n",
        "    value = i.split(\" \")\n",
        "    word = value[0]\n",
        "    vector = np.asarray(value[1:])\n",
        "    embedding_dict[word] = vector\n",
        "pretrain.close()\n",
        "\n",
        "print(f\"GloVe embeddings loaded: {len(embedding_dict):,} words\")"
      ],
      "metadata": {
        "colab": {
          "base_uri": "https://localhost:8080/"
        },
        "id": "Um2ywrxrC0Fe",
        "outputId": "f6efd30b-3af6-4902-c61e-e900cc5bc729"
      },
      "execution_count": 29,
      "outputs": [
        {
          "output_type": "stream",
          "name": "stdout",
          "text": [
            "\n",
            "============================================================\n",
            "LOADING GLOVE EMBEDDINGS\n",
            "============================================================\n",
            "Loading GloVe embeddings...\n",
            "GloVe embeddings loaded: 400,001 words\n"
          ]
        }
      ]
    },
    {
      "cell_type": "markdown",
      "source": [
        "#### Building the Embedding Matrix"
      ],
      "metadata": {
        "id": "B42koII6DeXM"
      }
    },
    {
      "cell_type": "code",
      "source": [
        "# Create Embedding Matrix\n",
        "print(\"Converting embedding dictionary to embedding matrix...\")\n",
        "\n",
        "# Create embedding matrix\n",
        "emb_matrix = np.zeros((len(tokenizer.word_index)+1, 50))\n",
        "\n",
        "words_found = 0\n",
        "uncovered_words = []\n",
        "\n",
        "for word, i in tokenizer.word_index.items():\n",
        "    emb_word = embedding_dict.get(word)\n",
        "    if emb_word is not None:\n",
        "        emb_matrix[i] = emb_word\n",
        "        words_found += 1\n",
        "    else:\n",
        "        uncovered_words.append(word)\n",
        "\n",
        "coverage_percentage = (words_found / len(tokenizer.word_index)) * 100\n",
        "\n",
        "print(f\"Embedding matrix created:\")\n",
        "print(f\"Matrix shape: {emb_matrix.shape}\")\n",
        "print(f\"Words found in GloVe: {words_found:,} / {len(tokenizer.word_index):,}\")\n",
        "print(f\"Coverage: {coverage_percentage:.2f}%\")\n",
        "\n",
        "# Show uncovered words\n",
        "if uncovered_words:\n",
        "    print(f\"Sample uncovered words: {uncovered_words[:10]}\")"
      ],
      "metadata": {
        "colab": {
          "base_uri": "https://localhost:8080/"
        },
        "id": "S0YXztm9DXSD",
        "outputId": "7c55cced-6e20-48a8-fe6b-512f22ba0d12"
      },
      "execution_count": 30,
      "outputs": [
        {
          "output_type": "stream",
          "name": "stdout",
          "text": [
            "Converting embedding dictionary to embedding matrix...\n",
            "Embedding matrix created:\n",
            "Matrix shape: (18743, 50)\n",
            "Words found in GloVe: 9,962 / 18,742\n",
            "Coverage: 53.15%\n",
            "Sample uncovered words: ['successfull', 'hadnt', 'shouldnt', 'risktaking', 'succed', 'youve', 'heshe', 'theyve', 'selfconfidence', 'risktakers']\n"
          ]
        }
      ]
    },
    {
      "cell_type": "markdown",
      "source": [
        "#### Create Embedding Layer"
      ],
      "metadata": {
        "id": "L_gsy2S9D6U-"
      }
    },
    {
      "cell_type": "code",
      "source": [
        "#Create Embedding Layer\n",
        "print(\"\\n\" + \"=\"*60)\n",
        "print(\"Create Embedding Layer\")\n",
        "print(\"=\"*60)\n",
        "\n",
        "# Create embedding layer\n",
        "glove_embedding_layer = Embedding(\n",
        "    len(tokenizer.word_index)+1, #padding token at index 0, + 1 ensure our embedding layer can handle all possible token indices without errors.\n",
        "    50,\n",
        "    embeddings_initializer=tf.keras.initializers.Constant(emb_matrix),\n",
        "    trainable=False  # Set to False if you want to freeze the embeddings\n",
        ")\n",
        "\n",
        "print(\"Embedding layer created successfully!\")"
      ],
      "metadata": {
        "colab": {
          "base_uri": "https://localhost:8080/"
        },
        "id": "cCpqHTfeD-hG",
        "outputId": "d449c5fc-2952-4fc3-9d78-da11c41ecc26"
      },
      "execution_count": 31,
      "outputs": [
        {
          "output_type": "stream",
          "name": "stdout",
          "text": [
            "\n",
            "============================================================\n",
            "Create Embedding Layer\n",
            "============================================================\n",
            "Embedding layer created successfully!\n"
          ]
        }
      ]
    },
    {
      "cell_type": "markdown",
      "source": [
        "### FastText Embedding"
      ],
      "metadata": {
        "id": "SgCdi500R2Hp"
      }
    },
    {
      "cell_type": "code",
      "source": [
        "from gensim.models import FastText\n",
        "\n",
        "# Training FastText model\n",
        "fasttext_model = FastText(sentences=tokenized_sentences_train, vector_size=100, window=5, min_count=2, workers=4, sg=0)\n",
        "\n",
        "# Example usage: getting embeddings for a word\n",
        "word_embedding = fasttext_model.wv['computer']\n",
        "\n",
        "# Most similar words to a given word\n",
        "similar_words = fasttext_model.wv.most_similar('computer')\n",
        "\n",
        "print(\"Most similar words to 'computer':\", similar_words)\n",
        "\n",
        "embedding_dict = dict({})\n",
        "for idx, key in enumerate(fasttext_model.wv.key_to_index.keys()):\n",
        "    embedding_dict[key] = fasttext_model.wv[key]"
      ],
      "metadata": {
        "colab": {
          "base_uri": "https://localhost:8080/"
        },
        "id": "IOnrO_ysR4N-",
        "outputId": "e856c84a-5186-4253-ef1a-fff64a4760bf"
      },
      "execution_count": 32,
      "outputs": [
        {
          "output_type": "stream",
          "name": "stdout",
          "text": [
            "Most similar words to 'computer': [('compute', 0.981014609336853), ('computerize', 0.9684768319129944), ('later', 0.9373650550842285), ('bug', 0.9277730584144592), ('programer', 0.9252462387084961), ('programmer', 0.9246788024902344), ('buy', 0.9135640859603882), ('usa', 0.9069705605506897), ('program', 0.9061084985733032), ('ibm', 0.9033325910568237)]\n"
          ]
        }
      ]
    },
    {
      "cell_type": "code",
      "source": [
        "# summarize vocabulary size in model\n",
        "words = list(fasttext_model.wv.key_to_index.keys())\n",
        "print('Vocabulary size: %d' % len(words))"
      ],
      "metadata": {
        "colab": {
          "base_uri": "https://localhost:8080/"
        },
        "id": "X7xLrDzVZu1u",
        "outputId": "2d23889d-31d6-4741-e952-9a1f3d094575"
      },
      "execution_count": 33,
      "outputs": [
        {
          "output_type": "stream",
          "name": "stdout",
          "text": [
            "Vocabulary size: 8277\n"
          ]
        }
      ]
    },
    {
      "cell_type": "markdown",
      "source": [
        "#### Create Embedding Matrix"
      ],
      "metadata": {
        "id": "Y7QGTOIZoEx1"
      }
    },
    {
      "cell_type": "code",
      "source": [
        "# Create Embedding Matrix\n",
        "print(\"Converting embedding dictionary to embedding matrix...\")\n",
        "\n",
        "# Create embedding matrix\n",
        "emb_matrix = np.zeros((vocab_size, 100))\n",
        "\n",
        "words_found = 0\n",
        "uncovered_words = []\n",
        "\n",
        "for word, i in tokenizer.word_index.items():\n",
        "    emb_word = embedding_dict.get(word)\n",
        "    if emb_word is not None:\n",
        "        emb_matrix[i] = emb_word\n",
        "        words_found += 1\n",
        "    else:\n",
        "        uncovered_words.append(word)\n",
        "\n",
        "coverage_percentage = (words_found / len(tokenizer.word_index)) * 100\n",
        "\n",
        "print(f\"Embedding matrix created:\")\n",
        "print(f\"Matrix shape: {emb_matrix.shape}\")\n",
        "print(f\"Words found in FastText: {words_found:,} / {len(tokenizer.word_index):,}\")\n",
        "print(f\"Coverage: {coverage_percentage:.2f}%\")\n",
        "\n",
        "# Show uncovered words\n",
        "if uncovered_words:\n",
        "    print(f\"Sample uncovered words: {uncovered_words[:10]}\")"
      ],
      "metadata": {
        "colab": {
          "base_uri": "https://localhost:8080/"
        },
        "id": "J_hWFIMFoGvc",
        "outputId": "32cf6301-791a-4cd9-dbfb-7499b8d047e1"
      },
      "execution_count": 34,
      "outputs": [
        {
          "output_type": "stream",
          "name": "stdout",
          "text": [
            "Converting embedding dictionary to embedding matrix...\n",
            "Embedding matrix created:\n",
            "Matrix shape: (18743, 100)\n",
            "Words found in FastText: 8,277 / 18,742\n",
            "Coverage: 44.16%\n",
            "Sample uncovered words: ['politely', 'workmate', 'wiew', 'manegerial', 'thinh', 'stead', 'announcement', 'somethoing', 'hget', 'culd']\n"
          ]
        }
      ]
    },
    {
      "cell_type": "markdown",
      "source": [
        "#### Create Embedding Layer"
      ],
      "metadata": {
        "id": "4mz44Doei2Sj"
      }
    },
    {
      "cell_type": "code",
      "source": [
        "#Create Embedding Layer\n",
        "print(\"\\n\" + \"=\"*60)\n",
        "print(\"Create Embedding Layer\")\n",
        "print(\"=\"*60)\n",
        "\n",
        "# Create embedding layer\n",
        "ft_embedding_layer = Embedding(\n",
        "    vocab_size, #padding token at index 0, + 1 ensure our embedding layer can handle all possible token indices without errors.\n",
        "    100,\n",
        "    embeddings_initializer=tf.keras.initializers.Constant(emb_matrix),\n",
        "    trainable=False  # Set to False if you want to freeze the embeddings\n",
        ")\n",
        "\n",
        "print(\"Embedding layer created successfully!\")"
      ],
      "metadata": {
        "colab": {
          "base_uri": "https://localhost:8080/"
        },
        "id": "NdnBL0XmohGO",
        "outputId": "1d9495a0-2d14-4fc6-f2e7-929e2ebf3231"
      },
      "execution_count": 35,
      "outputs": [
        {
          "output_type": "stream",
          "name": "stdout",
          "text": [
            "\n",
            "============================================================\n",
            "Create Embedding Layer\n",
            "============================================================\n",
            "Embedding layer created successfully!\n"
          ]
        }
      ]
    },
    {
      "cell_type": "markdown",
      "source": [
        "# **5. Deep Learning Model Training and Testing**\n",
        "\n",
        "We will train and test Deep Learning algorithms by feeding them word embeddings data that has been vectorized using `Glove`.\n",
        "\n",
        "* Convolutional Neural Networks (CNN)\n",
        "* Recurrent Neural Networks (RNN)\n",
        "* Long Short-Term Memory (LSTM)"
      ],
      "metadata": {
        "id": "iFe7YdG_EbSw"
      }
    },
    {
      "cell_type": "markdown",
      "source": [
        "### CNN Model"
      ],
      "metadata": {
        "id": "WflyxOO3Xhfh"
      }
    },
    {
      "cell_type": "code",
      "source": [
        "# define CNN model for hyperparameter tuning\n",
        "def create_cnn_model(hp):\n",
        "    model = Sequential(name=\"CNN_Model\")\n",
        "    model.add(Embedding(input_dim=vocab_size, output_dim=50, input_length=220))\n",
        "\n",
        "    # Hyperparameter: Number of Conv1d filters\n",
        "    model.add(Conv1D(\n",
        "                     filters=hp.Int('conv_filters', min_value=32, max_value=128, step=32),\n",
        "                     kernel_size=5,\n",
        "                     activation='relu',\n",
        "                     ))\n",
        "    model.add(MaxPooling1D(pool_size=2))\n",
        "    model.add(Flatten())\n",
        "\n",
        "    # Hyperparameter: Number of units in the Dense layer\n",
        "    model.add(Dense(\n",
        "                    units=hp.Int('dense_units', min_value=64, max_value=256, step=64),\n",
        "                    activation='relu'))\n",
        "    # Output layer for binary classification\n",
        "    model.add(Dense(1, activation='sigmoid')) # Use 1 unit with sigmoid for binary classification\n",
        "\n",
        "    # Hyperparameter: Learning rate\n",
        "    model.compile(\n",
        "        optimizer= Adam(\n",
        "            hp.Choice('learning_rate', [0.01, 0.001, 0.0001])\n",
        "        ),\n",
        "        loss='binary_crossentropy', # Use binary_crossentropy for binary classification\n",
        "        metrics=['accuracy']\n",
        "    )\n",
        "    return model"
      ],
      "metadata": {
        "id": "oX2HF4jXFpct"
      },
      "execution_count": 97,
      "outputs": []
    },
    {
      "cell_type": "markdown",
      "source": [
        "#### Evalutating Different Word Embeddings"
      ],
      "metadata": {
        "id": "tWR1Ma8PtoWt"
      }
    },
    {
      "cell_type": "code",
      "source": [
        "# use Keras tuner for hyperameter searching\n",
        "import keras_tuner as kt\n",
        "\n",
        "tuner = kt.BayesianOptimization(\n",
        "    create_cnn_model,         # Model building function\n",
        "    objective='val_accuracy', # Metric to optimize\n",
        "    max_trials=5,             # Number of hyperparameter combinations to try\n",
        "    executions_per_trial=1,   # Number of times to train each model\n",
        "    project_name='cnn_tuning',\n",
        "    overwrite=True\n",
        ")\n",
        "\n",
        "tuner.search(train_loader,\n",
        "             epochs=5,\n",
        "             validation_data=(x_val_loader))"
      ],
      "metadata": {
        "colab": {
          "base_uri": "https://localhost:8080/"
        },
        "id": "HHvXc7JVHNtZ",
        "outputId": "45b2ac83-a252-48d4-d477-78d7c1f04baa"
      },
      "execution_count": 98,
      "outputs": [
        {
          "output_type": "stream",
          "name": "stdout",
          "text": [
            "Trial 5 Complete [00h 00m 36s]\n",
            "val_accuracy: 0.9611260294914246\n",
            "\n",
            "Best val_accuracy So Far: 0.9611260294914246\n",
            "Total elapsed time: 00h 03m 27s\n"
          ]
        }
      ]
    },
    {
      "cell_type": "code",
      "source": [
        "tuner.get_best_hyperparameters()[0].values"
      ],
      "metadata": {
        "colab": {
          "base_uri": "https://localhost:8080/"
        },
        "id": "a_QIjK1CufDm",
        "outputId": "37d6f8d7-0538-481a-b8c4-6faac6a6084f"
      },
      "execution_count": 99,
      "outputs": [
        {
          "output_type": "execute_result",
          "data": {
            "text/plain": [
              "{'conv_filters': 32, 'dense_units': 128, 'learning_rate': 0.001}"
            ]
          },
          "metadata": {},
          "execution_count": 99
        }
      ]
    },
    {
      "cell_type": "code",
      "source": [
        "best_hp = tuner.get_best_hyperparameters()[0].values\n",
        "\n",
        "# Word2Vec CNN Model\n",
        "print(\"\\nBuilding Word2Vec CNN Model...\")\n",
        "w2v_cnn_model = Sequential()\n",
        "w2v_cnn_model.add(glove_embedding_layer)\n",
        "w2v_cnn_model.add(Conv1D(filters=best_hp['conv_filters'], kernel_size=5, activation='relu'))\n",
        "w2v_cnn_model.add(MaxPooling1D(pool_size=2))\n",
        "w2v_cnn_model.add(Flatten())\n",
        "w2v_cnn_model.add(Dense(units=best_hp['dense_units'], activation='relu'))\n",
        "w2v_cnn_model.add(Dense(1, activation='sigmoid'))\n",
        "w2v_cnn_model.compile(\n",
        "    optimizer=Adam(learning_rate=best_hp['learning_rate']),\n",
        "    loss='binary_crossentropy',\n",
        "    metrics=['accuracy']\n",
        ")\n",
        "print(\"GloVe CNN Model built and compiled.\")\n",
        "\n",
        "# GloVe CNN Model\n",
        "print(\"\\nBuilding GloVe CNN Model...\")\n",
        "glove_cnn_model = Sequential()\n",
        "glove_cnn_model.add(glove_embedding_layer)\n",
        "glove_cnn_model.add(Conv1D(filters=best_hp['conv_filters'], kernel_size=5, activation='relu'))\n",
        "glove_cnn_model.add(MaxPooling1D(pool_size=2))\n",
        "glove_cnn_model.add(Flatten())\n",
        "glove_cnn_model.add(Dense(units=best_hp['dense_units'], activation='relu'))\n",
        "glove_cnn_model.add(Dense(1, activation='sigmoid'))\n",
        "glove_cnn_model.compile(\n",
        "    optimizer=Adam(learning_rate=best_hp['learning_rate']),\n",
        "    loss='binary_crossentropy',\n",
        "    metrics=['accuracy']\n",
        ")\n",
        "print(\"GloVe CNN Model built and compiled.\")\n",
        "\n",
        "# FastText CNN Model\n",
        "print(\"\\nBuilding FastText CNN Model...\")\n",
        "ft_cnn_model = Sequential()\n",
        "ft_cnn_model.add(ft_embedding_layer)\n",
        "ft_cnn_model.add(Conv1D(filters=best_hp['conv_filters'], kernel_size=5, activation='relu'))\n",
        "ft_cnn_model.add(MaxPooling1D(pool_size=2))\n",
        "ft_cnn_model.add(Flatten())\n",
        "ft_cnn_model.add(Dense(units=best_hp['dense_units'], activation='relu'))\n",
        "ft_cnn_model.add(Dense(1, activation='sigmoid'))\n",
        "ft_cnn_model.compile(\n",
        "    optimizer=Adam(learning_rate=best_hp['learning_rate']),\n",
        "    loss='binary_crossentropy',\n",
        "    metrics=['accuracy']\n",
        ")\n",
        "print(\"FastText CNN Model built and compiled.\")"
      ],
      "metadata": {
        "colab": {
          "base_uri": "https://localhost:8080/"
        },
        "id": "yl_mrDNouHjU",
        "outputId": "dd7d95c8-fc1a-45c8-b20d-cedb16e25f73"
      },
      "execution_count": 100,
      "outputs": [
        {
          "output_type": "stream",
          "name": "stdout",
          "text": [
            "\n",
            "Building Word2Vec CNN Model...\n",
            "GloVe CNN Model built and compiled.\n",
            "\n",
            "Building GloVe CNN Model...\n",
            "GloVe CNN Model built and compiled.\n",
            "\n",
            "Building FastText CNN Model...\n",
            "FastText CNN Model built and compiled.\n"
          ]
        }
      ]
    },
    {
      "cell_type": "code",
      "source": [
        "# fit networks\n",
        "print(\"\\n\" + \"=\"*60)\n",
        "print(\"TRAINING MODELS\")\n",
        "print(\"=\"*60)\n",
        "print(\"Word2Vec training...\")\n",
        "w2v_cnn_model.fit(train_loader, epochs=10, verbose=2)\n",
        "print(\"Word2Vec training completed!\\n\")\n",
        "print(\"GloVe training...\")\n",
        "glove_cnn_model.fit(train_loader, epochs=10, verbose=2)\n",
        "print(\"GloVe training completed!\\n\")\n",
        "print(\"FastText training...\")\n",
        "ft_cnn_model.fit(train_loader, epochs=10, verbose=2)\n",
        "print(\"FastText training completed!\")\n",
        "\n",
        "# evaluate\n",
        "w2v_loss, w2v_acc = w2v_cnn_model.evaluate(x_val_loader, verbose=0)\n",
        "glove_loss, glove_acc = glove_cnn_model.evaluate(x_val_loader, verbose=0)\n",
        "ft_loss, ft_acc = ft_cnn_model.evaluate(x_val_loader, verbose=0)"
      ],
      "metadata": {
        "colab": {
          "base_uri": "https://localhost:8080/"
        },
        "id": "Ayc7xUMzUZO8",
        "outputId": "89d1264a-3db2-42c9-cf67-2524d7f0d7e7"
      },
      "execution_count": 101,
      "outputs": [
        {
          "output_type": "stream",
          "name": "stdout",
          "text": [
            "\n",
            "============================================================\n",
            "TRAINING MODELS\n",
            "============================================================\n",
            "Word2Vec training...\n",
            "Epoch 1/10\n",
            "47/47 - 8s - 167ms/step - accuracy: 0.5265 - loss: 0.8096\n",
            "Epoch 2/10\n",
            "47/47 - 7s - 140ms/step - accuracy: 0.6640 - loss: 0.6271\n",
            "Epoch 3/10\n",
            "47/47 - 3s - 57ms/step - accuracy: 0.7750 - loss: 0.4869\n",
            "Epoch 4/10\n",
            "47/47 - 2s - 44ms/step - accuracy: 0.8424 - loss: 0.3747\n",
            "Epoch 5/10\n",
            "47/47 - 3s - 69ms/step - accuracy: 0.8769 - loss: 0.2994\n",
            "Epoch 6/10\n",
            "47/47 - 3s - 74ms/step - accuracy: 0.9007 - loss: 0.2509\n",
            "Epoch 7/10\n",
            "47/47 - 2s - 42ms/step - accuracy: 0.9359 - loss: 0.1827\n",
            "Epoch 8/10\n",
            "47/47 - 2s - 37ms/step - accuracy: 0.9755 - loss: 0.1104\n",
            "Epoch 9/10\n",
            "47/47 - 2s - 39ms/step - accuracy: 0.9899 - loss: 0.0732\n",
            "Epoch 10/10\n",
            "47/47 - 2s - 37ms/step - accuracy: 0.9966 - loss: 0.0458\n",
            "Word2Vec training completed!\n",
            "\n",
            "GloVe training...\n",
            "Epoch 1/10\n",
            "47/47 - 6s - 137ms/step - accuracy: 0.5399 - loss: 0.7962\n",
            "Epoch 2/10\n",
            "47/47 - 2s - 37ms/step - accuracy: 0.6486 - loss: 0.6558\n",
            "Epoch 3/10\n",
            "47/47 - 2s - 34ms/step - accuracy: 0.7649 - loss: 0.5145\n",
            "Epoch 4/10\n",
            "47/47 - 2s - 39ms/step - accuracy: 0.8293 - loss: 0.3893\n",
            "Epoch 5/10\n",
            "47/47 - 2s - 39ms/step - accuracy: 0.8873 - loss: 0.2831\n",
            "Epoch 6/10\n",
            "47/47 - 2s - 37ms/step - accuracy: 0.9319 - loss: 0.2086\n",
            "Epoch 7/10\n",
            "47/47 - 4s - 89ms/step - accuracy: 0.9661 - loss: 0.1380\n",
            "Epoch 8/10\n",
            "47/47 - 3s - 72ms/step - accuracy: 0.9822 - loss: 0.0929\n",
            "Epoch 9/10\n",
            "47/47 - 2s - 43ms/step - accuracy: 0.9960 - loss: 0.0575\n",
            "Epoch 10/10\n",
            "47/47 - 2s - 36ms/step - accuracy: 0.9993 - loss: 0.0368\n",
            "GloVe training completed!\n",
            "\n",
            "FastText training...\n",
            "Epoch 1/10\n",
            "47/47 - 6s - 118ms/step - accuracy: 0.6053 - loss: 0.6959\n",
            "Epoch 2/10\n",
            "47/47 - 5s - 111ms/step - accuracy: 0.7988 - loss: 0.4245\n",
            "Epoch 3/10\n",
            "47/47 - 2s - 52ms/step - accuracy: 0.8471 - loss: 0.3464\n",
            "Epoch 4/10\n",
            "47/47 - 3s - 58ms/step - accuracy: 0.8769 - loss: 0.2807\n",
            "Epoch 5/10\n",
            "47/47 - 3s - 57ms/step - accuracy: 0.9333 - loss: 0.1797\n",
            "Epoch 6/10\n",
            "47/47 - 6s - 119ms/step - accuracy: 0.9668 - loss: 0.1071\n",
            "Epoch 7/10\n",
            "47/47 - 3s - 56ms/step - accuracy: 0.9816 - loss: 0.0684\n",
            "Epoch 8/10\n",
            "47/47 - 2s - 52ms/step - accuracy: 0.9933 - loss: 0.0408\n",
            "Epoch 9/10\n",
            "47/47 - 3s - 58ms/step - accuracy: 1.0000 - loss: 0.0168\n",
            "Epoch 10/10\n",
            "47/47 - 7s - 142ms/step - accuracy: 0.9997 - loss: 0.0118\n",
            "FastText training completed!\n"
          ]
        }
      ]
    },
    {
      "cell_type": "code",
      "source": [
        "# Embeddings Accuracy comparison\n",
        "print(\"\\n\" + \"=\"*45)\n",
        "print(\"EMBEDDINGS ACCURACY COMPARISON\")\n",
        "print(\"=\"*45)\n",
        "\n",
        "print(f\"{'Embedding':<20} {'Accuracy':<10} {'Loss':<12}\")\n",
        "print(\"-\" * 45)\n",
        "print(f\"{'Word2Vec':<20} {(w2v_acc*100):.2f}     {w2v_loss:.4f}\")\n",
        "print(f\"{'GloVe':<20} {(glove_acc*100):.2f}     {glove_loss:.4f}\")\n",
        "print(f\"{'FastText':<20} {(ft_acc*100):.2f}     {ft_loss:.4f}\")"
      ],
      "metadata": {
        "colab": {
          "base_uri": "https://localhost:8080/"
        },
        "id": "-IqgQdNSk0Ng",
        "outputId": "53c81596-06e5-4f1f-bd7b-f7be064c29e1"
      },
      "execution_count": 102,
      "outputs": [
        {
          "output_type": "stream",
          "name": "stdout",
          "text": [
            "\n",
            "=============================================\n",
            "EMBEDDINGS ACCURACY COMPARISON\n",
            "=============================================\n",
            "Embedding            Accuracy   Loss        \n",
            "---------------------------------------------\n",
            "Word2Vec             77.21     0.5628\n",
            "GloVe                82.84     0.4795\n",
            "FastText             82.71     0.6510\n"
          ]
        }
      ]
    },
    {
      "cell_type": "markdown",
      "source": [
        "After multiple iterations of testing, FastText embedding resulted in the highest accuracy most times and the lowest loss rate about 50% of the time. Due to it's overall highest accuracy and relative consistency, I will move on with using FastText embeddings for the CNN model."
      ],
      "metadata": {
        "id": "HhsP5bW1qct9"
      }
    },
    {
      "cell_type": "code",
      "source": [
        "# Define and fit final CNN model\n",
        "cnn_model = ft_cnn_model\n",
        "\n",
        "cnn_model.fit(train_loader, epochs=10, verbose=1)\n",
        "\n",
        "# Evalute\n",
        "cnn_loss, cnn_acc = cnn_model.evaluate(x_val_loader, verbose=0)\n",
        "print(\"Final CNN Model training complete!\")"
      ],
      "metadata": {
        "id": "b7CfL7ZsmA8n",
        "colab": {
          "base_uri": "https://localhost:8080/"
        },
        "outputId": "a07292b4-6fb0-4cf3-a885-69cfc6d7f3b4"
      },
      "execution_count": 122,
      "outputs": [
        {
          "output_type": "stream",
          "name": "stdout",
          "text": [
            "Epoch 1/10\n",
            "\u001b[1m47/47\u001b[0m \u001b[32m━━━━━━━━━━━━━━━━━━━━\u001b[0m\u001b[37m\u001b[0m \u001b[1m3s\u001b[0m 62ms/step - accuracy: 1.0000 - loss: 0.0060\n",
            "Epoch 2/10\n",
            "\u001b[1m47/47\u001b[0m \u001b[32m━━━━━━━━━━━━━━━━━━━━\u001b[0m\u001b[37m\u001b[0m \u001b[1m4s\u001b[0m 82ms/step - accuracy: 1.0000 - loss: 0.0038\n",
            "Epoch 3/10\n",
            "\u001b[1m47/47\u001b[0m \u001b[32m━━━━━━━━━━━━━━━━━━━━\u001b[0m\u001b[37m\u001b[0m \u001b[1m5s\u001b[0m 103ms/step - accuracy: 1.0000 - loss: 0.0027\n",
            "Epoch 4/10\n",
            "\u001b[1m47/47\u001b[0m \u001b[32m━━━━━━━━━━━━━━━━━━━━\u001b[0m\u001b[37m\u001b[0m \u001b[1m3s\u001b[0m 64ms/step - accuracy: 1.0000 - loss: 0.0021\n",
            "Epoch 5/10\n",
            "\u001b[1m47/47\u001b[0m \u001b[32m━━━━━━━━━━━━━━━━━━━━\u001b[0m\u001b[37m\u001b[0m \u001b[1m3s\u001b[0m 61ms/step - accuracy: 1.0000 - loss: 0.0017\n",
            "Epoch 6/10\n",
            "\u001b[1m47/47\u001b[0m \u001b[32m━━━━━━━━━━━━━━━━━━━━\u001b[0m\u001b[37m\u001b[0m \u001b[1m3s\u001b[0m 65ms/step - accuracy: 1.0000 - loss: 0.0015\n",
            "Epoch 7/10\n",
            "\u001b[1m47/47\u001b[0m \u001b[32m━━━━━━━━━━━━━━━━━━━━\u001b[0m\u001b[37m\u001b[0m \u001b[1m5s\u001b[0m 100ms/step - accuracy: 1.0000 - loss: 0.0013\n",
            "Epoch 8/10\n",
            "\u001b[1m47/47\u001b[0m \u001b[32m━━━━━━━━━━━━━━━━━━━━\u001b[0m\u001b[37m\u001b[0m \u001b[1m4s\u001b[0m 74ms/step - accuracy: 1.0000 - loss: 0.0011\n",
            "Epoch 9/10\n",
            "\u001b[1m47/47\u001b[0m \u001b[32m━━━━━━━━━━━━━━━━━━━━\u001b[0m\u001b[37m\u001b[0m \u001b[1m3s\u001b[0m 62ms/step - accuracy: 1.0000 - loss: 9.7125e-04\n",
            "Epoch 10/10\n",
            "\u001b[1m47/47\u001b[0m \u001b[32m━━━━━━━━━━━━━━━━━━━━\u001b[0m\u001b[37m\u001b[0m \u001b[1m3s\u001b[0m 62ms/step - accuracy: 1.0000 - loss: 8.2617e-04\n",
            "Final CNN Model training complete!\n"
          ]
        }
      ]
    },
    {
      "cell_type": "markdown",
      "source": [
        "### RNN Model"
      ],
      "metadata": {
        "id": "eVzMSSnlq-Co"
      }
    },
    {
      "cell_type": "code",
      "source": [
        "# define LSTM model for hyperparameter tuning\n",
        "def create_rnn_model(hp):\n",
        "    model = Sequential(name=\"RNN_Model\")\n",
        "\n",
        "    # Add simple embedding layer for testing\n",
        "    model.add(Embedding(input_dim=vocab_size, output_dim=50, input_length=220))\n",
        "\n",
        "    # Hyperparameter: Number of LSTM layers and dropout rate\n",
        "    model.add(Bidirectional(SimpleRNN(\n",
        "                units=hp.Int('rnn_units', min_value=32, max_value=128, step=32),\n",
        "                dropout=hp.Float('dropout', min_value=0, max_value=0.5, step=0.1),\n",
        "                activation='relu')))\n",
        "\n",
        "    # Hyperparameter: Number of units in the dense layer\n",
        "    model.add(Dense(\n",
        "                    units=hp.Int('dense_units', min_value=64, max_value=256, step=64),\n",
        "                    activation='relu'))\n",
        "    # Output layer for binary classification\n",
        "    model.add(Dense(1, activation='sigmoid')) # Use 1 unit with sigmoid for binary classification\n",
        "\n",
        "    # Hyperparameter: Learning rate\n",
        "    model.compile(\n",
        "        optimizer= Adam(\n",
        "            hp.Choice('learning_rate', [0.001, 0.0001])\n",
        "        ),\n",
        "        loss='binary_crossentropy', # Use binary_crossentropy for binary classification\n",
        "        metrics=['accuracy']\n",
        "    )\n",
        "    return model"
      ],
      "metadata": {
        "id": "duG0NAJ-olsF"
      },
      "execution_count": 103,
      "outputs": []
    },
    {
      "cell_type": "markdown",
      "source": [
        "#### Evaluating Different Word Embeddings"
      ],
      "metadata": {
        "id": "7oqEgzXrZntc"
      }
    },
    {
      "cell_type": "code",
      "source": [
        "# use Keras tuner for hyperameter searching\n",
        "import keras_tuner as kt\n",
        "\n",
        "tuner = kt.BayesianOptimization(\n",
        "    # Pass the embedding layer as an argument to the model-building function\n",
        "    create_rnn_model,\n",
        "    objective='val_accuracy', # Metric to optimize\n",
        "    max_trials=5,             # Number of hyperparameter combinations to try\n",
        "    executions_per_trial=1,   # Number of times to train each model\n",
        "    project_name='rnn_tuning',\n",
        "    overwrite=True\n",
        ")\n",
        "\n",
        "tuner.search(train_loader,\n",
        "             epochs=5,\n",
        "             validation_data=(x_val_loader))"
      ],
      "metadata": {
        "colab": {
          "base_uri": "https://localhost:8080/"
        },
        "id": "BB-5JD-QVASM",
        "outputId": "e06528fb-178a-4ce8-a2c8-b225274ea9e6"
      },
      "execution_count": 104,
      "outputs": [
        {
          "output_type": "stream",
          "name": "stdout",
          "text": [
            "Trial 5 Complete [00h 01m 29s]\n",
            "val_accuracy: 0.9209115505218506\n",
            "\n",
            "Best val_accuracy So Far: 0.9530830979347229\n",
            "Total elapsed time: 00h 07m 24s\n"
          ]
        }
      ]
    },
    {
      "cell_type": "code",
      "source": [
        "tuner.get_best_hyperparameters()[0].values"
      ],
      "metadata": {
        "colab": {
          "base_uri": "https://localhost:8080/"
        },
        "id": "etdnjbehVGDB",
        "outputId": "b3e1bf12-61d0-4711-87c2-b5927d234061"
      },
      "execution_count": 105,
      "outputs": [
        {
          "output_type": "execute_result",
          "data": {
            "text/plain": [
              "{'rnn_units': 64,\n",
              " 'dropout': 0.30000000000000004,\n",
              " 'dense_units': 64,\n",
              " 'learning_rate': 0.001}"
            ]
          },
          "metadata": {},
          "execution_count": 105
        }
      ]
    },
    {
      "cell_type": "code",
      "source": [
        "# Get the best hyperparameters from the RNN tuner\n",
        "best_hp = tuner.get_best_hyperparameters()[0].values\n",
        "\n",
        "# Word2Vec RNN Model\n",
        "print(\"\\nBuilding Word2Vec RNN Model...\")\n",
        "w2v_rnn_model = Sequential()\n",
        "w2v_rnn_model.add(w2v_embedding_layer)\n",
        "w2v_rnn_model.add(Bidirectional(SimpleRNN(\n",
        "                units=best_hp['rnn_units'],\n",
        "                dropout=best_hp['dropout'],\n",
        "                activation='relu')))\n",
        "w2v_rnn_model.add(Dense(best_hp['dense_units'], activation='relu'))\n",
        "w2v_rnn_model.add(Dense(1, activation='sigmoid'))\n",
        "w2v_rnn_model.compile(\n",
        "    optimizer=Adam(learning_rate=best_hp['learning_rate']),\n",
        "    loss='binary_crossentropy',\n",
        "    metrics=['accuracy']\n",
        ")\n",
        "print(\"Word2Vec RNN Model built and compiled.\")\n",
        "\n",
        "# GloVe RNN Model\n",
        "print(\"\\nBuilding GloVe RNN Model...\")\n",
        "glove_rnn_model = Sequential()\n",
        "glove_rnn_model.add(glove_embedding_layer)\n",
        "glove_rnn_model.add(Bidirectional(SimpleRNN(\n",
        "                units=best_hp['rnn_units'],\n",
        "                dropout=best_hp['dropout'],\n",
        "                activation='relu')))\n",
        "glove_rnn_model.add(Dense(best_hp['dense_units'], activation='relu'))\n",
        "glove_rnn_model.add(Dense(1, activation='sigmoid'))\n",
        "glove_rnn_model.compile(\n",
        "    optimizer=Adam(learning_rate=best_hp['learning_rate']),\n",
        "    loss='binary_crossentropy',\n",
        "    metrics=['accuracy']\n",
        ")\n",
        "print(\"GloVe RNN Model built and compiled.\")\n",
        "\n",
        "# FastText RNN Model\n",
        "print(\"\\nBuilding FastText RNN Model...\")\n",
        "ft_rnn_model = Sequential()\n",
        "ft_rnn_model.add(ft_embedding_layer)\n",
        "ft_rnn_model.add(Bidirectional(SimpleRNN(\n",
        "                units=best_hp['rnn_units'],\n",
        "                dropout=best_hp['dropout'],\n",
        "                activation='relu')))\n",
        "ft_rnn_model.add(Dense(best_hp['dense_units'], activation='relu'))\n",
        "ft_rnn_model.add(Dense(1, activation='sigmoid'))\n",
        "ft_rnn_model.compile(\n",
        "    optimizer=Adam(learning_rate=best_hp['learning_rate']),\n",
        "    loss='binary_crossentropy',\n",
        "    metrics=['accuracy']\n",
        ")\n",
        "print(\"FastText RNN Model built and compiled.\")"
      ],
      "metadata": {
        "colab": {
          "base_uri": "https://localhost:8080/"
        },
        "id": "AEDLLyvHVhBN",
        "outputId": "399ce007-a01e-4b54-d95b-a3aa8980a8d5"
      },
      "execution_count": 106,
      "outputs": [
        {
          "output_type": "stream",
          "name": "stdout",
          "text": [
            "\n",
            "Building Word2Vec RNN Model...\n",
            "Word2Vec RNN Model built and compiled.\n",
            "\n",
            "Building GloVe RNN Model...\n",
            "GloVe RNN Model built and compiled.\n",
            "\n",
            "Building FastText RNN Model...\n",
            "FastText RNN Model built and compiled.\n"
          ]
        }
      ]
    },
    {
      "cell_type": "code",
      "source": [
        "# fit networks\n",
        "print(\"\\n\" + \"=\"*60)\n",
        "print(\"TRAINING MODELS\")\n",
        "print(\"=\"*60)\n",
        "print(\"Word2Vec training...\")\n",
        "w2v_rnn_model.fit(train_loader, epochs=10, verbose=2)\n",
        "print(\"Word2Vec training completed!\\n\")\n",
        "print(\"GloVe training...\")\n",
        "glove_rnn_model.fit(train_loader, epochs=10, verbose=2)\n",
        "print(\"GloVe training completed!\\n\")\n",
        "print(\"FastText training...\")\n",
        "ft_rnn_model.fit(train_loader, epochs=10, verbose=2)\n",
        "print(\"FastText training completed!\")\n",
        "\n",
        "# evaluate\n",
        "w2v_loss, w2v_acc = w2v_rnn_model.evaluate(x_val_loader, verbose=0)\n",
        "glove_loss, glove_acc = glove_rnn_model.evaluate(x_val_loader, verbose=0)\n",
        "ft_loss, ft_acc = ft_rnn_model.evaluate(x_val_loader, verbose=0)"
      ],
      "metadata": {
        "colab": {
          "base_uri": "https://localhost:8080/"
        },
        "id": "ixymmcf2XHLu",
        "outputId": "4ee4dffb-8022-4a9b-a2f8-57081f9a1cba"
      },
      "execution_count": 107,
      "outputs": [
        {
          "output_type": "stream",
          "name": "stdout",
          "text": [
            "\n",
            "============================================================\n",
            "TRAINING MODELS\n",
            "============================================================\n",
            "Word2Vec training...\n",
            "Epoch 1/10\n",
            "47/47 - 13s - 274ms/step - accuracy: 0.5389 - loss: 0.6946\n",
            "Epoch 2/10\n",
            "47/47 - 8s - 167ms/step - accuracy: 0.5845 - loss: 0.6718\n",
            "Epoch 3/10\n",
            "47/47 - 7s - 143ms/step - accuracy: 0.6090 - loss: 0.6491\n",
            "Epoch 4/10\n",
            "47/47 - 7s - 153ms/step - accuracy: 0.6408 - loss: 0.6517\n",
            "Epoch 5/10\n",
            "47/47 - 9s - 192ms/step - accuracy: 0.6533 - loss: 0.6152\n",
            "Epoch 6/10\n",
            "47/47 - 8s - 177ms/step - accuracy: 0.7015 - loss: 0.5734\n",
            "Epoch 7/10\n",
            "47/47 - 6s - 137ms/step - accuracy: 0.7186 - loss: 0.5508\n",
            "Epoch 8/10\n",
            "47/47 - 13s - 271ms/step - accuracy: 0.7136 - loss: 0.5533\n",
            "Epoch 9/10\n",
            "47/47 - 6s - 124ms/step - accuracy: 0.7140 - loss: 0.5509\n",
            "Epoch 10/10\n",
            "47/47 - 8s - 180ms/step - accuracy: 0.7311 - loss: 0.5263\n",
            "Word2Vec training completed!\n",
            "\n",
            "GloVe training...\n",
            "Epoch 1/10\n",
            "47/47 - 13s - 280ms/step - accuracy: 0.5248 - loss: 0.7007\n",
            "Epoch 2/10\n",
            "47/47 - 6s - 119ms/step - accuracy: 0.5768 - loss: 0.6731\n",
            "Epoch 3/10\n",
            "47/47 - 6s - 119ms/step - accuracy: 0.5852 - loss: 0.6670\n",
            "Epoch 4/10\n",
            "47/47 - 8s - 174ms/step - accuracy: 0.6170 - loss: 0.6480\n",
            "Epoch 5/10\n",
            "47/47 - 5s - 116ms/step - accuracy: 0.6452 - loss: 0.6278\n",
            "Epoch 6/10\n",
            "47/47 - 11s - 234ms/step - accuracy: 0.6610 - loss: 0.6147\n",
            "Epoch 7/10\n",
            "47/47 - 5s - 105ms/step - accuracy: 0.6989 - loss: 0.5814\n",
            "Epoch 8/10\n",
            "47/47 - 8s - 167ms/step - accuracy: 0.7005 - loss: 0.5699\n",
            "Epoch 9/10\n",
            "47/47 - 5s - 114ms/step - accuracy: 0.7247 - loss: 0.5472\n",
            "Epoch 10/10\n",
            "47/47 - 7s - 141ms/step - accuracy: 0.7257 - loss: 0.5410\n",
            "GloVe training completed!\n",
            "\n",
            "FastText training...\n",
            "Epoch 1/10\n",
            "47/47 - 14s - 304ms/step - accuracy: 0.5241 - loss: 0.6993\n",
            "Epoch 2/10\n",
            "47/47 - 6s - 128ms/step - accuracy: 0.5684 - loss: 0.6819\n",
            "Epoch 3/10\n",
            "47/47 - 7s - 151ms/step - accuracy: 0.5993 - loss: 0.6586\n",
            "Epoch 4/10\n",
            "47/47 - 9s - 193ms/step - accuracy: 0.6388 - loss: 0.6303\n",
            "Epoch 5/10\n",
            "47/47 - 8s - 173ms/step - accuracy: 0.6392 - loss: 0.6191\n",
            "Epoch 6/10\n",
            "47/47 - 6s - 137ms/step - accuracy: 0.6687 - loss: 0.6051\n",
            "Epoch 7/10\n",
            "47/47 - 7s - 144ms/step - accuracy: 0.7036 - loss: 0.5675\n",
            "Epoch 8/10\n",
            "47/47 - 8s - 174ms/step - accuracy: 0.6995 - loss: 0.5562\n",
            "Epoch 9/10\n",
            "47/47 - 6s - 125ms/step - accuracy: 0.7327 - loss: 0.5223\n",
            "Epoch 10/10\n",
            "47/47 - 9s - 187ms/step - accuracy: 0.7337 - loss: 0.5269\n",
            "FastText training completed!\n"
          ]
        }
      ]
    },
    {
      "cell_type": "code",
      "source": [
        "# Embeddings Accuracy comparison\n",
        "print(\"\\n\" + \"=\"*45)\n",
        "print(\"EMBEDDINGS ACCURACY COMPARISON\")\n",
        "print(\"=\"*45)\n",
        "\n",
        "print(f\"{'Embedding':<20} {'Accuracy':<10} {'Loss':<12}\")\n",
        "print(\"-\" * 45)\n",
        "print(f\"{'Word2Vec':<20} {(w2v_acc*100):.2f}     {w2v_loss:.4f}\")\n",
        "print(f\"{'GloVe':<20} {(glove_acc*100):.2f}     {glove_loss:.4f}\")\n",
        "print(f\"{'FastText':<20} {(ft_acc*100):.2f}     {ft_loss:.4f}\")"
      ],
      "metadata": {
        "colab": {
          "base_uri": "https://localhost:8080/"
        },
        "id": "Wrk-u0nhX-fm",
        "outputId": "66242c08-3770-44bb-8698-426abf10d356"
      },
      "execution_count": 108,
      "outputs": [
        {
          "output_type": "stream",
          "name": "stdout",
          "text": [
            "\n",
            "=============================================\n",
            "EMBEDDINGS ACCURACY COMPARISON\n",
            "=============================================\n",
            "Embedding            Accuracy   Loss        \n",
            "---------------------------------------------\n",
            "Word2Vec             79.09     0.4277\n",
            "GloVe                73.32     0.5220\n",
            "FastText             77.08     0.4645\n"
          ]
        }
      ]
    },
    {
      "cell_type": "markdown",
      "source": [
        "After multiple rounds of testing, Word2Vec consistently had the highest accuracy and lowest loss, so I will continue with Word2Vec embedding for the final RNN model."
      ],
      "metadata": {
        "id": "zTswmQCpgsAH"
      }
    },
    {
      "cell_type": "code",
      "source": [
        "# Define and fit final RNN model\n",
        "rnn_model = w2v_rnn_model\n",
        "\n",
        "rnn_model.fit(train_loader, epochs=10, verbose=1)\n",
        "\n",
        "# Evalute\n",
        "rnn_loss, rnn_acc = rnn_model.evaluate(x_val_loader, verbose=0)\n",
        "print(\"Final RNN Model training complete!\")"
      ],
      "metadata": {
        "colab": {
          "base_uri": "https://localhost:8080/"
        },
        "id": "LzAjUn-vh9zB",
        "outputId": "804e4792-b7d8-4275-e67a-9f01feea1ae5"
      },
      "execution_count": 123,
      "outputs": [
        {
          "output_type": "stream",
          "name": "stdout",
          "text": [
            "Epoch 1/10\n",
            "\u001b[1m47/47\u001b[0m \u001b[32m━━━━━━━━━━━━━━━━━━━━\u001b[0m\u001b[37m\u001b[0m \u001b[1m10s\u001b[0m 194ms/step - accuracy: 0.7645 - loss: 0.4843\n",
            "Epoch 2/10\n",
            "\u001b[1m47/47\u001b[0m \u001b[32m━━━━━━━━━━━━━━━━━━━━\u001b[0m\u001b[37m\u001b[0m \u001b[1m6s\u001b[0m 137ms/step - accuracy: 0.7552 - loss: 0.5181\n",
            "Epoch 3/10\n",
            "\u001b[1m47/47\u001b[0m \u001b[32m━━━━━━━━━━━━━━━━━━━━\u001b[0m\u001b[37m\u001b[0m \u001b[1m9s\u001b[0m 198ms/step - accuracy: 0.7733 - loss: 0.4811\n",
            "Epoch 4/10\n",
            "\u001b[1m47/47\u001b[0m \u001b[32m━━━━━━━━━━━━━━━━━━━━\u001b[0m\u001b[37m\u001b[0m \u001b[1m7s\u001b[0m 151ms/step - accuracy: 0.7820 - loss: 0.4497\n",
            "Epoch 5/10\n",
            "\u001b[1m47/47\u001b[0m \u001b[32m━━━━━━━━━━━━━━━━━━━━\u001b[0m\u001b[37m\u001b[0m \u001b[1m9s\u001b[0m 197ms/step - accuracy: 0.7989 - loss: 0.4412\n",
            "Epoch 6/10\n",
            "\u001b[1m47/47\u001b[0m \u001b[32m━━━━━━━━━━━━━━━━━━━━\u001b[0m\u001b[37m\u001b[0m \u001b[1m6s\u001b[0m 133ms/step - accuracy: 0.7812 - loss: 0.4647\n",
            "Epoch 7/10\n",
            "\u001b[1m47/47\u001b[0m \u001b[32m━━━━━━━━━━━━━━━━━━━━\u001b[0m\u001b[37m\u001b[0m \u001b[1m11s\u001b[0m 227ms/step - accuracy: 0.7567 - loss: 0.4935\n",
            "Epoch 8/10\n",
            "\u001b[1m47/47\u001b[0m \u001b[32m━━━━━━━━━━━━━━━━━━━━\u001b[0m\u001b[37m\u001b[0m \u001b[1m6s\u001b[0m 132ms/step - accuracy: 0.7746 - loss: 0.4888\n",
            "Epoch 9/10\n",
            "\u001b[1m47/47\u001b[0m \u001b[32m━━━━━━━━━━━━━━━━━━━━\u001b[0m\u001b[37m\u001b[0m \u001b[1m9s\u001b[0m 196ms/step - accuracy: 0.7789 - loss: 0.4552\n",
            "Epoch 10/10\n",
            "\u001b[1m47/47\u001b[0m \u001b[32m━━━━━━━━━━━━━━━━━━━━\u001b[0m\u001b[37m\u001b[0m \u001b[1m6s\u001b[0m 132ms/step - accuracy: 0.7817 - loss: 0.4389\n",
            "Final RNN Model training complete!\n"
          ]
        }
      ]
    },
    {
      "cell_type": "markdown",
      "source": [
        "### LSTM Model\n",
        "\n",
        "It is worth noting that RNN and LSTM are essentially the same model, however LSTM is an optimization of SimpleRNN, and is more commonly used."
      ],
      "metadata": {
        "id": "11-JTMe2g3P1"
      }
    },
    {
      "cell_type": "code",
      "source": [
        "# define LSTM model for hyperparameter tuning\n",
        "def create_lstm_model(hp):\n",
        "    model = Sequential(name=\"LSTM_Model\")\n",
        "\n",
        "    # Add simple embedding layer for testing\n",
        "    model.add(Embedding(input_dim=vocab_size, output_dim=50, input_length=220))\n",
        "\n",
        "    # Hyperparameter: Number of units in LSTM layer\n",
        "    model.add(Bidirectional(LSTM(\n",
        "                units=hp.Int('rnn_units', min_value=32, max_value=128, step=32),\\\n",
        "                activation='tanh'))) # switching to tanh instead of relu due to loss NaN with LSTM\n",
        "\n",
        "    # Hyperparameter: Dropout rate\n",
        "    model.add(Dropout(hp.Float('dropout', min_value=0, max_value=0.5, step=0.1)))\n",
        "\n",
        "    # Hyperparameter: Number of units in the dense layer\n",
        "    model.add(Dense(\n",
        "                    units=hp.Int('dense_units', min_value=64, max_value=256, step=64),\n",
        "                    activation='relu'))\n",
        "    # Output layer for binary classification\n",
        "    model.add(Dense(1, activation='sigmoid')) # Use 1 unit with sigmoid for binary classification\n",
        "\n",
        "    # Hyperparameter: Learning rate\n",
        "    model.compile(\n",
        "        optimizer= Adam(\n",
        "            hp.Choice('learning_rate', [0.001, 0.0001])\n",
        "        ),\n",
        "        loss='binary_crossentropy', # Use binary_crossentropy for binary classification\n",
        "        metrics=['accuracy']\n",
        "    )\n",
        "    return model"
      ],
      "metadata": {
        "id": "vHuFiYL6g2nb"
      },
      "execution_count": 111,
      "outputs": []
    },
    {
      "cell_type": "markdown",
      "source": [
        "#### Evalutating Different Word Embeddings"
      ],
      "metadata": {
        "id": "gA3CiTBxhot6"
      }
    },
    {
      "cell_type": "code",
      "source": [
        "# use Keras tuner for hyperameter searching\n",
        "import keras_tuner as kt\n",
        "\n",
        "tuner = kt.BayesianOptimization(\n",
        "    create_lstm_model,\n",
        "    objective='val_accuracy', # Metric to optimize\n",
        "    max_trials=5,             # Number of hyperparameter combinations to try\n",
        "    executions_per_trial=1,   # Number of times to train each model\n",
        "    project_name='lstm_tuning',\n",
        "    overwrite=True\n",
        ")\n",
        "\n",
        "tuner.search(train_loader,\n",
        "             epochs=5,\n",
        "             validation_data=(x_val_loader))"
      ],
      "metadata": {
        "colab": {
          "base_uri": "https://localhost:8080/"
        },
        "id": "vngH0e2Qhk2F",
        "outputId": "41ef6786-acd6-4067-85fb-52863874e450"
      },
      "execution_count": 129,
      "outputs": [
        {
          "output_type": "stream",
          "name": "stdout",
          "text": [
            "Trial 5 Complete [00h 01m 43s]\n",
            "val_accuracy: 0.7533512115478516\n",
            "\n",
            "Best val_accuracy So Far: 0.890080451965332\n",
            "Total elapsed time: 00h 14m 38s\n"
          ]
        }
      ]
    },
    {
      "cell_type": "code",
      "source": [
        "tuner.get_best_hyperparameters()[0].values"
      ],
      "metadata": {
        "colab": {
          "base_uri": "https://localhost:8080/"
        },
        "id": "uEBcCB_IhuLH",
        "outputId": "68b9c9ec-3ff6-43b9-fa01-c25fc480bf98"
      },
      "execution_count": 130,
      "outputs": [
        {
          "output_type": "execute_result",
          "data": {
            "text/plain": [
              "{'rnn_units': 32, 'dropout': 0.2, 'dense_units': 256, 'learning_rate': 0.001}"
            ]
          },
          "metadata": {},
          "execution_count": 130
        }
      ]
    },
    {
      "cell_type": "code",
      "source": [
        "# Get the best hyperparameters from the LSTM tuner\n",
        "best_hp = tuner.get_best_hyperparameters()[0].values\n",
        "\n",
        "# Word2Vec LSTM Model\n",
        "print(\"\\nBuilding Word2Vec LSTM Model...\")\n",
        "w2v_lstm_model = Sequential()\n",
        "w2v_lstm_model.add(w2v_embedding_layer)\n",
        "w2v_lstm_model.add(Bidirectional(LSTM(\n",
        "                units=best_hp['rnn_units'],\n",
        "                activation='tanh')))\n",
        "w2v_lstm_model.add(Dropout(best_hp['dropout']))\n",
        "w2v_lstm_model.add(Dense(best_hp['dense_units'], activation='relu'))\n",
        "w2v_lstm_model.add(Dense(1, activation='sigmoid'))\n",
        "w2v_lstm_model.compile(\n",
        "    optimizer=Adam(learning_rate=best_hp['learning_rate']),\n",
        "    loss='binary_crossentropy',\n",
        "    metrics=['accuracy']\n",
        ")\n",
        "print(\"Word2Vec LSTM Model built and compiled.\")\n",
        "\n",
        "# GloVe LSTM Model\n",
        "print(\"\\nBuilding GloVe LSTM Model...\")\n",
        "glove_lstm_model = Sequential()\n",
        "glove_lstm_model.add(glove_embedding_layer)\n",
        "glove_lstm_model.add(Bidirectional(LSTM(\n",
        "                units=best_hp['rnn_units'],\n",
        "                activation='tanh')))\n",
        "glove_lstm_model.add(Dropout(best_hp['dropout']))\n",
        "glove_lstm_model.add(Dense(best_hp['dense_units'], activation='relu'))\n",
        "glove_lstm_model.add(Dense(1, activation='sigmoid'))\n",
        "glove_lstm_model.compile(\n",
        "    optimizer=Adam(learning_rate=best_hp['learning_rate']),\n",
        "    loss='binary_crossentropy',\n",
        "    metrics=['accuracy']\n",
        ")\n",
        "print(\"GloVe LSTM Model built and compiled.\")\n",
        "\n",
        "# FastText RNN Model\n",
        "print(\"\\nBuilding FastText LSTM Model...\")\n",
        "ft_lstm_model = Sequential()\n",
        "ft_lstm_model.add(ft_embedding_layer)\n",
        "ft_lstm_model.add(Bidirectional(LSTM(\n",
        "                units=best_hp['rnn_units'],\n",
        "                activation='tanh')))\n",
        "ft_lstm_model.add(Dropout(best_hp['dropout']))\n",
        "ft_lstm_model.add(Dense(best_hp['dense_units'], activation='relu'))\n",
        "ft_lstm_model.add(Dense(1, activation='sigmoid'))\n",
        "ft_lstm_model.compile(\n",
        "    optimizer=Adam(learning_rate=best_hp['learning_rate']),\n",
        "    loss='binary_crossentropy',\n",
        "    metrics=['accuracy']\n",
        ")\n",
        "print(\"FastText LSTM Model built and compiled.\")"
      ],
      "metadata": {
        "colab": {
          "base_uri": "https://localhost:8080/"
        },
        "id": "9uSlcZvqhz0g",
        "outputId": "56613c8a-6c03-4c92-d999-064cdb8c4582"
      },
      "execution_count": 131,
      "outputs": [
        {
          "output_type": "stream",
          "name": "stdout",
          "text": [
            "\n",
            "Building Word2Vec LSTM Model...\n",
            "Word2Vec LSTM Model built and compiled.\n",
            "\n",
            "Building GloVe LSTM Model...\n",
            "GloVe LSTM Model built and compiled.\n",
            "\n",
            "Building FastText LSTM Model...\n",
            "FastText LSTM Model built and compiled.\n"
          ]
        }
      ]
    },
    {
      "cell_type": "code",
      "source": [
        "# define early stopping\n",
        "early_stop = EarlyStopping(monitor='loss', patience=3, restore_best_weights=True)\n",
        "\n",
        "# fit networks\n",
        "print(\"\\n\" + \"=\"*60)\n",
        "print(\"TRAINING MODELS\")\n",
        "print(\"=\"*60)\n",
        "print(\"Word2Vec training...\")\n",
        "w2v_lstm_model.fit(train_loader, epochs=10, verbose=2, callbacks=[early_stop])\n",
        "print(\"Word2Vec training completed!\\n\")\n",
        "print(\"GloVe training...\")\n",
        "glove_lstm_model.fit(train_loader, epochs=10, verbose=2, callbacks=[early_stop])\n",
        "print(\"GloVe training completed!\\n\")\n",
        "print(\"FastText training...\")\n",
        "ft_lstm_model.fit(train_loader, epochs=10, verbose=2, callbacks=[early_stop])\n",
        "print(\"FastText training completed!\")\n",
        "\n",
        "# evaluate\n",
        "w2v_loss, w2v_acc = w2v_lstm_model.evaluate(x_val_loader, verbose=0)\n",
        "glove_loss, glove_acc = glove_lstm_model.evaluate(x_val_loader, verbose=0)\n",
        "ft_loss, ft_acc = ft_lstm_model.evaluate(x_val_loader, verbose=0)"
      ],
      "metadata": {
        "colab": {
          "base_uri": "https://localhost:8080/"
        },
        "id": "oaJsua6Nirxu",
        "outputId": "99d50b4f-22dc-4af3-b24d-59fe897f6ff5"
      },
      "execution_count": 132,
      "outputs": [
        {
          "output_type": "stream",
          "name": "stdout",
          "text": [
            "\n",
            "============================================================\n",
            "TRAINING MODELS\n",
            "============================================================\n",
            "Word2Vec training...\n",
            "Epoch 1/10\n",
            "47/47 - 18s - 387ms/step - accuracy: 0.6804 - loss: 0.5857\n",
            "Epoch 2/10\n",
            "47/47 - 12s - 253ms/step - accuracy: 0.8115 - loss: 0.4246\n",
            "Epoch 3/10\n",
            "47/47 - 13s - 274ms/step - accuracy: 0.8417 - loss: 0.3776\n",
            "Epoch 4/10\n",
            "47/47 - 13s - 275ms/step - accuracy: 0.8461 - loss: 0.3549\n",
            "Epoch 5/10\n",
            "47/47 - 11s - 225ms/step - accuracy: 0.8434 - loss: 0.3593\n",
            "Epoch 6/10\n",
            "47/47 - 23s - 483ms/step - accuracy: 0.8823 - loss: 0.2885\n",
            "Epoch 7/10\n",
            "47/47 - 18s - 393ms/step - accuracy: 0.8883 - loss: 0.2594\n",
            "Epoch 8/10\n",
            "47/47 - 13s - 269ms/step - accuracy: 0.8846 - loss: 0.2554\n",
            "Epoch 9/10\n",
            "47/47 - 12s - 259ms/step - accuracy: 0.8991 - loss: 0.2448\n",
            "Epoch 10/10\n",
            "47/47 - 11s - 225ms/step - accuracy: 0.9178 - loss: 0.2014\n",
            "Word2Vec training completed!\n",
            "\n",
            "GloVe training...\n",
            "Epoch 1/10\n",
            "47/47 - 17s - 362ms/step - accuracy: 0.5516 - loss: 0.6853\n",
            "Epoch 2/10\n",
            "47/47 - 9s - 199ms/step - accuracy: 0.6563 - loss: 0.6199\n",
            "Epoch 3/10\n",
            "47/47 - 13s - 275ms/step - accuracy: 0.7257 - loss: 0.5399\n",
            "Epoch 4/10\n",
            "47/47 - 11s - 231ms/step - accuracy: 0.7850 - loss: 0.4612\n",
            "Epoch 5/10\n",
            "47/47 - 9s - 194ms/step - accuracy: 0.8078 - loss: 0.4306\n",
            "Epoch 6/10\n",
            "47/47 - 11s - 243ms/step - accuracy: 0.8333 - loss: 0.3715\n",
            "Epoch 7/10\n",
            "47/47 - 19s - 405ms/step - accuracy: 0.8706 - loss: 0.3209\n",
            "Epoch 8/10\n",
            "47/47 - 11s - 243ms/step - accuracy: 0.8649 - loss: 0.3183\n",
            "Epoch 9/10\n",
            "47/47 - 10s - 217ms/step - accuracy: 0.8883 - loss: 0.2823\n",
            "Epoch 10/10\n",
            "47/47 - 13s - 266ms/step - accuracy: 0.8967 - loss: 0.2510\n",
            "GloVe training completed!\n",
            "\n",
            "FastText training...\n",
            "Epoch 1/10\n",
            "47/47 - 17s - 365ms/step - accuracy: 0.5832 - loss: 0.6620\n",
            "Epoch 2/10\n",
            "47/47 - 13s - 268ms/step - accuracy: 0.7334 - loss: 0.5267\n",
            "Epoch 3/10\n",
            "47/47 - 13s - 269ms/step - accuracy: 0.8065 - loss: 0.4266\n",
            "Epoch 4/10\n",
            "47/47 - 11s - 240ms/step - accuracy: 0.8414 - loss: 0.3581\n",
            "Epoch 5/10\n",
            "47/47 - 21s - 452ms/step - accuracy: 0.8508 - loss: 0.3406\n",
            "Epoch 6/10\n",
            "47/47 - 11s - 238ms/step - accuracy: 0.8612 - loss: 0.3255\n",
            "Epoch 7/10\n",
            "47/47 - 22s - 458ms/step - accuracy: 0.8746 - loss: 0.2896\n",
            "Epoch 8/10\n",
            "47/47 - 12s - 262ms/step - accuracy: 0.8846 - loss: 0.2698\n",
            "Epoch 9/10\n",
            "47/47 - 9s - 199ms/step - accuracy: 0.8907 - loss: 0.2511\n",
            "Epoch 10/10\n",
            "47/47 - 15s - 327ms/step - accuracy: 0.8930 - loss: 0.2482\n",
            "FastText training completed!\n"
          ]
        }
      ]
    },
    {
      "cell_type": "code",
      "source": [
        "# Embeddings Accuracy comparison\n",
        "print(\"\\n\" + \"=\"*45)\n",
        "print(\"EMBEDDINGS ACCURACY COMPARISON\")\n",
        "print(\"=\"*45)\n",
        "\n",
        "print(f\"{'Embedding':<20} {'Accuracy':<10} {'Loss':<12}\")\n",
        "print(\"-\" * 45)\n",
        "print(f\"{'Word2Vec':<20} {(w2v_acc*100):.2f}     {w2v_loss:.4f}\")\n",
        "print(f\"{'GloVe':<20} {(glove_acc*100):.2f}     {glove_loss:.4f}\")\n",
        "print(f\"{'FastText':<20} {(ft_acc*100):.2f}     {ft_loss:.4f}\")"
      ],
      "metadata": {
        "colab": {
          "base_uri": "https://localhost:8080/"
        },
        "id": "TMgqowxkjNgI",
        "outputId": "fce7dfcf-9dfa-42d9-d87b-d70ac6281485"
      },
      "execution_count": 133,
      "outputs": [
        {
          "output_type": "stream",
          "name": "stdout",
          "text": [
            "\n",
            "=============================================\n",
            "EMBEDDINGS ACCURACY COMPARISON\n",
            "=============================================\n",
            "Embedding            Accuracy   Loss        \n",
            "---------------------------------------------\n",
            "Word2Vec             91.29     0.2243\n",
            "GloVe                84.32     0.3397\n",
            "FastText             82.71     0.3915\n"
          ]
        }
      ]
    },
    {
      "cell_type": "markdown",
      "source": [
        "Word2Vec word embeddings had the overall highest accuracy and lowest loss, so I will continue with Word2Vec embeddings for the final LSTM model."
      ],
      "metadata": {
        "id": "v5DXHrZ5udvv"
      }
    },
    {
      "cell_type": "code",
      "source": [
        "# Define and fit final LSTM model\n",
        "lstm_model = w2v_lstm_model\n",
        "\n",
        "lstm_model.fit(train_loader, epochs=10, verbose=1)\n",
        "\n",
        "# Evalute\n",
        "lstm_loss, lstm_acc = lstm_model.evaluate(x_val_loader, verbose=0)\n",
        "print(\"Final LSTM Model training complete!\")"
      ],
      "metadata": {
        "colab": {
          "base_uri": "https://localhost:8080/"
        },
        "id": "KwcUER28kHbN",
        "outputId": "3f0555c8-81a3-4874-e64e-eca99475a894"
      },
      "execution_count": 134,
      "outputs": [
        {
          "output_type": "stream",
          "name": "stdout",
          "text": [
            "Epoch 1/10\n",
            "\u001b[1m47/47\u001b[0m \u001b[32m━━━━━━━━━━━━━━━━━━━━\u001b[0m\u001b[37m\u001b[0m \u001b[1m15s\u001b[0m 306ms/step - accuracy: 0.9242 - loss: 0.1965\n",
            "Epoch 2/10\n",
            "\u001b[1m47/47\u001b[0m \u001b[32m━━━━━━━━━━━━━━━━━━━━\u001b[0m\u001b[37m\u001b[0m \u001b[1m15s\u001b[0m 322ms/step - accuracy: 0.9168 - loss: 0.1992\n",
            "Epoch 3/10\n",
            "\u001b[1m47/47\u001b[0m \u001b[32m━━━━━━━━━━━━━━━━━━━━\u001b[0m\u001b[37m\u001b[0m \u001b[1m13s\u001b[0m 271ms/step - accuracy: 0.9215 - loss: 0.1999\n",
            "Epoch 4/10\n",
            "\u001b[1m47/47\u001b[0m \u001b[32m━━━━━━━━━━━━━━━━━━━━\u001b[0m\u001b[37m\u001b[0m \u001b[1m25s\u001b[0m 361ms/step - accuracy: 0.9246 - loss: 0.1828\n",
            "Epoch 5/10\n",
            "\u001b[1m47/47\u001b[0m \u001b[32m━━━━━━━━━━━━━━━━━━━━\u001b[0m\u001b[37m\u001b[0m \u001b[1m21s\u001b[0m 352ms/step - accuracy: 0.9359 - loss: 0.1473\n",
            "Epoch 6/10\n",
            "\u001b[1m47/47\u001b[0m \u001b[32m━━━━━━━━━━━━━━━━━━━━\u001b[0m\u001b[37m\u001b[0m \u001b[1m12s\u001b[0m 243ms/step - accuracy: 0.9382 - loss: 0.1562\n",
            "Epoch 7/10\n",
            "\u001b[1m47/47\u001b[0m \u001b[32m━━━━━━━━━━━━━━━━━━━━\u001b[0m\u001b[37m\u001b[0m \u001b[1m15s\u001b[0m 328ms/step - accuracy: 0.9418 - loss: 0.1486\n",
            "Epoch 8/10\n",
            "\u001b[1m47/47\u001b[0m \u001b[32m━━━━━━━━━━━━━━━━━━━━\u001b[0m\u001b[37m\u001b[0m \u001b[1m16s\u001b[0m 339ms/step - accuracy: 0.9427 - loss: 0.1458\n",
            "Epoch 9/10\n",
            "\u001b[1m47/47\u001b[0m \u001b[32m━━━━━━━━━━━━━━━━━━━━\u001b[0m\u001b[37m\u001b[0m \u001b[1m16s\u001b[0m 337ms/step - accuracy: 0.9400 - loss: 0.1520\n",
            "Epoch 10/10\n",
            "\u001b[1m47/47\u001b[0m \u001b[32m━━━━━━━━━━━━━━━━━━━━\u001b[0m\u001b[37m\u001b[0m \u001b[1m16s\u001b[0m 340ms/step - accuracy: 0.9484 - loss: 0.1239\n",
            "Final LSTM Model training complete!\n"
          ]
        }
      ]
    },
    {
      "cell_type": "markdown",
      "source": [
        "# **6. Performance Evaluation**"
      ],
      "metadata": {
        "id": "43leADAAhsMu"
      }
    },
    {
      "cell_type": "code",
      "source": [
        "# Model Accuracy comparison\n",
        "print(\"\\n\" + \"=\"*45)\n",
        "print(\"MODEL ACCURACY COMPARISON\")\n",
        "print(\"=\"*45)\n",
        "\n",
        "print(f\"{'Model':<20} {'Accuracy':<10} {'Loss':<12}\")\n",
        "print(\"-\" * 45)\n",
        "print(f\"{'CNN':<20} {(cnn_acc*100):.2f}     {cnn_loss:.4f}\")\n",
        "print(f\"{'RNN':<20} {(rnn_acc*100):.2f}     {rnn_loss:.4f}\")\n",
        "print(f\"{'LSTM':<20} {(lstm_acc*100):.2f}     {lstm_loss:.4f}\")"
      ],
      "metadata": {
        "colab": {
          "base_uri": "https://localhost:8080/"
        },
        "id": "PSHbw2Xshxx9",
        "outputId": "af0734fe-5322-47ce-a9be-97d8001b6fad"
      },
      "execution_count": 135,
      "outputs": [
        {
          "output_type": "stream",
          "name": "stdout",
          "text": [
            "\n",
            "=============================================\n",
            "MODEL ACCURACY COMPARISON\n",
            "=============================================\n",
            "Model                Accuracy   Loss        \n",
            "---------------------------------------------\n",
            "CNN                  82.84     0.8572\n",
            "RNN                  77.88     0.4621\n",
            "LSTM                 93.97     0.1838\n"
          ]
        }
      ]
    },
    {
      "cell_type": "markdown",
      "source": [
        "### Make predictions on validation data"
      ],
      "metadata": {
        "id": "xOSiu9u0iJpo"
      }
    },
    {
      "cell_type": "code",
      "source": [
        "# Make predictions on validation data\n",
        "cnn_predictions_prob = cnn_model.predict(X_val_padded)\n",
        "rnn_predictions_prob = rnn_model.predict(X_val_padded)\n",
        "lstm_predictions_prob = lstm_model.predict(X_val_padded)\n",
        "\n",
        "# Convert probabilities to binary predictions using a threshold (e.g., 0.5)\n",
        "cnn_predictions = (cnn_predictions_prob > 0.5).astype(int)\n",
        "rnn_predictions = (rnn_predictions_prob > 0.5).astype(int)\n",
        "lstm_predictions = (lstm_predictions_prob > 0.5).astype(int)\n",
        "\n",
        "\n",
        "# Calculate and print the accuracy scores\n",
        "print(\"\\n=======Accuracy Scores===========\")\n",
        "acc_cnn = metrics.accuracy_score(y_val, cnn_predictions)\n",
        "acc_rnn = metrics.accuracy_score(y_val, rnn_predictions)\n",
        "acc_lstm = metrics.accuracy_score(y_val, lstm_predictions)\n",
        "\n",
        "print(f\"CNN Accuracy: {acc_cnn*100:.2f}%\")\n",
        "print(f\"RNN Accuracy: {acc_rnn*100:.2f}%\")\n",
        "print(f\"LSTM Accuracy: {acc_lstm*100:.2f}%\")\n",
        "\n",
        "# Print the confusion matrix\n",
        "print(\"\\n=======Confusion Matrix===========\")\n",
        "print(\"CNN:\\n\", metrics.confusion_matrix(y_val, cnn_predictions))\n",
        "print(\"RNN:\\n\", metrics.confusion_matrix(y_val, rnn_predictions))\n",
        "print(\"LSTM:\\n\", metrics.confusion_matrix(y_val, lstm_predictions))\n",
        "\n",
        "# Additional evaluation metrics\n",
        "print(\"\\n=======Classification Report===========\")\n",
        "print(\"CNN:\\n\", metrics.classification_report(y_val, cnn_predictions, target_names=['Human','AI']))\n",
        "print(\"RNN:\\n\", metrics.classification_report(y_val, rnn_predictions, target_names=['Human', 'AI']))\n",
        "print(\"LSTM:\\n\", metrics.classification_report(y_val, lstm_predictions, target_names=['Human', 'AI']))"
      ],
      "metadata": {
        "colab": {
          "base_uri": "https://localhost:8080/"
        },
        "id": "Wcs-yeIeiHLx",
        "outputId": "ffd7a89b-b149-42ab-93bd-cbfeaeb18988"
      },
      "execution_count": 136,
      "outputs": [
        {
          "output_type": "stream",
          "name": "stdout",
          "text": [
            "\u001b[1m24/24\u001b[0m \u001b[32m━━━━━━━━━━━━━━━━━━━━\u001b[0m\u001b[37m\u001b[0m \u001b[1m1s\u001b[0m 24ms/step\n",
            "\u001b[1m24/24\u001b[0m \u001b[32m━━━━━━━━━━━━━━━━━━━━\u001b[0m\u001b[37m\u001b[0m \u001b[1m3s\u001b[0m 112ms/step\n",
            "\u001b[1m24/24\u001b[0m \u001b[32m━━━━━━━━━━━━━━━━━━━━\u001b[0m\u001b[37m\u001b[0m \u001b[1m4s\u001b[0m 118ms/step\n",
            "\n",
            "=======Accuracy Scores===========\n",
            "CNN Accuracy: 82.84%\n",
            "RNN Accuracy: 77.88%\n",
            "LSTM Accuracy: 93.97%\n",
            "\n",
            "=======Confusion Matrix===========\n",
            "CNN:\n",
            " [[300  73]\n",
            " [ 55 318]]\n",
            "RNN:\n",
            " [[237 136]\n",
            " [ 29 344]]\n",
            "LSTM:\n",
            " [[356  17]\n",
            " [ 28 345]]\n",
            "\n",
            "=======Classification Report===========\n",
            "CNN:\n",
            "               precision    recall  f1-score   support\n",
            "\n",
            "       Human       0.85      0.80      0.82       373\n",
            "          AI       0.81      0.85      0.83       373\n",
            "\n",
            "    accuracy                           0.83       746\n",
            "   macro avg       0.83      0.83      0.83       746\n",
            "weighted avg       0.83      0.83      0.83       746\n",
            "\n",
            "RNN:\n",
            "               precision    recall  f1-score   support\n",
            "\n",
            "       Human       0.89      0.64      0.74       373\n",
            "          AI       0.72      0.92      0.81       373\n",
            "\n",
            "    accuracy                           0.78       746\n",
            "   macro avg       0.80      0.78      0.77       746\n",
            "weighted avg       0.80      0.78      0.77       746\n",
            "\n",
            "LSTM:\n",
            "               precision    recall  f1-score   support\n",
            "\n",
            "       Human       0.93      0.95      0.94       373\n",
            "          AI       0.95      0.92      0.94       373\n",
            "\n",
            "    accuracy                           0.94       746\n",
            "   macro avg       0.94      0.94      0.94       746\n",
            "weighted avg       0.94      0.94      0.94       746\n",
            "\n"
          ]
        }
      ]
    },
    {
      "cell_type": "markdown",
      "source": [
        "#### Plot ROC Curve"
      ],
      "metadata": {
        "id": "CJPTVueMjtmK"
      }
    },
    {
      "cell_type": "code",
      "source": [
        "from tkinter.constants import Y\n",
        "import matplotlib.pyplot as plt\n",
        "# roc curve and auc\n",
        "from sklearn.metrics import roc_curve\n",
        "from sklearn.metrics import roc_auc_score\n",
        "\n",
        "# take predicted probabilities from previous cell\n",
        "cnn_probs = cnn_predictions_prob\n",
        "rnn_probs = rnn_predictions_prob\n",
        "lstm_probs = lstm_predictions_prob\n",
        "\n",
        "# calculate scores\n",
        "cnn_auc = roc_auc_score(y_val, cnn_probs)\n",
        "rnn_auc = roc_auc_score(y_val, rnn_probs)\n",
        "lstm_auc = roc_auc_score(y_val, lstm_probs)\n",
        "\n",
        "# summarize scores\n",
        "print('CNN: ROC AUC=%.3f' % (cnn_auc))\n",
        "print('RNN: ROC AUC=%.3f' % (rnn_auc))\n",
        "print('LSTM: ROC AUC=%.3f' % (lstm_auc))\n",
        "\n",
        "# calculate roc curves\n",
        "cnn_fpr, cnn_tpr, _ = roc_curve(y_val, cnn_probs)\n",
        "rnn_fpr, rnn_tpr, _ = roc_curve(y_val, rnn_probs)\n",
        "lstm_fpr, lstm_tpr, _ = roc_curve(y_val, lstm_probs)\n",
        "\n",
        "# plot the roc curve for the models\n",
        "plt.plot(cnn_fpr, cnn_tpr, linestyle='--', label='CNN')\n",
        "plt.plot(rnn_fpr, rnn_tpr, marker='.', label='RNN')\n",
        "plt.plot(lstm_fpr, lstm_tpr, marker='o', label='LSTM')\n",
        "\n",
        "# axis labels\n",
        "plt.xlabel('False Positive Rate')\n",
        "plt.ylabel('True Positive Rate')\n",
        "# show the legend\n",
        "plt.legend()\n",
        "# show the plot\n",
        "plt.show()"
      ],
      "metadata": {
        "colab": {
          "base_uri": "https://localhost:8080/",
          "height": 501
        },
        "id": "Xwobv4QUjvo_",
        "outputId": "289f8207-12b9-43e5-cd72-c0ca9d1532ac"
      },
      "execution_count": 137,
      "outputs": [
        {
          "output_type": "stream",
          "name": "stdout",
          "text": [
            "CNN: ROC AUC=0.905\n",
            "RNN: ROC AUC=0.901\n",
            "LSTM: ROC AUC=0.983\n"
          ]
        },
        {
          "output_type": "display_data",
          "data": {
            "text/plain": [
              "<Figure size 640x480 with 1 Axes>"
            ],
            "image/png": "[encoded data removed]"
          },
          "metadata": {}
        }
      ]
    },
    {
      "cell_type": "markdown",
      "source": [
        "Comparison Analysis:\n",
        "\n",
        "* Both CNN and RNN had faster training times, however RNN struggled a bit more with accuracy.\n",
        "* LSTM was slower than both of the other models, but had more consistent results.\n",
        "\n",
        "# **7. Model Saving for Streamlit Deployment**"
      ],
      "metadata": {
        "id": "OLAqfFtkkiTS"
      }
    },
    {
      "cell_type": "code",
      "source": [
        "#Save Models for Streamlit Deployment\n",
        "\n",
        "print(\"Saving models for Streamlit deployment...\")\n",
        "\n",
        "# Save the CNN model\n",
        "cnn_filename = 'CNN.pkl'\n",
        "joblib.dump(cnn_model, cnn_filename)\n",
        "\n",
        "# Save the RNN model\n",
        "rnn_filename = 'RNN.pkl'\n",
        "joblib.dump(rnn_model, rnn_filename)\n",
        "\n",
        "# Save the LSTM model\n",
        "lstm_filename = 'LSTM.pkl'\n",
        "joblib.dump(lstm_model, lstm_filename)\n",
        "\n",
        "print(\"Models saved successfully!\")\n",
        "print(f\"CNN model: {cnn_filename}\")\n",
        "print(f\"RNN model: {rnn_filename}\")\n",
        "print(f\"LSTM model: {lstm_filename}\")"
      ],
      "metadata": {
        "colab": {
          "base_uri": "https://localhost:8080/"
        },
        "id": "iWcMSgthks2a",
        "outputId": "e905bba0-a84a-417a-f19b-c1f071c1095d"
      },
      "execution_count": 138,
      "outputs": [
        {
          "output_type": "stream",
          "name": "stdout",
          "text": [
            "Saving models for Streamlit deployment...\n",
            "Models saved successfully!\n",
            "CNN model: CNN.pkl\n",
            "RNN model: RNN.pkl\n",
            "LSTM model: LSTM.pkl\n"
          ]
        }
      ]
    }
  ]
}