{
  "nbformat": 4,
  "nbformat_minor": 0,
  "metadata": {
    "colab": {
      "provenance": [],
      "toc_visible": true,
      "authorship_tag": "ABX9TyP8SF7HvMEZM26Lp86VXTAd",
      "include_colab_link": true
    },
    "kernelspec": {
      "name": "python3",
      "display_name": "Python 3"
    },
    "language_info": {
      "name": "python"
    }
  },
  "cells": [
    {
      "cell_type": "markdown",
      "metadata": {
        "id": "view-in-github",
        "colab_type": "text"
      },
      "source": [
        "<a href=\"https://colab.research.google.com/github/ennovak/AI-Detection-LLM/blob/Model-Testing/Emily_Novak_Project_2.ipynb\" target=\"_parent\"><img src=\"https://colab.research.google.com/assets/colab-badge.svg\" alt=\"Open In Colab\"/></a>"
      ]
    },
    {
      "cell_type": "markdown",
      "source": [
        "# **1. Import Necessary Libraries**"
      ],
      "metadata": {
        "id": "GL7zWcJOz6of"
      }
    },
    {
      "cell_type": "code",
      "execution_count": 1,
      "metadata": {
        "colab": {
          "base_uri": "https://localhost:8080/"
        },
        "id": "RMJL0DlfzPgI",
        "outputId": "4d5f31ce-4937-4b15-f947-17bbe2096584"
      },
      "outputs": [
        {
          "output_type": "stream",
          "name": "stdout",
          "text": [
            "Requirement already satisfied: torchviz in /usr/local/lib/python3.11/dist-packages (0.0.3)\n",
            "Requirement already satisfied: torch in /usr/local/lib/python3.11/dist-packages (from torchviz) (2.6.0+cu124)\n",
            "Requirement already satisfied: graphviz in /usr/local/lib/python3.11/dist-packages (from torchviz) (0.21)\n",
            "Requirement already satisfied: filelock in /usr/local/lib/python3.11/dist-packages (from torch->torchviz) (3.18.0)\n",
            "Requirement already satisfied: typing-extensions>=4.10.0 in /usr/local/lib/python3.11/dist-packages (from torch->torchviz) (4.14.0)\n",
            "Requirement already satisfied: networkx in /usr/local/lib/python3.11/dist-packages (from torch->torchviz) (3.5)\n",
            "Requirement already satisfied: jinja2 in /usr/local/lib/python3.11/dist-packages (from torch->torchviz) (3.1.6)\n",
            "Requirement already satisfied: fsspec in /usr/local/lib/python3.11/dist-packages (from torch->torchviz) (2025.3.2)\n",
            "Requirement already satisfied: nvidia-cuda-nvrtc-cu12==12.4.127 in /usr/local/lib/python3.11/dist-packages (from torch->torchviz) (12.4.127)\n",
            "Requirement already satisfied: nvidia-cuda-runtime-cu12==12.4.127 in /usr/local/lib/python3.11/dist-packages (from torch->torchviz) (12.4.127)\n",
            "Requirement already satisfied: nvidia-cuda-cupti-cu12==12.4.127 in /usr/local/lib/python3.11/dist-packages (from torch->torchviz) (12.4.127)\n",
            "Requirement already satisfied: nvidia-cudnn-cu12==9.1.0.70 in /usr/local/lib/python3.11/dist-packages (from torch->torchviz) (9.1.0.70)\n",
            "Requirement already satisfied: nvidia-cublas-cu12==12.4.5.8 in /usr/local/lib/python3.11/dist-packages (from torch->torchviz) (12.4.5.8)\n",
            "Requirement already satisfied: nvidia-cufft-cu12==11.2.1.3 in /usr/local/lib/python3.11/dist-packages (from torch->torchviz) (11.2.1.3)\n",
            "Requirement already satisfied: nvidia-curand-cu12==10.3.5.147 in /usr/local/lib/python3.11/dist-packages (from torch->torchviz) (10.3.5.147)\n",
            "Requirement already satisfied: nvidia-cusolver-cu12==11.6.1.9 in /usr/local/lib/python3.11/dist-packages (from torch->torchviz) (11.6.1.9)\n",
            "Requirement already satisfied: nvidia-cusparse-cu12==12.3.1.170 in /usr/local/lib/python3.11/dist-packages (from torch->torchviz) (12.3.1.170)\n",
            "Requirement already satisfied: nvidia-cusparselt-cu12==0.6.2 in /usr/local/lib/python3.11/dist-packages (from torch->torchviz) (0.6.2)\n",
            "Requirement already satisfied: nvidia-nccl-cu12==2.21.5 in /usr/local/lib/python3.11/dist-packages (from torch->torchviz) (2.21.5)\n",
            "Requirement already satisfied: nvidia-nvtx-cu12==12.4.127 in /usr/local/lib/python3.11/dist-packages (from torch->torchviz) (12.4.127)\n",
            "Requirement already satisfied: nvidia-nvjitlink-cu12==12.4.127 in /usr/local/lib/python3.11/dist-packages (from torch->torchviz) (12.4.127)\n",
            "Requirement already satisfied: triton==3.2.0 in /usr/local/lib/python3.11/dist-packages (from torch->torchviz) (3.2.0)\n",
            "Requirement already satisfied: sympy==1.13.1 in /usr/local/lib/python3.11/dist-packages (from torch->torchviz) (1.13.1)\n",
            "Requirement already satisfied: mpmath<1.4,>=1.1.0 in /usr/local/lib/python3.11/dist-packages (from sympy==1.13.1->torch->torchviz) (1.3.0)\n",
            "Requirement already satisfied: MarkupSafe>=2.0 in /usr/local/lib/python3.11/dist-packages (from jinja2->torch->torchviz) (3.0.2)\n"
          ]
        }
      ],
      "source": [
        "# !pip install torchviz # uncomment during first run"
      ]
    },
    {
      "cell_type": "code",
      "source": [
        "# Import necessary libraries for data manipulation, visualization, and machine learning\n",
        "import pandas as pd\n",
        "import numpy as np\n",
        "import matplotlib.pyplot as plt\n",
        "import seaborn as sns\n",
        "import re\n",
        "import unicodedata\n",
        "import joblib\n",
        "import string\n",
        "import math\n",
        "import time\n",
        "from bs4 import BeautifulSoup\n",
        "from collections import Counter, defaultdict\n",
        "import networkx as nx\n",
        "from scipy.spatial.distance import pdist, squareform\n",
        "from gensim.models import Word2Vec\n",
        "import gensim\n",
        "\n",
        "# Sklearn libraries for machine learning and text processing\n",
        "from sklearn.feature_extraction.text import TfidfVectorizer, CountVectorizer\n",
        "from sklearn.naive_bayes import MultinomialNB\n",
        "from sklearn.svm import SVC\n",
        "from sklearn.linear_model import LogisticRegression\n",
        "from sklearn.ensemble import RandomForestClassifier\n",
        "from sklearn.model_selection import train_test_split, GridSearchCV, cross_val_score, StratifiedKFold, cross_validate, validation_curve, learning_curve\n",
        "from sklearn.pipeline import Pipeline, FeatureUnion\n",
        "from sklearn.preprocessing import StandardScaler, FunctionTransformer\n",
        "from sklearn import metrics\n",
        "from sklearn.metrics import matthews_corrcoef, confusion_matrix\n",
        "from sklearn.utils import shuffle\n",
        "from sklearn.decomposition import PCA\n",
        "from sklearn.manifold import TSNE, MDS\n",
        "from sklearn.cluster import KMeans\n",
        "from sklearn.metrics.pairwise import cosine_similarity, euclidean_distances\n",
        "\n",
        "\n",
        "# NLTK libraries for text processing (lemmatization, stemming, stopwords, POS tagging)\n",
        "import nltk\n",
        "from nltk.corpus import stopwords, wordnet\n",
        "from nltk.stem import WordNetLemmatizer, PorterStemmer\n",
        "from nltk.tokenize import sent_tokenize, word_tokenize\n",
        "from nltk import ne_chunk, pos_tag\n",
        "from nltk.tree import Tree\n",
        "\n",
        "\n",
        "# Download necessary NLTK resources for text processing\n",
        "nltk.download('wordnet')  # WordNet for lemmatization\n",
        "nltk.download('omw-1.4')  # Open Multilingual Wordnet\n",
        "nltk.download('punkt')  # Tokenizer\n",
        "nltk.download('punkt_tab')\n",
        "nltk.download('stopwords')  # Stopwords for text cleaning\n",
        "nltk.download('averaged_perceptron_tagger')  # POS tagger for part-of-speech tagging\n",
        "nltk.download('averaged_perceptron_tagger_eng')  # Additional tagger\n",
        "nltk.download('tagsets_json')  # Tagset resource\n",
        "\n",
        "print(\"\\n All libraries imported successfully!\")\n",
        "\n",
        "\n",
        "# Deep Learning Libraries\n",
        "from keras.layers import Dropout, Dense, GRU, Embedding, LSTM, Bidirectional, TimeDistributed, Flatten, MaxPooling1D\n",
        "from keras.models import Sequential\n",
        "import tensorflow as tf\n",
        "from tensorflow.keras.preprocessing.text import Tokenizer\n",
        "from tensorflow.keras.preprocessing.sequence import pad_sequences\n",
        "from tensorflow.keras.models import Model\n",
        "from tensorflow.keras.layers import Input,Dense,Conv1D,Flatten,Embedding,MaxPool1D,concatenate,Dropout\n",
        "from tensorflow.keras.callbacks import ModelCheckpoint,TensorBoard,EarlyStopping\n",
        "from tensorflow.keras.optimizers import Adam\n",
        "\n",
        "# PyTorch libraries\n",
        "import torch\n",
        "import torch.nn as nn\n",
        "import torch.optim as optim\n",
        "from torch.utils.data import DataLoader, TensorDataset\n",
        "import torch.nn.functional as F\n",
        "from tqdm import tqdm\n",
        "\n",
        "\n",
        "# Logging\n",
        "import logging\n",
        "logging.basicConfig(level=logging.INFO)\n",
        "\n",
        "\n",
        "\n",
        "# Data Visualization\n",
        "%matplotlib inline\n",
        "import matplotlib.pyplot as plt\n",
        "import seaborn as sns\n",
        "sns.set_style(\"whitegrid\")\n",
        "plt.style.use(\"fivethirtyeight\")\n",
        "# Set style for better plots\n",
        "plt.style.use('default')\n",
        "sns.set_palette(\"husl\")\n",
        "import plotly.express as px\n",
        "import plotly.graph_objects as go\n",
        "import plotly.offline as pyo\n",
        "from plotly.subplots import make_subplots\n",
        "import warnings\n",
        "warnings.filterwarnings('ignore')\n",
        "\n",
        "\n",
        "import matplotlib.pyplot as plt\n",
        "import seaborn as sns\n",
        "\n",
        "import warnings\n",
        "warnings.filterwarnings('ignore')"
      ],
      "metadata": {
        "colab": {
          "base_uri": "https://localhost:8080/"
        },
        "id": "9e2JvhMt0Hq3",
        "outputId": "b0796d03-dfe9-4f15-a2bc-d94ec0e3144a"
      },
      "execution_count": 96,
      "outputs": [
        {
          "output_type": "stream",
          "name": "stdout",
          "text": [
            "\n",
            " All libraries imported successfully!\n"
          ]
        },
        {
          "output_type": "stream",
          "name": "stderr",
          "text": [
            "[nltk_data] Downloading package wordnet to /root/nltk_data...\n",
            "[nltk_data]   Package wordnet is already up-to-date!\n",
            "[nltk_data] Downloading package omw-1.4 to /root/nltk_data...\n",
            "[nltk_data]   Package omw-1.4 is already up-to-date!\n",
            "[nltk_data] Downloading package punkt to /root/nltk_data...\n",
            "[nltk_data]   Package punkt is already up-to-date!\n",
            "[nltk_data] Downloading package punkt_tab to /root/nltk_data...\n",
            "[nltk_data]   Package punkt_tab is already up-to-date!\n",
            "[nltk_data] Downloading package stopwords to /root/nltk_data...\n",
            "[nltk_data]   Package stopwords is already up-to-date!\n",
            "[nltk_data] Downloading package averaged_perceptron_tagger to\n",
            "[nltk_data]     /root/nltk_data...\n",
            "[nltk_data]   Package averaged_perceptron_tagger is already up-to-\n",
            "[nltk_data]       date!\n",
            "[nltk_data] Downloading package averaged_perceptron_tagger_eng to\n",
            "[nltk_data]     /root/nltk_data...\n",
            "[nltk_data]   Package averaged_perceptron_tagger_eng is already up-to-\n",
            "[nltk_data]       date!\n",
            "[nltk_data] Downloading package tagsets_json to /root/nltk_data...\n",
            "[nltk_data]   Package tagsets_json is already up-to-date!\n"
          ]
        }
      ]
    },
    {
      "cell_type": "markdown",
      "source": [
        "## Checking/Setting Computation Device\n",
        "\n",
        "Utilizing pyTorch support of GPU training of neural networks to speed up training process."
      ],
      "metadata": {
        "id": "IzpL2wmh0ssC"
      }
    },
    {
      "cell_type": "code",
      "source": [
        "use_cuda = torch.cuda.is_available()\n",
        "\n",
        "# Use this line below to enforce the use of the CPU (in case you don't have a supported GPU)\n",
        "# use_cuda = False  # Uncomment this line to force CPU usage\n",
        "\n",
        "device = torch.device(\"cuda:0\" if use_cuda else \"cpu\")\n",
        "\n",
        "print(\"Available device: {}\".format(device))\n",
        "print(\"If you see 'cuda:0', it means GPU is available and will be used\")\n",
        "print(\"If you see 'cpu', it means only CPU will be used\")"
      ],
      "metadata": {
        "colab": {
          "base_uri": "https://localhost:8080/"
        },
        "id": "y08NFefH0PDL",
        "outputId": "4a17c505-420c-4595-a8d7-6ceef6dd7c3c"
      },
      "execution_count": 3,
      "outputs": [
        {
          "output_type": "stream",
          "name": "stdout",
          "text": [
            "Available device: cpu\n",
            "If you see 'cuda:0', it means GPU is available and will be used\n",
            "If you see 'cpu', it means only CPU will be used\n"
          ]
        }
      ]
    },
    {
      "cell_type": "markdown",
      "source": [
        "# **2. Data Analysis and Preprocessing**"
      ],
      "metadata": {
        "id": "rVW6pnlI1DAV"
      }
    },
    {
      "cell_type": "code",
      "source": [
        "# Import Data\n",
        "from google.colab import files\n",
        "uploaded = files.upload()"
      ],
      "metadata": {
        "colab": {
          "base_uri": "https://localhost:8080/",
          "height": 108
        },
        "id": "LvXprdR20xsd",
        "outputId": "a37108e3-729c-46e5-968c-eb003d4e4960"
      },
      "execution_count": 4,
      "outputs": [
        {
          "output_type": "display_data",
          "data": {
            "text/plain": [
              "<IPython.core.display.HTML object>"
            ],
            "text/html": [
              "\n",
              "     <input type=\"file\" id=\"files-5a71b06e-89c2-4f53-a715-b1a10df97c4d\" name=\"files[]\" multiple disabled\n",
              "        style=\"border:none\" />\n",
              "     <output id=\"result-5a71b06e-89c2-4f53-a715-b1a10df97c4d\">\n",
              "      Upload widget is only available when the cell has been executed in the\n",
              "      current browser session. Please rerun this cell to enable.\n",
              "      </output>\n",
              "      <script>// Copyright 2017 Google LLC\n",
              "//\n",
              "// Licensed under the Apache License, Version 2.0 (the \"License\");\n",
              "// you may not use this file except in compliance with the License.\n",
              "// You may obtain a copy of the License at\n",
              "//\n",
              "//      http://www.apache.org/licenses/LICENSE-2.0\n",
              "//\n",
              "// Unless required by applicable law or agreed to in writing, software\n",
              "// distributed under the License is distributed on an \"AS IS\" BASIS,\n",
              "// WITHOUT WARRANTIES OR CONDITIONS OF ANY KIND, either express or implied.\n",
              "// See the License for the specific language governing permissions and\n",
              "// limitations under the License.\n",
              "\n",
              "/**\n",
              " * @fileoverview Helpers for google.colab Python module.\n",
              " */\n",
              "(function(scope) {\n",
              "function span(text, styleAttributes = {}) {\n",
              "  const element = document.createElement('span');\n",
              "  element.textContent = text;\n",
              "  for (const key of Object.keys(styleAttributes)) {\n",
              "    element.style[key] = styleAttributes[key];\n",
              "  }\n",
              "  return element;\n",
              "}\n",
              "\n",
              "// Max number of bytes which will be uploaded at a time.\n",
              "const MAX_PAYLOAD_SIZE = 100 * 1024;\n",
              "\n",
              "function _uploadFiles(inputId, outputId) {\n",
              "  const steps = uploadFilesStep(inputId, outputId);\n",
              "  const outputElement = document.getElementById(outputId);\n",
              "  // Cache steps on the outputElement to make it available for the next call\n",
              "  // to uploadFilesContinue from Python.\n",
              "  outputElement.steps = steps;\n",
              "\n",
              "  return _uploadFilesContinue(outputId);\n",
              "}\n",
              "\n",
              "// This is roughly an async generator (not supported in the browser yet),\n",
              "// where there are multiple asynchronous steps and the Python side is going\n",
              "// to poll for completion of each step.\n",
              "// This uses a Promise to block the python side on completion of each step,\n",
              "// then passes the result of the previous step as the input to the next step.\n",
              "function _uploadFilesContinue(outputId) {\n",
              "  const outputElement = document.getElementById(outputId);\n",
              "  const steps = outputElement.steps;\n",
              "\n",
              "  const next = steps.next(outputElement.lastPromiseValue);\n",
              "  return Promise.resolve(next.value.promise).then((value) => {\n",
              "    // Cache the last promise value to make it available to the next\n",
              "    // step of the generator.\n",
              "    outputElement.lastPromiseValue = value;\n",
              "    return next.value.response;\n",
              "  });\n",
              "}\n",
              "\n",
              "/**\n",
              " * Generator function which is called between each async step of the upload\n",
              " * process.\n",
              " * @param {string} inputId Element ID of the input file picker element.\n",
              " * @param {string} outputId Element ID of the output display.\n",
              " * @return {!Iterable<!Object>} Iterable of next steps.\n",
              " */\n",
              "function* uploadFilesStep(inputId, outputId) {\n",
              "  const inputElement = document.getElementById(inputId);\n",
              "  inputElement.disabled = false;\n",
              "\n",
              "  const outputElement = document.getElementById(outputId);\n",
              "  outputElement.innerHTML = '';\n",
              "\n",
              "  const pickedPromise = new Promise((resolve) => {\n",
              "    inputElement.addEventListener('change', (e) => {\n",
              "      resolve(e.target.files);\n",
              "    });\n",
              "  });\n",
              "\n",
              "  const cancel = document.createElement('button');\n",
              "  inputElement.parentElement.appendChild(cancel);\n",
              "  cancel.textContent = 'Cancel upload';\n",
              "  const cancelPromise = new Promise((resolve) => {\n",
              "    cancel.onclick = () => {\n",
              "      resolve(null);\n",
              "    };\n",
              "  });\n",
              "\n",
              "  // Wait for the user to pick the files.\n",
              "  const files = yield {\n",
              "    promise: Promise.race([pickedPromise, cancelPromise]),\n",
              "    response: {\n",
              "      action: 'starting',\n",
              "    }\n",
              "  };\n",
              "\n",
              "  cancel.remove();\n",
              "\n",
              "  // Disable the input element since further picks are not allowed.\n",
              "  inputElement.disabled = true;\n",
              "\n",
              "  if (!files) {\n",
              "    return {\n",
              "      response: {\n",
              "        action: 'complete',\n",
              "      }\n",
              "    };\n",
              "  }\n",
              "\n",
              "  for (const file of files) {\n",
              "    const li = document.createElement('li');\n",
              "    li.append(span(file.name, {fontWeight: 'bold'}));\n",
              "    li.append(span(\n",
              "        `(${file.type || 'n/a'}) - ${file.size} bytes, ` +\n",
              "        `last modified: ${\n",
              "            file.lastModifiedDate ? file.lastModifiedDate.toLocaleDateString() :\n",
              "                                    'n/a'} - `));\n",
              "    const percent = span('0% done');\n",
              "    li.appendChild(percent);\n",
              "\n",
              "    outputElement.appendChild(li);\n",
              "\n",
              "    const fileDataPromise = new Promise((resolve) => {\n",
              "      const reader = new FileReader();\n",
              "      reader.onload = (e) => {\n",
              "        resolve(e.target.result);\n",
              "      };\n",
              "      reader.readAsArrayBuffer(file);\n",
              "    });\n",
              "    // Wait for the data to be ready.\n",
              "    let fileData = yield {\n",
              "      promise: fileDataPromise,\n",
              "      response: {\n",
              "        action: 'continue',\n",
              "      }\n",
              "    };\n",
              "\n",
              "    // Use a chunked sending to avoid message size limits. See b/62115660.\n",
              "    let position = 0;\n",
              "    do {\n",
              "      const length = Math.min(fileData.byteLength - position, MAX_PAYLOAD_SIZE);\n",
              "      const chunk = new Uint8Array(fileData, position, length);\n",
              "      position += length;\n",
              "\n",
              "      const base64 = btoa(String.fromCharCode.apply(null, chunk));\n",
              "      yield {\n",
              "        response: {\n",
              "          action: 'append',\n",
              "          file: file.name,\n",
              "          data: base64,\n",
              "        },\n",
              "      };\n",
              "\n",
              "      let percentDone = fileData.byteLength === 0 ?\n",
              "          100 :\n",
              "          Math.round((position / fileData.byteLength) * 100);\n",
              "      percent.textContent = `${percentDone}% done`;\n",
              "\n",
              "    } while (position < fileData.byteLength);\n",
              "  }\n",
              "\n",
              "  // All done.\n",
              "  yield {\n",
              "    response: {\n",
              "      action: 'complete',\n",
              "    }\n",
              "  };\n",
              "}\n",
              "\n",
              "scope.google = scope.google || {};\n",
              "scope.google.colab = scope.google.colab || {};\n",
              "scope.google.colab._files = {\n",
              "  _uploadFiles,\n",
              "  _uploadFilesContinue,\n",
              "};\n",
              "})(self);\n",
              "</script> "
            ]
          },
          "metadata": {}
        },
        {
          "output_type": "stream",
          "name": "stdout",
          "text": [
            "Saving AI_vs_huam_train_dataset.xlsx to AI_vs_huam_train_dataset.xlsx\n",
            "Saving Final_test_data.csv to Final_test_data.csv\n"
          ]
        }
      ]
    },
    {
      "cell_type": "code",
      "source": [
        "# Read Data\n",
        "df_train = pd.read_excel('AI_vs_huam_train_dataset.xlsx')\n",
        "df_test = pd.read_csv('Final_test_data.csv')"
      ],
      "metadata": {
        "id": "sr_xmdrb1UAH"
      },
      "execution_count": 4,
      "outputs": []
    },
    {
      "cell_type": "code",
      "source": [
        "print(\"Dataset Information:\")\n",
        "print(f\"Training data shape: {df_train.shape}\")\n",
        "print(f\"Test data shape: {df_test.shape}\")\n",
        "print(f\"Columns: {df_train.columns.tolist()}\")\n",
        "\n",
        "# Show first few rows\n",
        "print(\"\\nFirst 5 rows of training data:\")\n",
        "print(df_train.head())\n",
        "\n",
        "# Check sentiment distribution\n",
        "print(\"\\nLabel distribution:\")\n",
        "print(df_train['label'].value_counts())"
      ],
      "metadata": {
        "colab": {
          "base_uri": "https://localhost:8080/"
        },
        "id": "RPm934NF1aEV",
        "outputId": "df73157e-5dca-46c9-b83d-f29e57f860b5"
      },
      "execution_count": 5,
      "outputs": [
        {
          "output_type": "stream",
          "name": "stdout",
          "text": [
            "Dataset Information:\n",
            "Training data shape: (3728, 2)\n",
            "Test data shape: (869, 2)\n",
            "Columns: ['essay', 'label']\n",
            "\n",
            "First 5 rows of training data:\n",
            "                                               essay  label\n",
            "0  International sports events require the most w...      0\n",
            "1  Globalisation has become a significant aspect ...      0\n",
            "2  There is an ever-increasing number of bullying...      0\n",
            "3  It is commonly believed, that companies should...      0\n",
            "4  Despite knowing about the adverse effects of c...      0\n",
            "\n",
            "Label distribution:\n",
            "label\n",
            "0    1864\n",
            "1    1864\n",
            "Name: count, dtype: int64\n"
          ]
        }
      ]
    },
    {
      "cell_type": "markdown",
      "source": [
        "## **Text Preprocessing**\n",
        "\n",
        "Here, we want to \"clean\" the text data to include only words that provide value. We remove common stopwords and unwanted characters and digits. We do this to reduce the amount of data used in training so that we're not trying to process unnecessary data.\n",
        "\n",
        "Once we have the cleaned text, we want to transform the text into numerical data that our classifiers can understand using vectors."
      ],
      "metadata": {
        "id": "1EIB-RNM1-vn"
      }
    },
    {
      "cell_type": "code",
      "source": [
        "#  Advanced Text Preprocessing with Lemmatization\n",
        "\n",
        "class TextPreprocessor:\n",
        "    \"\"\"\n",
        "    Advanced text preprocessing class with lemmatization\n",
        "    This will clean text better than basic preprocessing\n",
        "    \"\"\"\n",
        "\n",
        "    def __init__(self):\n",
        "        self.lemmatizer = WordNetLemmatizer()\n",
        "        self.stop_words = set(stopwords.words('english'))\n",
        "        # Add custom stop words\n",
        "        self.stop_words.update(['u', 'ur', 'im', 'dont', 'doin', 'ure'])\n",
        "\n",
        "    def get_wordnet_pos(self, word):\n",
        "        \"\"\"Convert POS tag to format accepted by WordNet lemmatizer\"\"\"\n",
        "        tag = nltk.pos_tag([word])[0][1][0].upper()\n",
        "        tag_dict = {\"J\": wordnet.ADJ,\n",
        "                    \"N\": wordnet.NOUN,\n",
        "                    \"V\": wordnet.VERB,\n",
        "                    \"R\": wordnet.ADV}\n",
        "        return tag_dict.get(tag, wordnet.NOUN)\n",
        "\n",
        "    def clean_text(self, text):\n",
        "        \"\"\"Basic text cleaning\"\"\"\n",
        "        if not isinstance(text, str):\n",
        "            return \"\"\n",
        "\n",
        "        # Convert to lowercase\n",
        "        text = text.lower()\n",
        "\n",
        "        # Remove URLs, emails, HTML tags\n",
        "        text = re.sub(r'http\\S+|www\\S+|https\\S+', '', text)\n",
        "        text = re.sub(r'\\S+@\\S+', '', text)\n",
        "        text = re.sub(r'<.*?>', '', text)\n",
        "\n",
        "        # Remove special characters but keep spaces\n",
        "        text = re.sub(r'[^a-zA-Z\\s]', '', text)\n",
        "\n",
        "        # Remove digits\n",
        "        text = re.sub(r'\\d', '', text)\n",
        "\n",
        "        # Remove extra whitespace\n",
        "        text = ' '.join(text.split())\n",
        "\n",
        "        return text\n",
        "\n",
        "    def lemmatize_text(self, text):\n",
        "        \"\"\"Apply lemmatization with POS tagging\"\"\"\n",
        "        tokens = word_tokenize(text)\n",
        "\n",
        "        lemmatized_tokens = []\n",
        "        for token in tokens:\n",
        "            if token not in self.stop_words and len(token) > 2:\n",
        "                # Get POS tag and lemmatize\n",
        "                pos_tag = self.get_wordnet_pos(token)\n",
        "                lemmatized_token = self.lemmatizer.lemmatize(token, pos_tag)\n",
        "                lemmatized_tokens.append(lemmatized_token)\n",
        "\n",
        "        return ' '.join(lemmatized_tokens)\n",
        "\n",
        "    def preprocess(self, text):\n",
        "        \"\"\"Complete preprocessing pipeline\"\"\"\n",
        "        cleaned_text = self.clean_text(text)\n",
        "        lemmatized_text = self.lemmatize_text(cleaned_text)\n",
        "        return lemmatized_text\n",
        "\n",
        "print(\"Text preprocessing class created!\")"
      ],
      "metadata": {
        "colab": {
          "base_uri": "https://localhost:8080/"
        },
        "id": "A2Ld2oo61cnx",
        "outputId": "5c1434c4-03d7-429a-91de-c3f3c41cd6de"
      },
      "execution_count": 6,
      "outputs": [
        {
          "output_type": "stream",
          "name": "stdout",
          "text": [
            "Text preprocessing class created!\n"
          ]
        }
      ]
    },
    {
      "cell_type": "code",
      "source": [
        "# Apply Text Preprocessing to the \"text\" column\n",
        "\n",
        "# Initialize the preprocessor\n",
        "preprocessor = TextPreprocessor()\n",
        "\n",
        "print(\"Applying advanced text preprocessing with lemmatization...\")\n",
        "\n",
        "# Apply preprocessing to training data\n",
        "df_train['clean_essay'] = df_train['essay'].apply(preprocessor.preprocess)\n",
        "\n",
        "# Apply preprocessing to test data\n",
        "df_test['clean_essay'] = df_test['essay'].apply(preprocessor.preprocess)\n",
        "\n",
        "print(\"Text preprocessing completed!\")"
      ],
      "metadata": {
        "colab": {
          "base_uri": "https://localhost:8080/"
        },
        "id": "6jCkAVuw2qz2",
        "outputId": "9bc7ee8c-4dc0-46a6-9569-64240f9ce151"
      },
      "execution_count": 7,
      "outputs": [
        {
          "output_type": "stream",
          "name": "stdout",
          "text": [
            "Applying advanced text preprocessing with lemmatization...\n",
            "Text preprocessing completed!\n"
          ]
        }
      ]
    },
    {
      "cell_type": "code",
      "source": [
        "# Show examples of preprocessing\n",
        "print(\"\\nExamples of text preprocessing:\")\n",
        "print(\"Original:\", df_train['essay'].iloc[0])\n",
        "print(\"Processed:\", df_train['clean_essay'].iloc[0])\n",
        "print()\n",
        "print(\"Original:\", df_train['essay'].iloc[5])\n",
        "print(\"Processed:\", df_train['clean_essay'].iloc[5])"
      ],
      "metadata": {
        "colab": {
          "base_uri": "https://localhost:8080/"
        },
        "id": "Ablk21jq3wA2",
        "outputId": "1e77b3ff-b7af-496f-a805-f859054a4093"
      },
      "execution_count": 8,
      "outputs": [
        {
          "output_type": "stream",
          "name": "stdout",
          "text": [
            "\n",
            "Examples of text preprocessing:\n",
            "Original: International sports events require the most well-trained athletes for each country, in order to achieve this goal countries make an effort to build infrastructure designed to train top athletes. Although this policy can indeed make fewer sports facilities for ordinary people, investing in the best athletes is vital to develop competitive sports performances in each country.\n",
            "On the one hand, building specific infrastructure for the best athletes is crucial in order to get better results at international sports events such as The Olympics or the World Cup. The importance of getting better results is that it creates awareness of the importance of sports in society and motivates more people to do a sport. In this way, investing in these developments can help countries to develop an integral sport policy that can benefit everyone.\n",
            "On the other hand, one can argue that a negative effect could be that less infrastructure is built for the rest of the people. However, people who practice a sport in their daily life do not necessarily need some facilities to do sports. For example, people often use public spaces to do sports such as running or doing yoga at the nearest park to their home. So, for people who is not top athletes there could be some alternatives for sports facility that ,is not the case for training top athletes.\n",
            "To sum up, I strongly believe countries should invest in specialised infrastructure for their best athletes because in the long term is going to generate more motivation to do sports, to invest in sports at schools and therefore to build more sports infrastructure for everyone.\n",
            "Processed: international sport event require welltrained athlete country order achieve goal country make effort build infrastructure design train top athlete although policy indeed make few sport facility ordinary people invest best athlete vital develop competitive sport performance country one hand building specific infrastructure best athlete crucial order get well result international sport event olympics world cup importance get well result creates awareness importance sport society motivates people sport way invest development help country develop integral sport policy benefit everyone hand one argue negative effect could less infrastructure built rest people however people practice sport daily life necessarily need facility sport example people often use public space sport run yoga near park home people top athlete could alternative sport facility case training top athlete sum strongly believe country invest specialise infrastructure best athlete long term go generate motivation sport invest sport school therefore build sport infrastructure everyone\n",
            "\n",
            "Original: These days the space exploration is not just an imagination since human beings landed and step their foot on the moon decades ago. In addition, the fast technology evolution in the present came from the concerns of many scientists around the world. Some people believe that focusing on the space evolution matter. While others argue that they should invest inside the country. In my opinion, the exploration of our planet could enhance people's lives in many different ways. However, the human organization should do the best in other more useful sectors to improve human needs.\n",
            "On one hand, the space exploration has always been a fascinating topic over recent years. Scientists researching to find out and trying to know what is hiding out of the black hole and another universal plant if it is livable or has any natural resources. For example, in 1991 research proved that to travel from the earth to the nearest planet it could take approximately 3 to 4 months continually. In other words, exploration of a planet is costly as well as takes much time to reach it.\n",
            "On the other hand, the benefit of universe exploration may change our earth's environment and improve our lives for the next coming generation in technology. For instance, people after the year 2000 had better communication with each other which was not even possible at any time ever. Moreover, the government invests to develop space exploration companies.\n",
            "In conclusion, after carefully explaining my points of view I strongly believe that space companies such as SpaceX must try to find a new resources to visit other planets. However, I agree that they should be done after providing the basic needs of the human on earth and investing to solve poverty and any other human tragedies.\n",
            "Processed: day space exploration imagination since human being land step foot moon decade ago addition fast technology evolution present come concern many scientist around world people believe focus space evolution matter others argue invest inside country opinion exploration planet could enhance people life many different way however human organization best useful sector improve human need one hand space exploration always fascinate topic recent year scientist research find try know hiding black hole another universal plant livable natural resource example research prove travel earth near planet could take approximately month continually word exploration planet costly well take much time reach hand benefit universe exploration may change earth environment improve life next come generation technology instance people year well communication even possible time ever moreover government invests develop space exploration company conclusion carefully explain point view strongly believe space company spacex must try find new resource visit planet however agree do provide basic need human earth invest solve poverty human tragedy\n"
          ]
        }
      ]
    },
    {
      "cell_type": "code",
      "source": [
        "# Show vocab before text cleaning\n",
        "train_vocab = set(\" \".join(df_train['essay']).split())\n",
        "test_vocab = set(\" \".join(df_test['essay']).split())\n",
        "\n",
        "print(\"=== Vocabulary statistics before text cleaning ===\")\n",
        "print(f\"Train unique words : {len(train_vocab):,}\")\n",
        "print(f\"Test  unique words : {len(test_vocab):,}\")"
      ],
      "metadata": {
        "colab": {
          "base_uri": "https://localhost:8080/"
        },
        "id": "SVXS7Mm94Tzc",
        "outputId": "e8fb2167-16c5-4b19-d1ed-1530d3d51299"
      },
      "execution_count": 9,
      "outputs": [
        {
          "output_type": "stream",
          "name": "stdout",
          "text": [
            "=== Vocabulary statistics before text cleaning ===\n",
            "Train unique words : 42,702\n",
            "Test  unique words : 16,261\n"
          ]
        }
      ]
    },
    {
      "cell_type": "code",
      "source": [
        "# Show vocab after text cleaning\n",
        "train_vocab = set(\" \".join(df_train['clean_essay']).split())\n",
        "test_vocab = set(\" \".join(df_test['clean_essay']).split())\n",
        "\n",
        "print(\"=== Vocabulary statistics before text cleaning ===\")\n",
        "print(f\"Train unique words : {len(train_vocab):,}\")\n",
        "print(f\"Test  unique words : {len(test_vocab):,}\")"
      ],
      "metadata": {
        "colab": {
          "base_uri": "https://localhost:8080/"
        },
        "id": "jCeTWHtj37Yw",
        "outputId": "bd7b2688-3874-46ab-dbbe-f14233a3a7e8"
      },
      "execution_count": 10,
      "outputs": [
        {
          "output_type": "stream",
          "name": "stdout",
          "text": [
            "=== Vocabulary statistics before text cleaning ===\n",
            "Train unique words : 21,269\n",
            "Test  unique words : 8,829\n"
          ]
        }
      ]
    },
    {
      "cell_type": "code",
      "source": [
        "#Distribution of character length and token length in the training data\n",
        "\n",
        "df_train['char_length'] = df_train['clean_essay'].apply(lambda x : len(x))\n",
        "df_train['token_length'] = df_train['clean_essay'].apply(lambda x : len(x.split(\" \")))\n",
        "\n",
        "fig, (ax1, ax2)  = plt.subplots(nrows=1, ncols=2, figsize=(12,6))\n",
        "sns.distplot(df_train['char_length'], ax=ax1)\n",
        "sns.distplot(df_train['token_length'], ax=ax2)\n",
        "ax1.set_title('Number of characters in essays')\n",
        "ax2.set_title('Number of token(words) in essays')\n",
        "plt.show()"
      ],
      "metadata": {
        "colab": {
          "base_uri": "https://localhost:8080/",
          "height": 564
        },
        "id": "2Fh9sI1h_VLP",
        "outputId": "62035124-1c01-4ab0-eaf2-841fe43dd754"
      },
      "execution_count": 11,
      "outputs": [
        {
          "output_type": "display_data",
          "data": {
            "text/plain": [
              "<Figure size 1200x600 with 2 Axes>"
            ],
            "image/png": "[encoded data removed]"
          },
          "metadata": {}
        }
      ]
    },
    {
      "cell_type": "code",
      "source": [
        "# Define features and target\n",
        "X = df_train['clean_essay']  # All text data\n",
        "y = df_train['label']       # All labels\n",
        "\n",
        "print(f\"Total input text samples: {len(X)}\")\n",
        "print(f\"Total labels: {len(y)}\")\n",
        "\n",
        "# Count labels\n",
        "label_counts = np.bincount(y)\n",
        "print(f\"Label distribution: {label_counts}\")\n",
        "print(f\"Number of 0s (class 0): {label_counts[0]:,}\")\n",
        "print(f\"Number of 1s (class 1): {label_counts[1]:,}\")\n",
        "\n",
        "# Calculate percentages\n",
        "total_samples = len(y)\n",
        "percentage_0 = (label_counts[0] / total_samples) * 100\n",
        "percentage_1 = (label_counts[1] / total_samples) * 100\n",
        "\n",
        "print(f\"Percentage of 0s: {percentage_0:.1f}%\")\n",
        "print(f\"Percentage of 1s: {percentage_1:.1f}%\")\n",
        "\n",
        "print(f\"\\nFirst sample: {X.iloc[0][:100]}...\")"
      ],
      "metadata": {
        "colab": {
          "base_uri": "https://localhost:8080/"
        },
        "id": "oFrSZKsS397z",
        "outputId": "dd3a4f0f-79ee-4f8d-c4b7-81511ef7ac5b"
      },
      "execution_count": 12,
      "outputs": [
        {
          "output_type": "stream",
          "name": "stdout",
          "text": [
            "Total input text samples: 3728\n",
            "Total labels: 3728\n",
            "Label distribution: [1864 1864]\n",
            "Number of 0s (class 0): 1,864\n",
            "Number of 1s (class 1): 1,864\n",
            "Percentage of 0s: 50.0%\n",
            "Percentage of 1s: 50.0%\n",
            "\n",
            "First sample: international sport event require welltrained athlete country order achieve goal country make effort...\n"
          ]
        }
      ]
    },
    {
      "cell_type": "markdown",
      "source": [
        "# **3. Create Training and Validation Data**"
      ],
      "metadata": {
        "id": "8zORj3cl5fyD"
      }
    },
    {
      "cell_type": "code",
      "source": [
        "print(\"Applying train-test split on pre-processed text data...\")\n",
        "\n",
        "X_train, X_val, y_train, y_val = train_test_split(\n",
        "    X,                    # preprocessed text data\n",
        "    y,                    # Labels\n",
        "    test_size=0.2,        # 20% for validation\n",
        "    random_state=42,      # For reproducibility\n",
        "    stratify=y            # Maintain label distribution\n",
        ")\n",
        "\n",
        "print(f\"Train-test split completed:\")\n",
        "print(f\"Training samples: {len(X_train):,}\")\n",
        "print(f\"Validation samples: {len(X_val):,}\")"
      ],
      "metadata": {
        "colab": {
          "base_uri": "https://localhost:8080/"
        },
        "id": "0hDAJ9Kn47qd",
        "outputId": "9596fcf7-0faf-4586-c233-64abe331aad1"
      },
      "execution_count": 13,
      "outputs": [
        {
          "output_type": "stream",
          "name": "stdout",
          "text": [
            "Applying train-test split on pre-processed text data...\n",
            "Train-test split completed:\n",
            "Training samples: 2,982\n",
            "Validation samples: 746\n"
          ]
        }
      ]
    },
    {
      "cell_type": "code",
      "source": [
        "# Set random seed for reproducible results\n",
        "np.random.seed(7)\n",
        "\n",
        "#Tokenization (Fit ONLY on training data)\n",
        "print(\"\\n\" + \"=\"*60)\n",
        "print(\"TOKENIZATION\")\n",
        "print(\"=\"*60)\n",
        "\n",
        "print(\"Fitting tokenizer on training data only...\")\n",
        "\n",
        "# Initialize tokenizer\n",
        "tokenizer = Tokenizer(filters='!\"#$%&()*+,-./:;<=>?@[\\\\]^_`{|}~\\t\\n')\n",
        "\n",
        "# Fit tokenizer ONLY on training data\n",
        "tokenizer.fit_on_texts(X_train)\n",
        "\n",
        "print(f\"\\nTokenizer vocabulary size: {len(tokenizer.word_index):,}\")\n",
        "\n",
        "# Get word index (word to integer mapping)\n",
        "word_index = tokenizer.word_index\n",
        "\n",
        "print(f\"Found {len(word_index)} unique tokens\")\n",
        "\n",
        "# Show most common words\n",
        "print(f\"\\nMost frequent words:\")\n",
        "for i, (word, index) in enumerate(list(word_index.items())[:10]):\n",
        "    print(f\"  {i+1}. '{word}': index {index}\")"
      ],
      "metadata": {
        "colab": {
          "base_uri": "https://localhost:8080/"
        },
        "id": "PMoJb3-65oYA",
        "outputId": "2d7130fc-1c9e-407a-bc16-7e702a1c14df"
      },
      "execution_count": 14,
      "outputs": [
        {
          "output_type": "stream",
          "name": "stdout",
          "text": [
            "\n",
            "============================================================\n",
            "TOKENIZATION\n",
            "============================================================\n",
            "Fitting tokenizer on training data only...\n",
            "\n",
            "Tokenizer vocabulary size: 18,742\n",
            "Found 18742 unique tokens\n",
            "\n",
            "Most frequent words:\n",
            "  1. 'people': index 1\n",
            "  2. 'new': index 2\n",
            "  3. 'risk': index 3\n",
            "  4. 'take': index 4\n",
            "  5. 'thing': index 5\n",
            "  6. 'try': index 6\n",
            "  7. 'successful': index 7\n",
            "  8. 'life': index 8\n",
            "  9. 'success': index 9\n",
            "  10. 'well': index 10\n"
          ]
        }
      ]
    },
    {
      "cell_type": "code",
      "source": [
        "# Convert texts to sequences\n",
        "print(\"Converting texts to sequences...\")\n",
        "X_train_seq = tokenizer.texts_to_sequences(X_train)\n",
        "X_val_seq = tokenizer.texts_to_sequences(X_val)\n",
        "\n",
        "print(\"Text to sequence conversion completed.\")"
      ],
      "metadata": {
        "colab": {
          "base_uri": "https://localhost:8080/"
        },
        "id": "cp2RWE2m6A0p",
        "outputId": "ab5a732e-406d-4960-9a69-130101ee9717"
      },
      "execution_count": 15,
      "outputs": [
        {
          "output_type": "stream",
          "name": "stdout",
          "text": [
            "Converting texts to sequences...\n",
            "Text to sequence conversion completed.\n"
          ]
        }
      ]
    },
    {
      "cell_type": "code",
      "source": [
        "# Check sequence lengths before padding\n",
        "lengths = [len(seq) for seq in X_train_seq]\n",
        "print(f\"Average length: {np.mean(lengths):.1f}\")\n",
        "print(f\"Max length: {max(lengths)}\")\n",
        "print(f\"95th percentile: {np.percentile(lengths, 95):.1f}\")"
      ],
      "metadata": {
        "colab": {
          "base_uri": "https://localhost:8080/"
        },
        "id": "PFthcQVh6Ht2",
        "outputId": "e2685eeb-3746-4d53-e04d-9eda47e71690"
      },
      "execution_count": 16,
      "outputs": [
        {
          "output_type": "stream",
          "name": "stdout",
          "text": [
            "Average length: 148.2\n",
            "Max length: 236\n",
            "95th percentile: 191.0\n"
          ]
        }
      ]
    },
    {
      "cell_type": "code",
      "source": [
        "print(\"To choose optimal sequence length, we need to analyze our text lengths.\")\n",
        "\n",
        "# Analyze sequence lengths in our dataset\n",
        "text_lengths = [len(text.split()) for text in df_train['clean_essay']]\n",
        "\n",
        "print(\"Our tweet text length statistics:\")\n",
        "print(f\"Mean length: {np.mean(text_lengths):.1f} words\")\n",
        "print(f\"Median length: {np.median(text_lengths):.1f} words\")\n",
        "print(f\"90th percentile: {np.percentile(text_lengths, 90):.0f} words\")\n",
        "print(f\"95th percentile: {np.percentile(text_lengths, 95):.0f} words\")\n",
        "print(f\"99th percentile: {np.percentile(text_lengths, 99):.0f} words\")\n",
        "\n",
        "coverage_200 = np.mean(np.array(text_lengths) <= 200) * 100\n",
        "coverage_215 = np.mean(np.array(text_lengths) <= 215) * 100\n",
        "coverage_220 = np.mean(np.array(text_lengths) <= 220) * 100\n",
        "\n",
        "# Check coverage with MAX_SEQUENCE_LENGTH\n",
        "print(f\"Coverage with length 200: {coverage_200:.1f}%\")\n",
        "print(f\"Coverage with length 215: {coverage_215:.1f}%\")\n",
        "print(f\"Coverage with length 220: {coverage_220:.1f}%\")\n",
        "\n",
        "print(\"\\nRECOMMENDATIONS:\")\n",
        "print(\"=\"*50)\n",
        "\n",
        "# Based on our actual data statistics\n",
        "max_length = int(np.max(text_lengths))\n",
        "mean_length = np.mean(text_lengths)\n",
        "percentile_95 = np.percentile(text_lengths, 95)\n",
        "percentile_99 = np.percentile(text_lengths, 99)\n",
        "\n",
        "if percentile_99 <= 200:\n",
        "    recommended = 215\n",
        "    print(f\"RECOMMENDED: MAX_SEQUENCE_LENGTH = {recommended}\")\n",
        "    print(\"   Effect: Perfect for our tweet data, excellent coverage with minimal padding\")\n",
        "elif percentile_99 <= 215:\n",
        "    recommended = 220\n",
        "    print(f\"RECOMMENDED: MAX_SEQUENCE_LENGTH = {recommended}\")\n",
        "    print(\"   Effect: Optimal for our data, covers all tweets with small buffer\")\n",
        "elif percentile_99 <= 220:\n",
        "    recommended = 230\n",
        "    print(f\"RECOMMENDED: MAX_SEQUENCE_LENGTH = {recommended}\")\n",
        "    print(\"   Effect: Safe choice, covers all tweets with reasonable buffer\")\n",
        "else:\n",
        "    recommended = int(percentile_99) + 5\n",
        "    print(f\"RECOMMENDED: MAX_SEQUENCE_LENGTH = {recommended}\")\n",
        "    print(\"Effect: Covers 99% of tweets with small buffer\")\n",
        "\n",
        "print(f\"\\nAlternative options:\")\n",
        "if coverage_200 >= 95:\n",
        "    print(f\"• Length 200: Covers {coverage_200:.1f}% - Very fast training\")\n",
        "if coverage_215 >= 99:\n",
        "    print(f\"• Length 215: Covers {coverage_215:.1f}% - Excellent balance\")\n",
        "if coverage_220 == 100:\n",
        "    print(f\"• Length 220: Covers {coverage_220:.1f}% - Conservative choice\")"
      ],
      "metadata": {
        "colab": {
          "base_uri": "https://localhost:8080/"
        },
        "id": "H_XyEeWJ_pu_",
        "outputId": "4ec16076-43e3-4d56-a77a-73a6157a77f7"
      },
      "execution_count": 17,
      "outputs": [
        {
          "output_type": "stream",
          "name": "stdout",
          "text": [
            "To choose optimal sequence length, we need to analyze our text lengths.\n",
            "Our tweet text length statistics:\n",
            "Mean length: 147.8 words\n",
            "Median length: 148.0 words\n",
            "90th percentile: 181 words\n",
            "95th percentile: 191 words\n",
            "99th percentile: 207 words\n",
            "Coverage with length 200: 98.0%\n",
            "Coverage with length 215: 99.8%\n",
            "Coverage with length 220: 99.9%\n",
            "\n",
            "RECOMMENDATIONS:\n",
            "==================================================\n",
            "RECOMMENDED: MAX_SEQUENCE_LENGTH = 220\n",
            "   Effect: Optimal for our data, covers all tweets with small buffer\n",
            "\n",
            "Alternative options:\n",
            "• Length 200: Covers 98.0% - Very fast training\n",
            "• Length 215: Covers 99.8% - Excellent balance\n"
          ]
        }
      ]
    },
    {
      "cell_type": "code",
      "source": [
        "#Padding\n",
        "print(\"\\n\" + \"=\"*60)\n",
        "print(\"PADDING SEQUENCES\")\n",
        "print(\"=\"*60)\n",
        "\n",
        "print(\"Applying padding to sequences...\")\n",
        "\n",
        "# Pad sequences, we set 220 the Maximum length for each sequence\n",
        "X_train_padded = pad_sequences(X_train_seq, maxlen=220, padding=\"post\")  # padding = \"post\" adds zeros at the end\n",
        "X_val_padded = pad_sequences(X_val_seq, maxlen=220, padding='post')\n",
        "\n",
        "print(f\"Padding completed:\")\n",
        "print(f\"Training data shape: {X_train_padded.shape}\")\n",
        "print(f\"Validation data shape: {X_val_padded.shape}\")"
      ],
      "metadata": {
        "colab": {
          "base_uri": "https://localhost:8080/"
        },
        "id": "tW4t70-L6Kfj",
        "outputId": "dca18e5a-1109-406e-82d4-c43459b84682"
      },
      "execution_count": 18,
      "outputs": [
        {
          "output_type": "stream",
          "name": "stdout",
          "text": [
            "\n",
            "============================================================\n",
            "PADDING SEQUENCES\n",
            "============================================================\n",
            "Applying padding to sequences...\n",
            "Padding completed:\n",
            "Training data shape: (2982, 220)\n",
            "Validation data shape: (746, 220)\n"
          ]
        }
      ]
    },
    {
      "cell_type": "code",
      "source": [
        "print(f\"added sequence (first 3 sentences): {X_train_padded[1:4][:220]}\")"
      ],
      "metadata": {
        "colab": {
          "base_uri": "https://localhost:8080/"
        },
        "id": "UqDgV-zm6oRg",
        "outputId": "2c1f9fec-1508-4bde-aa33-20241c58e1b1"
      },
      "execution_count": 19,
      "outputs": [
        {
          "output_type": "stream",
          "name": "stdout",
          "text": [
            "added sequence (first 3 sentences): [[ 307   56    8    1  217  600 1370   32 3220   21   37    4    3 6018\n",
            "   322   48   15 2096  466  133 8280  121   11   35   49 1109  112   73\n",
            "    56    8  413    1  117   84   58   15   85  307  176   56  659  193\n",
            "    11   32   12  524  699   37    4    3    6   75    2    5  652   54\n",
            "   242  695  532  362   60   15   61 1434  814   54 1434  982   37  143\n",
            "  1434   95 8281   95   26   99  114   70  254    4    3   61  430  104\n",
            "   474  814   54 1110  991   39    5   12  474  814 1006    4    3  413\n",
            "   794   54   46 1993   66   62   32  545    2    8   37  413  269    4\n",
            "     3   60   85  192   56    8 8282   23 3220    0    0    0    0    0\n",
            "     0    0    0    0    0    0    0    0    0    0    0    0    0    0\n",
            "     0    0    0    0    0    0    0    0    0    0    0    0    0    0\n",
            "     0    0    0    0    0    0    0    0    0    0    0    0    0    0\n",
            "     0    0    0    0    0    0    0    0    0    0    0    0    0    0\n",
            "     0    0    0    0    0    0    0    0    0    0    0    0    0    0\n",
            "     0    0    0    0    0    0    0    0    0    0    0    0    0    0\n",
            "     0    0    0    0    0    0    0    0    0    0]\n",
            " [  19    4    3  120  292    8  142 1007  214    8    3   51    1  247\n",
            "    84   10  854   84  172    1  100  854   31   32  781    9    1  210\n",
            "    97    5   18   45   19   23    1  607  472  416  121   55    6   75\n",
            "    31   10   15  704  271 1265  644  247  232   58  125  123 1073 2467\n",
            "   737  271  228   78 2097 1627   56  247   58   44   58    5   32  128\n",
            "  1872 1250 2098  737   13    1    4    3  427 2098  128 4452 2098  682\n",
            "  8283  653   50    3   11 2563  196 2563   17   54 1073  193  139   20\n",
            "  4045  130   54   30 1207  142   24  117   84   33   17   24   94   16\n",
            "   512   54  166  114  142  139 6019  171  777  579   58  707  724    1\n",
            "  1157 4046  409  192   54   12 8284  125  874   16 4453  963  207 1537\n",
            "    61  535  371 2650  121    1  233  256 2650   17    1   26  487  313\n",
            "  8285 8286    0    0    0    0    0    0    0    0    0    0    0    0\n",
            "     0    0    0    0    0    0    0    0    0    0    0    0    0    0\n",
            "     0    0    0    0    0    0    0    0    0    0    0    0    0    0\n",
            "     0    0    0    0    0    0    0    0    0    0    0    0    0    0\n",
            "     0    0    0    0    0    0    0    0    0    0]\n",
            " [ 542    1    6    2    5    4    3   55   18   11   10   43  383  221\n",
            "    48   57    7    1  708  322  215    7  421    6    2    5   52  243\n",
            "     8   15   14    7    1  428    1   35   14   13   61 8287   90  216\n",
            "     7    1   38 3700   14   25    4    3    4  130    3   41  130  690\n",
            "    19   14    4    3  215   41    9   94    3    3   94  713   19   14\n",
            "  1538   18   11   10   17 1175    1  496   13    5  141  235   70  243\n",
            "  8288   83    7    1    6    2    5    4    3   55   18   11   10   48\n",
            "    14    5    6   24   25    4    3   41    9    0    0    0    0    0\n",
            "     0    0    0    0    0    0    0    0    0    0    0    0    0    0\n",
            "     0    0    0    0    0    0    0    0    0    0    0    0    0    0\n",
            "     0    0    0    0    0    0    0    0    0    0    0    0    0    0\n",
            "     0    0    0    0    0    0    0    0    0    0    0    0    0    0\n",
            "     0    0    0    0    0    0    0    0    0    0    0    0    0    0\n",
            "     0    0    0    0    0    0    0    0    0    0    0    0    0    0\n",
            "     0    0    0    0    0    0    0    0    0    0    0    0    0    0\n",
            "     0    0    0    0    0    0    0    0    0    0]]\n"
          ]
        }
      ]
    },
    {
      "cell_type": "markdown",
      "source": [
        "### Creating Tensors\n",
        "\n",
        "Both `x_train_padded` and `X_val` are still sparse matrices. To be used by PyTorch, we need to do 2 more steps.\n",
        "\n",
        "* Convert the sparse represention to dense representation.\n",
        "\n",
        "* Convert arrays to Tensors, which is essentially PyTorch's version of arrays."
      ],
      "metadata": {
        "id": "IyKUgnrm7HEs"
      }
    },
    {
      "cell_type": "code",
      "source": [
        "print(\"Converting numpy arrays to PyTorch tensors...\")\n",
        "\n",
        "# Convert input data to LongTensor for embedding lookup\n",
        "X_train_tensor = torch.LongTensor(X_train_padded)\n",
        "X_val_tensor = torch.LongTensor(X_val_padded)\n",
        "\n",
        "# Convert pandas Series to numpy arrays first, then to tensors\n",
        "y_train_tensor = torch.LongTensor(y_train.values)  # # .values converts Series to numpy\n",
        "y_val_tensor = torch.LongTensor(y_val.values)\n",
        "\n",
        "print(f\"Data conversion completed!\")\n",
        "print(f\"X_train shape: {X_train_tensor.shape}\")\n",
        "print(f\"X_val shape: {X_val_tensor.shape}\")\n",
        "print(f\"y_train shape: {y_train_tensor.shape}\")\n",
        "print(f\"y_val shape: {y_val_tensor.shape}\")"
      ],
      "metadata": {
        "colab": {
          "base_uri": "https://localhost:8080/"
        },
        "id": "bmR0pOux63a5",
        "outputId": "abb433c7-a73f-4c80-d637-82dca991a3a4"
      },
      "execution_count": 20,
      "outputs": [
        {
          "output_type": "stream",
          "name": "stdout",
          "text": [
            "Converting numpy arrays to PyTorch tensors...\n",
            "Data conversion completed!\n",
            "X_train shape: torch.Size([2982, 220])\n",
            "X_val shape: torch.Size([746, 220])\n",
            "y_train shape: torch.Size([2982])\n",
            "y_val shape: torch.Size([746])\n"
          ]
        }
      ]
    },
    {
      "cell_type": "markdown",
      "source": [
        "### Creating Data Loaders\n",
        "\n",
        "The [`DataLoader`](https://pytorch.org/docs/stable/data.html#torch.utils.data.DataLoader) class takes a `Dataset` object as input to handle to split the dataset into batches. As such, a data loader also has `batch_size` as an input parameter. In the following, we will use a batch size of 64."
      ],
      "metadata": {
        "id": "HwaxzKbhAotg"
      }
    },
    {
      "cell_type": "code",
      "source": [
        "# Create Data Loaders\n",
        "print(\"Create Data Loaders\")\n",
        "\n",
        "batch_size = 64\n",
        "\n",
        "# Create datasets\n",
        "train_dataset = TensorDataset(X_train_tensor, y_train_tensor)\n",
        "val_dataset = TensorDataset(X_val_tensor, y_val_tensor)\n",
        "\n",
        "# Create data loaders\n",
        "train_loader = DataLoader(train_dataset, batch_size=batch_size, shuffle=True)\n",
        "x_val_loader = DataLoader(val_dataset, batch_size=batch_size, shuffle=False)\n",
        "\n",
        "print(f\"Data loaders created!\")\n",
        "print(f\"Batch size: {batch_size}\")\n",
        "print(f\"Training batches: {len(train_loader)}\")\n",
        "print(f\"Validation batches: {len(x_val_loader)}\")"
      ],
      "metadata": {
        "colab": {
          "base_uri": "https://localhost:8080/"
        },
        "id": "5bjTTvAYAFKU",
        "outputId": "7ab0bf25-97d1-4c02-e7df-1a8d7a632e3f"
      },
      "execution_count": 21,
      "outputs": [
        {
          "output_type": "stream",
          "name": "stdout",
          "text": [
            "Create Data Loaders\n",
            "Data loaders created!\n",
            "Batch size: 64\n",
            "Training batches: 47\n",
            "Validation batches: 12\n"
          ]
        }
      ]
    },
    {
      "cell_type": "code",
      "source": [
        "for X_batch, y_batch in train_loader:\n",
        "    print(\"Shape of the input:  \", X_batch.shape)\n",
        "    print(\"shape of the output: \", y_batch.shape)\n",
        "    break"
      ],
      "metadata": {
        "colab": {
          "base_uri": "https://localhost:8080/"
        },
        "id": "wK8mWDWcBmBu",
        "outputId": "2ec72588-50f7-4bb4-d897-29fd00cc934a"
      },
      "execution_count": 22,
      "outputs": [
        {
          "output_type": "stream",
          "name": "stdout",
          "text": [
            "Shape of the input:   torch.Size([64, 220])\n",
            "shape of the output:  torch.Size([64])\n"
          ]
        }
      ]
    },
    {
      "cell_type": "markdown",
      "source": [
        "# **4. Representing Text as Numerical Data with Word Embeddings**\n",
        "\n",
        "Before we train our machine learning models, a crucial step is to convert our raw text data into numerical vectors. We will utilize different techniques for this text vectorization process, including:\n",
        "\n",
        "*   **Word2Vec Embedding**\n",
        "*   **GloVe Embedding**\n",
        "*   **FastText Embedding**"
      ],
      "metadata": {
        "id": "W3fZgzZqCIt7"
      }
    },
    {
      "cell_type": "markdown",
      "source": [
        "### Word2Vec Embedding"
      ],
      "metadata": {
        "id": "PnoSSuVuDLrr"
      }
    },
    {
      "cell_type": "code",
      "source": [
        "# Prepare data for Gensim Word2Vec\n",
        "# Gensim's Word2Vec expects a list of lists of strings (words)\n",
        "\n",
        "print(\"Preparing tokenized sentences for Gensim Word2Vec...\")\n",
        "\n",
        "# Convert the X_train series to a list of tokenized sentences\n",
        "# Split each cleaned essay string into a list of words\n",
        "tokenized_sentences_train = [essay.split() for essay in X_train]\n",
        "vocab_size = len(tokenizer.word_index) + 1\n",
        "\n",
        "print(f\"Vocabulary size: {vocab_size}\")\n",
        "\n",
        "print(f\"Prepared {len(tokenized_sentences_train):,} tokenized sentences from X_train.\")\n",
        "print(\"First tokenized sentence:\", tokenized_sentences_train[0][:20]) # Print first 20 words of first sentence\n",
        "\n",
        "# Now, train the Word2Vec model using the tokenized sentences\n",
        "print(\"\\nTraining Gensim Word2Vec model...\")\n",
        "word2vec_model = gensim.models.Word2Vec(\n",
        "    sentences=tokenized_sentences_train,\n",
        "    min_count=1,\n",
        "    window=5,\n",
        "    sg=0 # sg=0 for CBOW, sg=1 for Skip-gram\n",
        ")\n",
        "\n",
        "embedding_dict = dict({})\n",
        "for idx, key in enumerate(word2vec_model.wv.key_to_index.keys()):\n",
        "    embedding_dict[key] = word2vec_model.wv[key]\n",
        "\n",
        "print(\"Word2Vec model training completed.\")"
      ],
      "metadata": {
        "colab": {
          "base_uri": "https://localhost:8080/"
        },
        "id": "z0VnfnoSP6ck",
        "outputId": "63dcaf54-c335-4f89-92eb-93b375ddedd5"
      },
      "execution_count": 141,
      "outputs": [
        {
          "output_type": "stream",
          "name": "stdout",
          "text": [
            "Preparing tokenized sentences for Gensim Word2Vec...\n",
            "Vocabulary size: 18743\n",
            "Prepared 2,982 tokenized sentences from X_train.\n",
            "First tokenized sentence: ['manner', 'workplace', 'always', 'topic', 'discuss', 'many', 'people', 'essential', 'know', 'behave', 'formal', 'environment', 'company', 'give', 'opinion', 'worker', 'smart', 'look', 'others', 'consider']\n",
            "\n",
            "Training Gensim Word2Vec model...\n",
            "Word2Vec model training completed.\n"
          ]
        }
      ]
    },
    {
      "cell_type": "code",
      "source": [
        "# summarize vocabulary size in model\n",
        "words = list(word2vec_model.wv.key_to_index.keys())\n",
        "print('Vocabulary size: %d' % len(words))"
      ],
      "metadata": {
        "colab": {
          "base_uri": "https://localhost:8080/"
        },
        "id": "bRxoqZh2ZeVW",
        "outputId": "54d0bd0f-d7fd-4d59-a8fb-9c6782fecbcf"
      },
      "execution_count": 142,
      "outputs": [
        {
          "output_type": "stream",
          "name": "stdout",
          "text": [
            "Vocabulary size: 18742\n"
          ]
        }
      ]
    },
    {
      "cell_type": "markdown",
      "source": [
        "#### Create Embedding Matrix"
      ],
      "metadata": {
        "id": "yKpn6W54aLR3"
      }
    },
    {
      "cell_type": "code",
      "source": [
        "# Create Embedding Matrix\n",
        "print(\"Converting embedding dictionary to embedding matrix...\")\n",
        "\n",
        "# Create embedding matrix\n",
        "emb_matrix = np.zeros((vocab_size, 100))\n",
        "\n",
        "words_found = 0\n",
        "uncovered_words = []\n",
        "\n",
        "for word, i in tokenizer.word_index.items():\n",
        "    emb_word = embedding_dict.get(word)\n",
        "    if emb_word is not None:\n",
        "        emb_matrix[i] = emb_word\n",
        "        words_found += 1\n",
        "    else:\n",
        "        uncovered_words.append(word)\n",
        "\n",
        "coverage_percentage = (words_found / len(tokenizer.word_index)) * 100\n",
        "\n",
        "print(f\"Embedding matrix created:\")\n",
        "print(f\"Matrix shape: {emb_matrix.shape}\")\n",
        "print(f\"Words found in Word2Vec: {words_found:,} / {len(tokenizer.word_index):,}\")\n",
        "print(f\"Coverage: {coverage_percentage:.2f}%\")\n",
        "\n",
        "# Show uncovered words\n",
        "if uncovered_words:\n",
        "    print(f\"Sample uncovered words: {uncovered_words[:10]}\")"
      ],
      "metadata": {
        "colab": {
          "base_uri": "https://localhost:8080/"
        },
        "id": "2QDHnlujaOlc",
        "outputId": "8d0d4ff2-26a4-4c61-8d62-c6c1abc1dc1e"
      },
      "execution_count": 145,
      "outputs": [
        {
          "output_type": "stream",
          "name": "stdout",
          "text": [
            "Converting embedding dictionary to embedding matrix...\n",
            "Embedding matrix created:\n",
            "Matrix shape: (18743, 100)\n",
            "Words found in Word2Vec: 18,742 / 18,742\n",
            "Coverage: 100.00%\n"
          ]
        }
      ]
    },
    {
      "cell_type": "markdown",
      "source": [
        "#### Create Embedding Layer"
      ],
      "metadata": {
        "id": "Oe0NWnDGn0tT"
      }
    },
    {
      "cell_type": "code",
      "source": [
        "#Create Embedding Layer\n",
        "print(\"\\n\" + \"=\"*60)\n",
        "print(\"Create Embedding Layer\")\n",
        "print(\"=\"*60)\n",
        "\n",
        "# Create embedding layer\n",
        "w2v_embedding_layer = Embedding(\n",
        "    vocab_size, #padding token at index 0, + 1 ensure our embedding layer can handle all possible token indices without errors.\n",
        "    100,\n",
        "    embeddings_initializer=tf.keras.initializers.Constant(emb_matrix),\n",
        "    trainable=False  # Set to False if you want to freeze the embeddings\n",
        ")\n",
        "\n",
        "print(\"Embedding layer created successfully!\")"
      ],
      "metadata": {
        "colab": {
          "base_uri": "https://localhost:8080/"
        },
        "id": "KI-yN7MIaSiM",
        "outputId": "86e50a5a-b86e-481d-b372-9dc5b2fb4713"
      },
      "execution_count": 146,
      "outputs": [
        {
          "output_type": "stream",
          "name": "stdout",
          "text": [
            "\n",
            "============================================================\n",
            "Create Embedding Layer\n",
            "============================================================\n",
            "Embedding layer created successfully!\n"
          ]
        }
      ]
    },
    {
      "cell_type": "markdown",
      "source": [
        "### GloVe Embedding"
      ],
      "metadata": {
        "id": "CZo_2NcqDOfm"
      }
    },
    {
      "cell_type": "code",
      "source": [
        "# Download Embeddings from huggingface\n",
        "!wget https://huggingface.co/stanfordnlp/glove/resolve/main/glove.6B.zip\n",
        "!unzip glove.6B.zip"
      ],
      "metadata": {
        "colab": {
          "base_uri": "https://localhost:8080/"
        },
        "id": "PKAskhMlBtPi",
        "outputId": "4fa40288-bb70-4963-b3d8-52c7f285c5bc"
      },
      "execution_count": 29,
      "outputs": [
        {
          "output_type": "stream",
          "name": "stdout",
          "text": [
            "--2025-06-27 01:33:15--  https://huggingface.co/stanfordnlp/glove/resolve/main/glove.6B.zip\n",
            "Resolving huggingface.co (huggingface.co)... 3.166.152.110, 3.166.152.105, 3.166.152.65, ...\n",
            "Connecting to huggingface.co (huggingface.co)|3.166.152.110|:443... connected.\n",
            "HTTP request sent, awaiting response... 302 Found\n",
            "Location: https://cdn-lfs.hf.co/stanfordnlp/glove/6471382cdd837544bf3ac72497a38715e845897d265b2b424b4761832009c837?response-content-disposition=inline%3B+filename*%3DUTF-8%27%27glove.6B.zip%3B+filename%3D%22glove.6B.zip%22%3B&response-content-type=application%2Fzip&Expires=1750991595&Policy=eyJTdGF0ZW1lbnQiOlt7IkNvbmRpdGlvbiI6eyJEYXRlTGVzc1RoYW4iOnsiQVdTOkVwb2NoVGltZSI6MTc1MDk5MTU5NX19LCJSZXNvdXJjZSI6Imh0dHBzOi8vY2RuLWxmcy5oZi5jby9zdGFuZm9yZG5scC9nbG92ZS82NDcxMzgyY2RkODM3NTQ0YmYzYWM3MjQ5N2EzODcxNWU4NDU4OTdkMjY1YjJiNDI0YjQ3NjE4MzIwMDljODM3P3Jlc3BvbnNlLWNvbnRlbnQtZGlzcG9zaXRpb249KiZyZXNwb25zZS1jb250ZW50LXR5cGU9KiJ9XX0_&Signature=brlAtLfr2CAoiBW7p9vhGJRH9Ig0gId-APu8AFcsT2Xukg4RQxyICI%7EX5bQMdgp6N2RxIuo1ohrv7DI-QzPCDLNT2RnDEdsA6VbWMFAJsWVvO82bDqJs3f-hthwgswt04iLKTy1Jm--jvC9mPTBnOaOcDQz7HKPig4BuMPpZcnKURh4oqMEydR8LNY6kZgyAKzysKsLZ0lMlX2SZ5cNH3OcF6zxVPoUBridOP9U7Dlo7oEi6ZITE6cp5i%7EYemhcLDJHgeOk--uN%7Ew96MpeZk24-It6MpzebjREBg-E9VZEPjzRCDt0xGirZFZJ5y4drjepKGvOw%7EJWmgoU60WwMxeA__&Key-Pair-Id=K3RPWS32NSSJCE [following]\n",
            "--2025-06-27 01:33:15--  https://cdn-lfs.hf.co/stanfordnlp/glove/6471382cdd837544bf3ac72497a38715e845897d265b2b424b4761832009c837?response-content-disposition=inline%3B+filename*%3DUTF-8%27%27glove.6B.zip%3B+filename%3D%22glove.6B.zip%22%3B&response-content-type=application%2Fzip&Expires=1750991595&Policy=eyJTdGF0ZW1lbnQiOlt7IkNvbmRpdGlvbiI6eyJEYXRlTGVzc1RoYW4iOnsiQVdTOkVwb2NoVGltZSI6MTc1MDk5MTU5NX19LCJSZXNvdXJjZSI6Imh0dHBzOi8vY2RuLWxmcy5oZi5jby9zdGFuZm9yZG5scC9nbG92ZS82NDcxMzgyY2RkODM3NTQ0YmYzYWM3MjQ5N2EzODcxNWU4NDU4OTdkMjY1YjJiNDI0YjQ3NjE4MzIwMDljODM3P3Jlc3BvbnNlLWNvbnRlbnQtZGlzcG9zaXRpb249KiZyZXNwb25zZS1jb250ZW50LXR5cGU9KiJ9XX0_&Signature=brlAtLfr2CAoiBW7p9vhGJRH9Ig0gId-APu8AFcsT2Xukg4RQxyICI%7EX5bQMdgp6N2RxIuo1ohrv7DI-QzPCDLNT2RnDEdsA6VbWMFAJsWVvO82bDqJs3f-hthwgswt04iLKTy1Jm--jvC9mPTBnOaOcDQz7HKPig4BuMPpZcnKURh4oqMEydR8LNY6kZgyAKzysKsLZ0lMlX2SZ5cNH3OcF6zxVPoUBridOP9U7Dlo7oEi6ZITE6cp5i%7EYemhcLDJHgeOk--uN%7Ew96MpeZk24-It6MpzebjREBg-E9VZEPjzRCDt0xGirZFZJ5y4drjepKGvOw%7EJWmgoU60WwMxeA__&Key-Pair-Id=K3RPWS32NSSJCE\n",
            "Resolving cdn-lfs.hf.co (cdn-lfs.hf.co)... 13.226.52.68, 13.226.52.110, 13.226.52.121, ...\n",
            "Connecting to cdn-lfs.hf.co (cdn-lfs.hf.co)|13.226.52.68|:443... connected.\n",
            "HTTP request sent, awaiting response... 200 OK\n",
            "Length: 862182753 (822M) [application/zip]\n",
            "Saving to: ‘glove.6B.zip’\n",
            "\n",
            "glove.6B.zip        100%[===================>] 822.24M  45.5MB/s    in 18s     \n",
            "\n",
            "2025-06-27 01:33:33 (46.3 MB/s) - ‘glove.6B.zip’ saved [862182753/862182753]\n",
            "\n",
            "Archive:  glove.6B.zip\n",
            "  inflating: glove.6B.100d.txt       \n",
            "  inflating: glove.6B.200d.txt       \n",
            "  inflating: glove.6B.300d.txt       \n",
            "  inflating: glove.6B.50d.txt        \n"
          ]
        }
      ]
    },
    {
      "cell_type": "code",
      "source": [
        "#Load GloVe Embeddings\n",
        "print(\"\\n\" + \"=\"*60)\n",
        "print(\"LOADING GLOVE EMBEDDINGS\")\n",
        "print(\"=\"*60)\n",
        "\n",
        "print(\"Loading GloVe embeddings...\")\n",
        "\n",
        "# Load GloVe Embeddings\n",
        "embedding_dict = {}\n",
        "pretrain = open(\"glove.6B.50d.txt\", encoding=\"utf8\")\n",
        "for i in pretrain:\n",
        "    value = i.split(\" \")\n",
        "    word = value[0]\n",
        "    vector = np.asarray(value[1:])\n",
        "    embedding_dict[word] = vector\n",
        "pretrain.close()\n",
        "\n",
        "print(f\"GloVe embeddings loaded: {len(embedding_dict):,} words\")"
      ],
      "metadata": {
        "colab": {
          "base_uri": "https://localhost:8080/"
        },
        "id": "Um2ywrxrC0Fe",
        "outputId": "91c33f4b-6a27-4409-db63-cd0708d4b8da"
      },
      "execution_count": 49,
      "outputs": [
        {
          "output_type": "stream",
          "name": "stdout",
          "text": [
            "\n",
            "============================================================\n",
            "LOADING GLOVE EMBEDDINGS\n",
            "============================================================\n",
            "Loading GloVe embeddings...\n",
            "GloVe embeddings loaded: 400,001 words\n"
          ]
        }
      ]
    },
    {
      "cell_type": "markdown",
      "source": [
        "#### Building the Embedding Matrix"
      ],
      "metadata": {
        "id": "B42koII6DeXM"
      }
    },
    {
      "cell_type": "code",
      "source": [
        "# Create Embedding Matrix\n",
        "print(\"Converting embedding dictionary to embedding matrix...\")\n",
        "\n",
        "# Create embedding matrix\n",
        "emb_matrix = np.zeros((len(tokenizer.word_index)+1, 50))\n",
        "\n",
        "words_found = 0\n",
        "uncovered_words = []\n",
        "\n",
        "for word, i in tokenizer.word_index.items():\n",
        "    emb_word = embedding_dict.get(word)\n",
        "    if emb_word is not None:\n",
        "        emb_matrix[i] = emb_word\n",
        "        words_found += 1\n",
        "    else:\n",
        "        uncovered_words.append(word)\n",
        "\n",
        "coverage_percentage = (words_found / len(tokenizer.word_index)) * 100\n",
        "\n",
        "print(f\"Embedding matrix created:\")\n",
        "print(f\"Matrix shape: {emb_matrix.shape}\")\n",
        "print(f\"Words found in GloVe: {words_found:,} / {len(tokenizer.word_index):,}\")\n",
        "print(f\"Coverage: {coverage_percentage:.2f}%\")\n",
        "\n",
        "# Show uncovered words\n",
        "if uncovered_words:\n",
        "    print(f\"Sample uncovered words: {uncovered_words[:10]}\")"
      ],
      "metadata": {
        "colab": {
          "base_uri": "https://localhost:8080/"
        },
        "id": "S0YXztm9DXSD",
        "outputId": "bd2a7f46-5911-4402-ce42-425e490e4042"
      },
      "execution_count": 50,
      "outputs": [
        {
          "output_type": "stream",
          "name": "stdout",
          "text": [
            "Converting embedding dictionary to embedding matrix...\n",
            "Embedding matrix created:\n",
            "Matrix shape: (18743, 50)\n",
            "Words found in GloVe: 9,962 / 18,742\n",
            "Coverage: 53.15%\n",
            "Sample uncovered words: ['successfull', 'hadnt', 'shouldnt', 'risktaking', 'succed', 'youve', 'heshe', 'theyve', 'selfconfidence', 'risktakers']\n"
          ]
        }
      ]
    },
    {
      "cell_type": "markdown",
      "source": [
        "#### Create Embedding Layer"
      ],
      "metadata": {
        "id": "L_gsy2S9D6U-"
      }
    },
    {
      "cell_type": "code",
      "source": [
        "len(tokenizer.index_word)"
      ],
      "metadata": {
        "colab": {
          "base_uri": "https://localhost:8080/"
        },
        "id": "ld2TRmMDDrVp",
        "outputId": "f036d8a8-d859-4c93-f28e-679542275af8"
      },
      "execution_count": 32,
      "outputs": [
        {
          "output_type": "execute_result",
          "data": {
            "text/plain": [
              "18742"
            ]
          },
          "metadata": {},
          "execution_count": 32
        }
      ]
    },
    {
      "cell_type": "code",
      "source": [
        "#Create Embedding Layer\n",
        "print(\"\\n\" + \"=\"*60)\n",
        "print(\"Create Embedding Layer\")\n",
        "print(\"=\"*60)\n",
        "\n",
        "# Create embedding layer\n",
        "glove_embedding_layer = Embedding(\n",
        "    len(tokenizer.word_index)+1, #padding token at index 0, + 1 ensure our embedding layer can handle all possible token indices without errors.\n",
        "    50,\n",
        "    embeddings_initializer=tf.keras.initializers.Constant(emb_matrix),\n",
        "    trainable=False  # Set to False if you want to freeze the embeddings\n",
        ")\n",
        "\n",
        "print(\"Embedding layer created successfully!\")"
      ],
      "metadata": {
        "colab": {
          "base_uri": "https://localhost:8080/"
        },
        "id": "cCpqHTfeD-hG",
        "outputId": "691bfb02-ebf1-42aa-9882-e20a09359227"
      },
      "execution_count": 91,
      "outputs": [
        {
          "output_type": "stream",
          "name": "stdout",
          "text": [
            "\n",
            "============================================================\n",
            "Create Embedding Layer\n",
            "============================================================\n",
            "Embedding layer created successfully!\n"
          ]
        }
      ]
    },
    {
      "cell_type": "code",
      "source": [
        "# Summary\n",
        "print(\"\\n\" + \"=\"*60)\n",
        "print(\"PREPROCESSING SUMMARY\")\n",
        "print(\"=\"*60)\n",
        "print(f\"Final training data shape: {X_train_padded.shape}\")\n",
        "print(f\"Final validation data shape: {X_val_padded.shape}\")\n",
        "print(f\"Vocabulary size: {len(tokenizer.word_index):,}\")\n",
        "print(f\"Embedding matrix shape: {emb_matrix.shape}\")\n",
        "print(f\"Sequence length: {X_train_padded.shape[1]}\")\n",
        "print(\"Ready for model training!\")"
      ],
      "metadata": {
        "colab": {
          "base_uri": "https://localhost:8080/"
        },
        "id": "tTBcXsNfEND_",
        "outputId": "2e25326f-7451-46ec-de8d-9653c7bbd5eb"
      },
      "execution_count": 52,
      "outputs": [
        {
          "output_type": "stream",
          "name": "stdout",
          "text": [
            "\n",
            "============================================================\n",
            "PREPROCESSING SUMMARY\n",
            "============================================================\n",
            "Final training data shape: (2982, 220)\n",
            "Final validation data shape: (746, 220)\n",
            "Vocabulary size: 18,742\n",
            "Embedding matrix shape: (18743, 50)\n",
            "Sequence length: 220\n",
            "Ready for model training!\n"
          ]
        }
      ]
    },
    {
      "cell_type": "markdown",
      "source": [
        "### FastText Embedding"
      ],
      "metadata": {
        "id": "SgCdi500R2Hp"
      }
    },
    {
      "cell_type": "code",
      "source": [
        "from gensim.models import FastText\n",
        "\n",
        "# Training FastText model\n",
        "fasttext_model = FastText(sentences=tokenized_sentences_train, vector_size=100, window=5, min_count=2, workers=4, sg=0)\n",
        "\n",
        "# Example usage: getting embeddings for a word\n",
        "word_embedding = fasttext_model.wv['computer']\n",
        "\n",
        "# Most similar words to a given word\n",
        "similar_words = fasttext_model.wv.most_similar('computer')\n",
        "\n",
        "print(\"Most similar words to 'computer':\", similar_words)\n",
        "\n",
        "embedding_dict = dict({})\n",
        "for idx, key in enumerate(fasttext_model.wv.key_to_index.keys()):\n",
        "    embedding_dict[key] = fasttext_model.wv[key]"
      ],
      "metadata": {
        "colab": {
          "base_uri": "https://localhost:8080/"
        },
        "id": "IOnrO_ysR4N-",
        "outputId": "ee851cba-368f-45ea-cac3-730a79826f90"
      },
      "execution_count": 147,
      "outputs": [
        {
          "output_type": "stream",
          "name": "stdout",
          "text": [
            "Most similar words to 'computer': [('compute', 0.9775287508964539), ('computerize', 0.9682368040084839), ('later', 0.9297431111335754), ('software', 0.9117178320884705), ('programer', 0.9086176753044128), ('programmer', 0.904893159866333), ('msdos', 0.8981128931045532), ('engineer', 0.8964751958847046), ('bug', 0.8960717916488647), ('water', 0.8929591178894043)]\n"
          ]
        }
      ]
    },
    {
      "cell_type": "code",
      "source": [
        "# summarize vocabulary size in model\n",
        "words = list(fasttext_model.wv.key_to_index.keys())\n",
        "print('Vocabulary size: %d' % len(words))"
      ],
      "metadata": {
        "colab": {
          "base_uri": "https://localhost:8080/"
        },
        "id": "X7xLrDzVZu1u",
        "outputId": "b774dcbf-6f67-4959-86e0-380c679431cb"
      },
      "execution_count": 148,
      "outputs": [
        {
          "output_type": "stream",
          "name": "stdout",
          "text": [
            "Vocabulary size: 8277\n"
          ]
        }
      ]
    },
    {
      "cell_type": "markdown",
      "source": [
        "#### Create Embedding Matrix"
      ],
      "metadata": {
        "id": "Y7QGTOIZoEx1"
      }
    },
    {
      "cell_type": "code",
      "source": [
        "# Create Embedding Matrix\n",
        "print(\"Converting embedding dictionary to embedding matrix...\")\n",
        "\n",
        "# Create embedding matrix\n",
        "emb_matrix = np.zeros((vocab_size, 100))\n",
        "\n",
        "words_found = 0\n",
        "uncovered_words = []\n",
        "\n",
        "for word, i in tokenizer.word_index.items():\n",
        "    emb_word = embedding_dict.get(word)\n",
        "    if emb_word is not None:\n",
        "        emb_matrix[i] = emb_word\n",
        "        words_found += 1\n",
        "    else:\n",
        "        uncovered_words.append(word)\n",
        "\n",
        "coverage_percentage = (words_found / len(tokenizer.word_index)) * 100\n",
        "\n",
        "print(f\"Embedding matrix created:\")\n",
        "print(f\"Matrix shape: {emb_matrix.shape}\")\n",
        "print(f\"Words found in FastText: {words_found:,} / {len(tokenizer.word_index):,}\")\n",
        "print(f\"Coverage: {coverage_percentage:.2f}%\")\n",
        "\n",
        "# Show uncovered words\n",
        "if uncovered_words:\n",
        "    print(f\"Sample uncovered words: {uncovered_words[:10]}\")"
      ],
      "metadata": {
        "colab": {
          "base_uri": "https://localhost:8080/"
        },
        "id": "J_hWFIMFoGvc",
        "outputId": "592d0c57-1d6f-4405-a3af-9f6313a34622"
      },
      "execution_count": 149,
      "outputs": [
        {
          "output_type": "stream",
          "name": "stdout",
          "text": [
            "Converting embedding dictionary to embedding matrix...\n",
            "Embedding matrix created:\n",
            "Matrix shape: (18743, 100)\n",
            "Words found in FastText: 8,277 / 18,742\n",
            "Coverage: 44.16%\n",
            "Sample uncovered words: ['politely', 'workmate', 'wiew', 'manegerial', 'thinh', 'stead', 'announcement', 'somethoing', 'hget', 'culd']\n"
          ]
        }
      ]
    },
    {
      "cell_type": "markdown",
      "source": [
        "#### Create Embedding Layer"
      ],
      "metadata": {
        "id": "4mz44Doei2Sj"
      }
    },
    {
      "cell_type": "code",
      "source": [
        "#Create Embedding Layer\n",
        "print(\"\\n\" + \"=\"*60)\n",
        "print(\"Create Embedding Layer\")\n",
        "print(\"=\"*60)\n",
        "\n",
        "# Create embedding layer\n",
        "ft_embedding_layer = Embedding(\n",
        "    vocab_size, #padding token at index 0, + 1 ensure our embedding layer can handle all possible token indices without errors.\n",
        "    100,\n",
        "    embeddings_initializer=tf.keras.initializers.Constant(emb_matrix),\n",
        "    trainable=False  # Set to False if you want to freeze the embeddings\n",
        ")\n",
        "\n",
        "print(\"Embedding layer created successfully!\")"
      ],
      "metadata": {
        "colab": {
          "base_uri": "https://localhost:8080/"
        },
        "id": "NdnBL0XmohGO",
        "outputId": "1046d3e2-606f-4c0d-8e59-c1175fd7cf3d"
      },
      "execution_count": 150,
      "outputs": [
        {
          "output_type": "stream",
          "name": "stdout",
          "text": [
            "\n",
            "============================================================\n",
            "Create Embedding Layer\n",
            "============================================================\n",
            "Embedding layer created successfully!\n"
          ]
        }
      ]
    },
    {
      "cell_type": "markdown",
      "source": [
        "# **5. Deep Learning Model Training and Testing**\n",
        "\n",
        "We will train and test Deep Learning algorithms by feeding them word embeddings data that has been vectorized using `Glove`.\n",
        "\n",
        "* Convolutional Neural Networks (CNN)\n",
        "* Recurrent Neural Networks (RNN)\n",
        "* Long Short-Term Memory (LSTM)"
      ],
      "metadata": {
        "id": "iFe7YdG_EbSw"
      }
    },
    {
      "cell_type": "markdown",
      "source": [
        "### CNN Model"
      ],
      "metadata": {
        "id": "WflyxOO3Xhfh"
      }
    },
    {
      "cell_type": "code",
      "source": [
        "# define CNN model with word2vec embedding\n",
        "w2v_cnn_model = Sequential()\n",
        "w2v_cnn_model.add(w2v_embedding_layer)\n",
        "w2v_cnn_model.add(Conv1D(filters=128, kernel_size=5, activation='relu'))\n",
        "w2v_cnn_model.add(MaxPooling1D(pool_size=2))\n",
        "w2v_cnn_model.add(Flatten())\n",
        "w2v_cnn_model.add(Dense(1, activation='sigmoid'))"
      ],
      "metadata": {
        "id": "n7Vz4u9zEP3W"
      },
      "execution_count": 152,
      "outputs": []
    },
    {
      "cell_type": "code",
      "source": [
        "# compile network\n",
        "w2v_cnn_model.compile(loss='binary_crossentropy', optimizer='adam', metrics=['accuracy'])\n",
        "# fit network\n",
        "w2v_cnn_model.fit(X_train_padded, y_train, epochs=10, verbose=2)\n",
        "# evaluate\n",
        "w2v_loss, w2v_acc = w2v_cnn_model.evaluate(X_val_padded, y_val, verbose=0)\n",
        "print('Test Accuracy: %f' % (w2v_acc*100))"
      ],
      "metadata": {
        "colab": {
          "base_uri": "https://localhost:8080/"
        },
        "id": "B5NVm3_WX_OY",
        "outputId": "5bf557b3-1dcf-404b-cd39-eadfabe61d92"
      },
      "execution_count": 153,
      "outputs": [
        {
          "output_type": "stream",
          "name": "stdout",
          "text": [
            "Epoch 1/10\n",
            "94/94 - 10s - 112ms/step - accuracy: 0.7072 - loss: 0.5524\n",
            "Epoch 2/10\n",
            "94/94 - 8s - 89ms/step - accuracy: 0.8635 - loss: 0.3113\n",
            "Epoch 3/10\n",
            "94/94 - 9s - 97ms/step - accuracy: 0.9209 - loss: 0.2144\n",
            "Epoch 4/10\n",
            "94/94 - 6s - 64ms/step - accuracy: 0.9423 - loss: 0.1584\n",
            "Epoch 5/10\n",
            "94/94 - 6s - 65ms/step - accuracy: 0.9759 - loss: 0.0937\n",
            "Epoch 6/10\n",
            "94/94 - 5s - 52ms/step - accuracy: 0.9923 - loss: 0.0485\n",
            "Epoch 7/10\n",
            "94/94 - 7s - 79ms/step - accuracy: 0.9983 - loss: 0.0336\n",
            "Epoch 8/10\n",
            "94/94 - 5s - 51ms/step - accuracy: 0.9993 - loss: 0.0169\n",
            "Epoch 9/10\n",
            "94/94 - 6s - 69ms/step - accuracy: 1.0000 - loss: 0.0093\n",
            "Epoch 10/10\n",
            "94/94 - 10s - 103ms/step - accuracy: 1.0000 - loss: 0.0064\n",
            "Test Accuracy: 87.131369\n"
          ]
        }
      ]
    },
    {
      "cell_type": "code",
      "source": [
        "# define CNN model with gloVe embedding\n",
        "glove_cnn_model = Sequential()\n",
        "glove_cnn_model.add(glove_embedding_layer)\n",
        "glove_cnn_model.add(Conv1D(filters=128, kernel_size=5, activation='relu'))\n",
        "glove_cnn_model.add(MaxPooling1D(pool_size=2))\n",
        "glove_cnn_model.add(Flatten())\n",
        "glove_cnn_model.add(Dense(1, activation='sigmoid'))"
      ],
      "metadata": {
        "id": "CBrkvQaYZH7s"
      },
      "execution_count": 154,
      "outputs": []
    },
    {
      "cell_type": "code",
      "source": [
        "# compile network\n",
        "glove_cnn_model.compile(loss='binary_crossentropy', optimizer='adam', metrics=['accuracy'])\n",
        "# fit network\n",
        "glove_cnn_model.fit(X_train_padded, y_train, epochs=10, verbose=2)\n",
        "# evaluate\n",
        "glove_loss, glove_acc = glove_cnn_model.evaluate(X_val_padded, y_val, verbose=0)\n",
        "print('Test Accuracy: %f' % (glove_acc*100))"
      ],
      "metadata": {
        "colab": {
          "base_uri": "https://localhost:8080/"
        },
        "id": "Rr7hhAo7guuL",
        "outputId": "8bc6bd39-3280-40d8-ede0-273acaee971b"
      },
      "execution_count": 155,
      "outputs": [
        {
          "output_type": "stream",
          "name": "stdout",
          "text": [
            "Epoch 1/10\n",
            "94/94 - 5s - 49ms/step - accuracy: 0.6395 - loss: 0.6480\n",
            "Epoch 2/10\n",
            "94/94 - 5s - 55ms/step - accuracy: 0.8524 - loss: 0.3766\n",
            "Epoch 3/10\n",
            "94/94 - 5s - 58ms/step - accuracy: 0.9195 - loss: 0.2457\n",
            "Epoch 4/10\n",
            "94/94 - 3s - 33ms/step - accuracy: 0.9520 - loss: 0.1626\n",
            "Epoch 5/10\n",
            "94/94 - 5s - 54ms/step - accuracy: 0.9863 - loss: 0.0930\n",
            "Epoch 6/10\n",
            "94/94 - 8s - 80ms/step - accuracy: 0.9940 - loss: 0.0628\n",
            "Epoch 7/10\n",
            "94/94 - 8s - 83ms/step - accuracy: 0.9993 - loss: 0.0357\n",
            "Epoch 8/10\n",
            "94/94 - 4s - 43ms/step - accuracy: 1.0000 - loss: 0.0208\n",
            "Epoch 9/10\n",
            "94/94 - 5s - 52ms/step - accuracy: 1.0000 - loss: 0.0152\n",
            "Epoch 10/10\n",
            "94/94 - 3s - 33ms/step - accuracy: 1.0000 - loss: 0.0112\n",
            "Test Accuracy: 82.975870\n"
          ]
        }
      ]
    },
    {
      "cell_type": "code",
      "source": [
        "# define CNN model with FastText embedding\n",
        "ft_cnn_model = Sequential()\n",
        "ft_cnn_model.add(ft_embedding_layer)\n",
        "ft_cnn_model.add(Conv1D(filters=128, kernel_size=5, activation='relu'))\n",
        "ft_cnn_model.add(MaxPooling1D(pool_size=2))\n",
        "ft_cnn_model.add(Flatten())\n",
        "ft_cnn_model.add(Dense(1, activation='sigmoid'))"
      ],
      "metadata": {
        "id": "k_lO2kdEh8Ic"
      },
      "execution_count": 156,
      "outputs": []
    },
    {
      "cell_type": "code",
      "source": [
        "# compile network\n",
        "ft_cnn_model.compile(loss='binary_crossentropy', optimizer='adam', metrics=['accuracy'])\n",
        "# fit network\n",
        "ft_cnn_model.fit(X_train_padded, y_train, epochs=10, verbose=2)\n",
        "# evaluate\n",
        "ft_loss, ft_acc = ft_cnn_model.evaluate(X_val_padded, y_val, verbose=0)\n",
        "print('Test Accuracy: %f' % (ft_acc*100))"
      ],
      "metadata": {
        "colab": {
          "base_uri": "https://localhost:8080/"
        },
        "id": "qEFXx9yWkm7i",
        "outputId": "f6b1ef94-ec8f-4c0b-b546-064b5344db6d"
      },
      "execution_count": 157,
      "outputs": [
        {
          "output_type": "stream",
          "name": "stdout",
          "text": [
            "Epoch 1/10\n",
            "94/94 - 10s - 102ms/step - accuracy: 0.7096 - loss: 0.5521\n",
            "Epoch 2/10\n",
            "94/94 - 5s - 51ms/step - accuracy: 0.8581 - loss: 0.3112\n",
            "Epoch 3/10\n",
            "94/94 - 5s - 57ms/step - accuracy: 0.9168 - loss: 0.2220\n",
            "Epoch 4/10\n",
            "94/94 - 8s - 87ms/step - accuracy: 0.9470 - loss: 0.1508\n",
            "Epoch 5/10\n",
            "94/94 - 5s - 52ms/step - accuracy: 0.9802 - loss: 0.0867\n",
            "Epoch 6/10\n",
            "94/94 - 7s - 77ms/step - accuracy: 0.9903 - loss: 0.0555\n",
            "Epoch 7/10\n",
            "94/94 - 8s - 83ms/step - accuracy: 0.9953 - loss: 0.0367\n",
            "Epoch 8/10\n",
            "94/94 - 8s - 82ms/step - accuracy: 0.9997 - loss: 0.0183\n",
            "Epoch 9/10\n",
            "94/94 - 8s - 82ms/step - accuracy: 1.0000 - loss: 0.0121\n",
            "Epoch 10/10\n",
            "94/94 - 7s - 79ms/step - accuracy: 1.0000 - loss: 0.0076\n",
            "Test Accuracy: 84.584451\n"
          ]
        }
      ]
    },
    {
      "cell_type": "code",
      "source": [
        "# Embeddings Accuracy comparison\n",
        "print(\"\\n\" + \"=\"*45)\n",
        "print(\"EMBEDDINGS ACCURACY COMPARISON\")\n",
        "print(\"=\"*45)\n",
        "\n",
        "print(f\"{'Embedding':<20} {'Accuracy':<10} {'Loss':<12}\")\n",
        "print(\"-\" * 45)\n",
        "print(f\"{'Word2Vec':<20} {(w2v_acc*100):.2f}     {(w2v_loss*100):.2f}\")\n",
        "print(f\"{'GloVe':<20} {(glove_acc*100):.2f}     {(glove_loss*100):.2f}\")\n",
        "print(f\"{'FastText':<20} {(ft_acc*100):.2f}     {(ft_loss*100):.2f}\")"
      ],
      "metadata": {
        "colab": {
          "base_uri": "https://localhost:8080/"
        },
        "id": "-IqgQdNSk0Ng",
        "outputId": "d74d0c11-3067-470a-ef90-d0398b4e4efc"
      },
      "execution_count": 163,
      "outputs": [
        {
          "output_type": "stream",
          "name": "stdout",
          "text": [
            "\n",
            "=============================================\n",
            "EMBEDDINGS ACCURACY COMPARISON\n",
            "=============================================\n",
            "Embedding            Accuracy   Loss        \n",
            "---------------------------------------------\n",
            "Word2Vec             87.13     42.00\n",
            "GloVe                82.98     44.31\n",
            "FastText             84.58     47.58\n"
          ]
        }
      ]
    },
    {
      "cell_type": "markdown",
      "source": [
        "From Testing, Word2Vec embedding resulted in the highest accuracy with the lowest loss across 10 epochs, so we will continue with using Word2Vec embedding for the CNN model."
      ],
      "metadata": {
        "id": "HhsP5bW1qct9"
      }
    },
    {
      "cell_type": "code",
      "source": [
        "# assigning final CNN model\n",
        "cnn_model = w2v_cnn_model"
      ],
      "metadata": {
        "id": "b7CfL7ZsmA8n"
      },
      "execution_count": 164,
      "outputs": []
    },
    {
      "cell_type": "markdown",
      "source": [
        "### RNN Model"
      ],
      "metadata": {
        "id": "eVzMSSnlq-Co"
      }
    },
    {
      "cell_type": "code",
      "source": [],
      "metadata": {
        "id": "79x3l-iNq9Os"
      },
      "execution_count": null,
      "outputs": []
    }
  ]
}